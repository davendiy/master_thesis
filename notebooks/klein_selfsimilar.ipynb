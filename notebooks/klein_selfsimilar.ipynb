{
 "cells": [
  {
   "cell_type": "code",
   "execution_count": 3,
   "id": "f51adc7e",
   "metadata": {},
   "outputs": [
    {
     "data": {
      "text/plain": [
       "true"
      ]
     },
     "execution_count": 3,
     "metadata": {},
     "output_type": "execute_result"
    }
   ],
   "source": [
    "gap(f'LoadPackage(\"Cryst\");')"
   ]
  },
  {
   "cell_type": "code",
   "execution_count": 5,
   "id": "27ffa652",
   "metadata": {},
   "outputs": [],
   "source": [
    "G = gap(\"SpaceGroupOnLeftIT(2, 4)\")"
   ]
  },
  {
   "cell_type": "code",
   "execution_count": 7,
   "id": "9128e3e5",
   "metadata": {},
   "outputs": [
    {
     "data": {
      "text/plain": [
       "[\n",
       "[ -1   0   0]  [1 0 1]  [1 0 0]\n",
       "[  0   1 1/2]  [0 1 0]  [0 1 1]\n",
       "[  0   0   1], [0 0 1], [0 0 1]\n",
       "]"
      ]
     },
     "execution_count": 7,
     "metadata": {},
     "output_type": "execute_result"
    }
   ],
   "source": [
    "gens = [matrix(QQ, el) for el in G.GeneratorsOfGroup()]\n",
    "gens"
   ]
  },
  {
   "cell_type": "code",
   "execution_count": 8,
   "id": "79aeae1d",
   "metadata": {},
   "outputs": [],
   "source": [
    "a = gens[1]\n",
    "b = gens[0]"
   ]
  },
  {
   "cell_type": "code",
   "execution_count": 10,
   "id": "d91d6644",
   "metadata": {},
   "outputs": [
    {
     "data": {
      "text/plain": [
       "Group([ [ [ 1, 0, 1 ], [ 0, 1, 0 ], [ 0, 0, 1 ] ], \n",
       "  [ [ 1, 0, 0 ], [ 0, 1, 2 ], [ 0, 0, 1 ] ] ])"
      ]
     },
     "execution_count": 10,
     "metadata": {},
     "output_type": "execute_result"
    }
   ],
   "source": [
    "H = G.Subgroup([a, b^4])\n",
    "H"
   ]
  },
  {
   "cell_type": "code",
   "execution_count": 12,
   "id": "cfbbc2b0",
   "metadata": {},
   "outputs": [
    {
     "data": {
      "text/plain": [
       "[\n",
       "[1 0 0]  [ -1   0   0]  [1 0 0]  [ -1   0   0]\n",
       "[0 1 0]  [  0   1 1/2]  [0 1 1]  [  0   1 3/2]\n",
       "[0 0 1], [  0   0   1], [0 0 1], [  0   0   1]\n",
       "]"
      ]
     },
     "execution_count": 12,
     "metadata": {},
     "output_type": "execute_result"
    }
   ],
   "source": [
    "trans = [matrix(QQ, el) for el in G.RightTransversal(H)]\n",
    "trans"
   ]
  },
  {
   "cell_type": "code",
   "execution_count": 27,
   "id": "ea13a45f",
   "metadata": {},
   "outputs": [
    {
     "data": {
      "text/plain": [
       "[2, 3/2]"
      ]
     },
     "execution_count": 27,
     "metadata": {},
     "output_type": "execute_result"
    }
   ],
   "source": [
    "q = matrix(QQ, [[3/2, 1], [0, 2]])\n",
    "q.eigenvalues()"
   ]
  },
  {
   "cell_type": "code",
   "execution_count": 28,
   "id": "c4702680",
   "metadata": {},
   "outputs": [
    {
     "data": {
      "text/plain": [
       "[(2,\n",
       "  [\n",
       "  (1, 1/2)\n",
       "  ],\n",
       "  1),\n",
       " (3/2,\n",
       "  [\n",
       "  (1, 0)\n",
       "  ],\n",
       "  1)]"
      ]
     },
     "execution_count": 28,
     "metadata": {},
     "output_type": "execute_result"
    }
   ],
   "source": [
    "q.eigenvectors_right()"
   ]
  },
  {
   "cell_type": "code",
   "execution_count": 15,
   "id": "266d2465",
   "metadata": {},
   "outputs": [
    {
     "data": {
      "text/plain": [
       "[  2   0   0]\n",
       "[1/2 3/2   0]\n",
       "[  0   0   1]"
      ]
     },
     "execution_count": 15,
     "metadata": {},
     "output_type": "execute_result"
    }
   ],
   "source": [
    "q = matrix(QQ, [[2, 0, 0], [1/2, 3/2, 0], [0, 0, 1]])\n",
    "q"
   ]
  },
  {
   "cell_type": "code",
   "execution_count": 23,
   "id": "f7c53fe5",
   "metadata": {},
   "outputs": [
    {
     "data": {
      "text/plain": [
       "[1 0 0]\n",
       "[0 1 3]\n",
       "[0 0 1]"
      ]
     },
     "execution_count": 23,
     "metadata": {},
     "output_type": "execute_result"
    }
   ],
   "source": [
    "q * b^4 * q^(-1)"
   ]
  }
 ],
 "metadata": {
  "kernelspec": {
   "display_name": "SageMath 9.7",
   "language": "sage",
   "name": "sagemath-dev"
  },
  "language_info": {
   "codemirror_mode": {
    "name": "ipython",
    "version": 3
   },
   "file_extension": ".py",
   "mimetype": "text/x-python",
   "name": "python",
   "nbconvert_exporter": "python",
   "pygments_lexer": "ipython3",
   "version": "3.8.10"
  }
 },
 "nbformat": 4,
 "nbformat_minor": 5
}
