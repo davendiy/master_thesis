{
 "cells": [
  {
   "cell_type": "code",
   "execution_count": 8,
   "metadata": {},
   "outputs": [],
   "source": [
    "from itertools import permutations \n",
    "\n",
    "gap('LoadPackage(\"Cryst\")')\n",
    "var('a,b,c,d')\n",
    "\n",
    "A = matrix([[a, b], [c, d]])"
   ]
  },
  {
   "cell_type": "code",
   "execution_count": null,
   "metadata": {},
   "outputs": [],
   "source": [
    "def check_permutation(perm, subgroup): \n",
    "    \"\"\"Check whether permutation maps elements with same order.\"\"\"\n",
    "    check = True \n",
    "    for i in range(len(s_elements)):\n",
    "        if subgroup.AsList()[i + 1].Order() != subgroup.AsList()[perm[i] + 1].Order(): \n",
    "            check = False \n",
    "            break \n",
    "    return check \n",
    "\n",
    "\n",
    "def normalizer_v1(subgroup):\n",
    "    s_elements = [matrix(QQ, el) for el in subgroup.AsList()]\n",
    "    \n",
    "    conditions = []\n",
    "    for perm in permutations(range(len(s_elements))):\n",
    "        if not check_permutation(perm, subgroup):\n",
    "            continue\n",
    "        \n",
    "        cond_perm = set()\n",
    "        for i in range(len(s_elements)):\n",
    "            cond_i = A * s_elements[i] - s_elements[perm[i]] * A\n",
    "            for el in cond_i: \n",
    "                cond_perm = cond_perm.union(set(el))\n",
    "    \n",
    "        eq = [cond == 0 for cond in cond_perm]\n",
    "        res = solve(eq, a, b, c, d)\n",
    "        \n",
    "        if \n",
    "        print(set([tuple(el) for el in solve(eq, a, b, c, d)]))"
   ]
  }
 ],
 "metadata": {
  "kernelspec": {
   "display_name": "SageMath 9.0",
   "language": "sage",
   "name": "sagemath"
  },
  "language_info": {
   "codemirror_mode": {
    "name": "ipython",
    "version": 3
   },
   "file_extension": ".py",
   "mimetype": "text/x-python",
   "name": "python",
   "nbconvert_exporter": "python",
   "pygments_lexer": "ipython3",
   "version": "3.8.10"
  }
 },
 "nbformat": 4,
 "nbformat_minor": 4
}
