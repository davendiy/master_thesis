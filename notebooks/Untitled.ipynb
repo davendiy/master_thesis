{
 "cells": [
  {
   "cell_type": "code",
   "execution_count": 1,
   "id": "7bc9987e-0db6-496b-a493-453f1fd14e38",
   "metadata": {},
   "outputs": [],
   "source": [
    "import sys\n",
    "if '../working' not in sys.path: \n",
    "    sys.path.append('../working')\n",
    "\n",
    "!sage -preparse ../working/normalizer.sage\n",
    "!mv ../working/normalizer.sage.py ../working/normalizer.py\n",
    "\n",
    "!sage -preparse ../working/self_similar.sage\n",
    "!mv ../working/self_similar.sage.py ../working/self_similar.py\n"
   ]
  },
  {
   "cell_type": "code",
   "execution_count": 2,
   "id": "e8348e50-8ea9-489c-94b4-4f74d98762f4",
   "metadata": {},
   "outputs": [],
   "source": [
    "from normalizer import *\n",
    "from self_similar import *\n",
    "prepare_gap_env()"
   ]
  },
  {
   "cell_type": "code",
   "execution_count": 30,
   "id": "7dc25bd0-7c0d-44ea-8046-090a4594d83e",
   "metadata": {},
   "outputs": [
    {
     "data": {
      "text/plain": [
       "[\n",
       "[ 0 x0]  [  0  x0]  [-x0  x0]  [-x0   0]  [ x0  x0]  [ x0 -x0]\n",
       "[x0  0], [-x0   0], [ x0  x0], [  0  x0], [-x0  x0], [ x0  x0],\n",
       "\n",
       "[-x0 -x0]  [x0  0]\n",
       "[-x0  x0], [ 0 x0]\n",
       "]"
      ]
     },
     "execution_count": 30,
     "metadata": {},
     "output_type": "execute_result"
    }
   ],
   "source": [
    "normalizers(12, dim=2)"
   ]
  },
  {
   "cell_type": "code",
   "execution_count": 3,
   "id": "7e9a7fce-f824-4d6f-bf41-67e6b5e80ee2",
   "metadata": {},
   "outputs": [
    {
     "data": {
      "text/plain": [
       "[\n",
       "[-1  0  0]  [ 0 -1  0]  [ -1   0 1/2]  [1 0 1]  [1 0 0]\n",
       "[ 0 -1  0]  [ 1  0  0]  [  0   1 1/2]  [0 1 0]  [0 1 1]\n",
       "[ 0  0  1], [ 0  0  1], [  0   0   1], [0 0 1], [0 0 1]\n",
       "]"
      ]
     },
     "execution_count": 3,
     "metadata": {},
     "output_type": "execute_result"
    }
   ],
   "source": [
    "G = gap(f'SpaceGroupOnLeftIT(2, 12)')\n",
    "gens = G.GeneratorsOfGroup()\n",
    "gens = [matrix(QQ, el) for el in gens]\n",
    "gens"
   ]
  },
  {
   "cell_type": "code",
   "execution_count": 4,
   "id": "3b9fdb2d-c548-409a-89ed-9a1f4ae1323c",
   "metadata": {},
   "outputs": [
    {
     "name": "stdout",
     "output_type": "stream",
     "text": [
      "[1 0 0]\n",
      "[0 1 0]\n",
      "[0 0 1]\n",
      "\n",
      "[ 0  1  0]\n",
      "[-1  0  0]\n",
      "[ 0  0  1]\n",
      "\n",
      "[   1    0 -1/2]\n",
      "[   0   -1 -1/2]\n",
      "[   0    0    1]\n",
      "\n",
      "[-1  0 -1]\n",
      "[ 0 -1  0]\n",
      "[ 0  0  1]\n",
      "\n",
      "[   0   -1 -1/2]\n",
      "[  -1    0  1/2]\n",
      "[   0    0    1]\n",
      "\n",
      "[ 0 -1  0]\n",
      "[ 1  0  1]\n",
      "[ 0  0  1]\n",
      "\n",
      "[  0   1 1/2]\n",
      "[  1   0 1/2]\n",
      "[  0   0   1]\n",
      "\n",
      "[  -1    0 -1/2]\n",
      "[   0    1  1/2]\n",
      "[   0    0    1]\n",
      "\n"
     ]
    }
   ],
   "source": [
    "alpha = {}\n",
    "for x in gens:\n",
    "    for y in gens: \n",
    "        el = x * y\n",
    "        g = el[:2, :2]\n",
    "        t = el[:2, 2]\n",
    "        if str(g) not in alpha:\n",
    "            alpha[str(g)] = t\n",
    "            print(el)\n",
    "            print()"
   ]
  },
  {
   "cell_type": "code",
   "execution_count": 5,
   "id": "c6c0b8dc-5a59-424e-a259-3484f898feb2",
   "metadata": {},
   "outputs": [
    {
     "data": {
      "text/plain": [
       "[\n",
       "[1 0]  [-1  0]  [ 0  1]  [ 0 -1]  [ 1  0]  [-1  0]  [0 1]  [ 0 -1]\n",
       "[0 1], [ 0 -1], [-1  0], [ 1  0], [ 0 -1], [ 0  1], [1 0], [-1  0]\n",
       "]"
      ]
     },
     "execution_count": 5,
     "metadata": {},
     "output_type": "execute_result"
    }
   ],
   "source": [
    "P = G.PointGroup()\n",
    "P = [matrix(QQ, el) for el in P.AsList()]\n",
    "P"
   ]
  },
  {
   "cell_type": "code",
   "execution_count": 25,
   "id": "cd5e1e47-e26a-41f0-993a-59f55593147f",
   "metadata": {},
   "outputs": [
    {
     "data": {
      "text/plain": [
       "(a, b)"
      ]
     },
     "execution_count": 25,
     "metadata": {},
     "output_type": "execute_result"
    }
   ],
   "source": [
    "var('a b')"
   ]
  },
  {
   "cell_type": "code",
   "execution_count": 59,
   "id": "1110de2a-5bd7-4322-af0c-22144b90c290",
   "metadata": {},
   "outputs": [],
   "source": [
    "A = matrix(QQ, [[-2, 2], [2, 2]])\n",
    "x = matrix([[a], [b]])\n",
    "E = matrix(QQ, [[1, 0], [0, 1]])"
   ]
  },
  {
   "cell_type": "code",
   "execution_count": 60,
   "id": "18b9cc6f-07e3-4a57-8991-b7186dde5fc5",
   "metadata": {},
   "outputs": [],
   "source": [
    "for p in P: \n",
    "    assert str(A.inverse() * p * A) in alpha, 'not in normalizer'"
   ]
  },
  {
   "cell_type": "code",
   "execution_count": 61,
   "id": "55fd4c8b-b1a6-44e8-b69a-97033dd8261a",
   "metadata": {},
   "outputs": [
    {
     "ename": "ValueError",
     "evalue": "Bad matrix T, there is no virtual endomorphism",
     "output_type": "error",
     "traceback": [
      "\u001b[0;31m---------------------------------------------------------------------------\u001b[0m",
      "\u001b[0;31mValueError\u001b[0m                                Traceback (most recent call last)",
      "Cell \u001b[0;32mIn[61], line 3\u001b[0m\n\u001b[1;32m      1\u001b[0m t \u001b[38;5;241m=\u001b[39m matrix(QQ, [[Integer(\u001b[38;5;241m0\u001b[39m)], [Integer(\u001b[38;5;241m0\u001b[39m)]])\n\u001b[1;32m      2\u001b[0m t \u001b[38;5;241m=\u001b[39m block_matrix([[A, t], [Integer(\u001b[38;5;241m0\u001b[39m), Integer(\u001b[38;5;241m1\u001b[39m)]])\n\u001b[0;32m----> 3\u001b[0m \u001b[43mself_similar\u001b[49m\u001b[43m(\u001b[49m\u001b[43mInteger\u001b[49m\u001b[43m(\u001b[49m\u001b[38;5;241;43m12\u001b[39;49m\u001b[43m)\u001b[49m\u001b[43m,\u001b[49m\u001b[43m \u001b[49m\u001b[43mt\u001b[49m\u001b[43m,\u001b[49m\u001b[43m \u001b[49m\u001b[43mdim\u001b[49m\u001b[38;5;241;43m=\u001b[39;49m\u001b[43mInteger\u001b[49m\u001b[43m(\u001b[49m\u001b[38;5;241;43m2\u001b[39;49m\u001b[43m)\u001b[49m\u001b[43m,\u001b[49m\u001b[43m \u001b[49m\u001b[43mgen_alphabet\u001b[49m\u001b[38;5;241;43m=\u001b[39;49m\u001b[38;5;28;43;01mTrue\u001b[39;49;00m\u001b[43m)\u001b[49m\n",
      "File \u001b[0;32m~/Documents/phd/master_thesis/notebooks/../working/self_similar.py:181\u001b[0m, in \u001b[0;36mself_similar\u001b[0;34m(n, T, dim, verbose, gen_alphabet, safe, change_basis, deep)\u001b[0m\n\u001b[1;32m    179\u001b[0m     \u001b[38;5;28mprint\u001b[39m(\u001b[38;5;124m\"\u001b[39m\u001b[38;5;124mconj in G:\u001b[39m\u001b[38;5;124m\"\u001b[39m, conj \u001b[38;5;129;01min\u001b[39;00m G)\n\u001b[1;32m    180\u001b[0m \u001b[38;5;28;01mif\u001b[39;00m conj \u001b[38;5;129;01mnot\u001b[39;00m \u001b[38;5;129;01min\u001b[39;00m G \u001b[38;5;129;01mand\u001b[39;00m safe:\n\u001b[0;32m--> 181\u001b[0m     \u001b[38;5;28;01mraise\u001b[39;00m \u001b[38;5;167;01mValueError\u001b[39;00m(\u001b[38;5;124m\"\u001b[39m\u001b[38;5;124mBad matrix T, there is no virtual endomorphism\u001b[39m\u001b[38;5;124m\"\u001b[39m)\n\u001b[1;32m    182\u001b[0m \u001b[38;5;28;01melif\u001b[39;00m conj \u001b[38;5;129;01mnot\u001b[39;00m \u001b[38;5;129;01min\u001b[39;00m G:\n\u001b[1;32m    183\u001b[0m     \u001b[38;5;28mprint\u001b[39m(\u001b[38;5;124m\"\u001b[39m\u001b[38;5;124mBad matrix T, there is no virtual endomorphism\u001b[39m\u001b[38;5;124m\"\u001b[39m)\n",
      "\u001b[0;31mValueError\u001b[0m: Bad matrix T, there is no virtual endomorphism"
     ]
    }
   ],
   "source": [
    "t = matrix(QQ, [[0], [0]])\n",
    "t = block_matrix([[A, t], [0, 1]])\n",
    "self_similar(12, t, dim=2, gen_alphabet=True)"
   ]
  },
  {
   "cell_type": "code",
   "execution_count": 62,
   "id": "66a9f28e-89f1-4ec8-a49e-f290925c165e",
   "metadata": {},
   "outputs": [
    {
     "name": "stdout",
     "output_type": "stream",
     "text": [
      "[0]\n",
      "[0]\n",
      "[0]\n",
      "[0]\n",
      "\n",
      "[-2*a]\n",
      "[-2*b]\n",
      "[ 5/4]\n",
      "[-1/4]\n",
      "\n",
      "[-a - b]\n",
      "[ a - b]\n",
      "[ 0]\n",
      "[-1]\n",
      "\n",
      "[-a + b]\n",
      "[-a - b]\n",
      "[1/4]\n",
      "[1/4]\n",
      "\n",
      "[-a - b]\n",
      "[-a - b]\n",
      "[ 1/2]\n",
      "[-3/4]\n",
      "\n",
      "[-a + b]\n",
      "[ a - b]\n",
      "[-1/4]\n",
      "[-1/2]\n",
      "\n",
      "[-2*a]\n",
      "[   0]\n",
      "[ 1/2]\n",
      "[-1/4]\n",
      "\n",
      "[   0]\n",
      "[-2*b]\n",
      "[3/4]\n",
      "[1/2]\n",
      "\n"
     ]
    }
   ],
   "source": [
    "conds = []\n",
    "variables = []\n",
    "coeffs = []\n",
    "for i, g in enumerate(P): \n",
    "    conj = A.inverse() * g * A\n",
    "    condition = A.inverse() * alpha[str(g)] -  alpha[str(conj)]\n",
    "    sym_res = (conj - E) * x\n",
    "    print(sym_res)\n",
    "    print(condition)\n",
    "    print()\n",
    "\n",
    "    conds.append(sym_res[0][0] - (condition[0][0] + var(f'n{i}')))\n",
    "    cond_coeffs = {}\n",
    "    for variable in conds[-1].arguments(): \n",
    "        cur_coeff = conds[-1].coefficients(variable, sparse=False)\n",
    "        cond_coeffs[variable] = cur_coeff[1]\n",
    "    coeffs.append(cond_coeffs)\n",
    "    \n",
    "    conds.append(sym_res[1][0] - (condition[1][0] + var(f'm{i}')))\n",
    "    cond_coeffs = {}\n",
    "    for variable in conds[-1].arguments(): \n",
    "        cur_coeff = conds[-1].coefficients(variable, sparse=False)\n",
    "        cond_coeffs[variable] = cur_coeff[1]\n",
    "    coeffs.append(cond_coeffs)\n",
    "    \n",
    "    variables.append(var(f'n{i}'))\n",
    "    variables.append(var(f'm{i}'))"
   ]
  },
  {
   "cell_type": "code",
   "execution_count": 63,
   "id": "ed288b9f-d7d6-4263-a274-e8c1dabd5900",
   "metadata": {},
   "outputs": [
    {
     "data": {
      "text/plain": [
       "[{n0: -1, 'constant': 0},\n",
       " {m0: -1, 'constant': 0},\n",
       " {a: -2, n1: -1, 'constant': -5/4},\n",
       " {b: -2, m1: -1, 'constant': 1/4},\n",
       " {a: -1, b: -1, n2: -1, 'constant': 0},\n",
       " {a: 1, b: -1, m2: -1, 'constant': 1},\n",
       " {a: -1, b: 1, n3: -1, 'constant': -1/4},\n",
       " {a: -1, b: -1, m3: -1, 'constant': -1/4},\n",
       " {a: -1, b: -1, n4: -1, 'constant': -1/2},\n",
       " {a: -1, b: -1, m4: -1, 'constant': 3/4},\n",
       " {a: -1, b: 1, n5: -1, 'constant': 1/4},\n",
       " {a: 1, b: -1, m5: -1, 'constant': 1/2},\n",
       " {a: -2, n6: -1, 'constant': -1/2},\n",
       " {m6: -1, 'constant': 1/4},\n",
       " {n7: -1, 'constant': -3/4},\n",
       " {b: -2, m7: -1, 'constant': -1/2}]"
      ]
     },
     "execution_count": 63,
     "metadata": {},
     "output_type": "execute_result"
    }
   ],
   "source": [
    "def get_constant(express): \n",
    "    while not isinstance(express, Integer) and not express.is_constant(): \n",
    "        express = express.coefficients(express.arguments()[0], sparse=False)[0]\n",
    "    return express\n",
    "\n",
    "for cof, con in zip(coeffs, conds): \n",
    "    cof['constant'] = get_constant(con)\n",
    "coeffs"
   ]
  },
  {
   "cell_type": "code",
   "execution_count": 66,
   "id": "59554a06-a6df-406c-a23b-4752441c5cf8",
   "metadata": {},
   "outputs": [
    {
     "data": {
      "text/plain": [
       "[ 0  0 -4  0  0  0  0  0  0  0  0  0  0  0  0  0  0  0]\n",
       "[ 0  0  0 -4  0  0  0  0  0  0  0  0  0  0  0  0  0  0]\n",
       "[-8  0  0  0 -4  0  0  0  0  0  0  0  0  0  0  0  0  0]\n",
       "[ 0 -8  0  0  0 -4  0  0  0  0  0  0  0  0  0  0  0  0]\n",
       "[-4 -4  0  0  0  0 -4  0  0  0  0  0  0  0  0  0  0  0]\n",
       "[ 4 -4  0  0  0  0  0 -4  0  0  0  0  0  0  0  0  0  0]\n",
       "[-4  4  0  0  0  0  0  0 -4  0  0  0  0  0  0  0  0  0]\n",
       "[-4 -4  0  0  0  0  0  0  0 -4  0  0  0  0  0  0  0  0]\n",
       "[-4 -4  0  0  0  0  0  0  0  0 -4  0  0  0  0  0  0  0]\n",
       "[-4 -4  0  0  0  0  0  0  0  0  0 -4  0  0  0  0  0  0]\n",
       "[-4  4  0  0  0  0  0  0  0  0  0  0 -4  0  0  0  0  0]\n",
       "[ 4 -4  0  0  0  0  0  0  0  0  0  0  0 -4  0  0  0  0]\n",
       "[-8  0  0  0  0  0  0  0  0  0  0  0  0  0 -4  0  0  0]\n",
       "[ 0  0  0  0  0  0  0  0  0  0  0  0  0  0  0 -4  0  0]\n",
       "[ 0  0  0  0  0  0  0  0  0  0  0  0  0  0  0  0 -4  0]\n",
       "[ 0 -8  0  0  0  0  0  0  0  0  0  0  0  0  0  0  0 -4]"
      ]
     },
     "execution_count": 66,
     "metadata": {},
     "output_type": "execute_result"
    }
   ],
   "source": [
    "coeff_matrix = []\n",
    "const_matrix = []\n",
    "for cof in coeffs: \n",
    "    coeff_row = []\n",
    "    for variable in [a, b] + variables: \n",
    "        coeff_row.append(cof.get(variable, 0))\n",
    "    coeff_matrix.append(coeff_row)\n",
    "    const_matrix.append([cof.get('constant', 0)])\n",
    "    \n",
    "coeff_matrix = matrix(QQ, coeff_matrix)\n",
    "int_coeff_mtx = matrix(ZZ, coeff_matrix * 4)\n",
    "\n",
    "const_matrix = matrix(QQ, const_matrix)\n",
    "int_const_mtx = matrix(ZZ, const_matrix * 4)\n",
    "\n",
    "int_coeff_mtx"
   ]
  },
  {
   "cell_type": "code",
   "execution_count": 67,
   "id": "e4ca4334-1ba9-4e0d-98d0-3dd285b964ad",
   "metadata": {},
   "outputs": [
    {
     "data": {
      "text/plain": [
       "[ 0]\n",
       "[ 0]\n",
       "[-5]\n",
       "[ 1]\n",
       "[ 0]\n",
       "[ 4]\n",
       "[-1]\n",
       "[-1]\n",
       "[-2]\n",
       "[ 3]\n",
       "[ 1]\n",
       "[ 2]\n",
       "[-2]\n",
       "[ 1]\n",
       "[-3]\n",
       "[-2]"
      ]
     },
     "execution_count": 67,
     "metadata": {},
     "output_type": "execute_result"
    }
   ],
   "source": [
    "int_const_mtx"
   ]
  },
  {
   "cell_type": "code",
   "execution_count": 68,
   "id": "5898f64b-3081-4dfe-8260-e32323582b3b",
   "metadata": {},
   "outputs": [
    {
     "data": {
      "text/plain": [
       "False"
      ]
     },
     "execution_count": 68,
     "metadata": {},
     "output_type": "execute_result"
    }
   ],
   "source": [
    "B, U, V = int_coeff_mtx.smith_form()\n",
    "\n",
    "success = True\n",
    "check = U * int_const_mtx\n",
    "for i in range(len(B.rows())): \n",
    "    if check[i][0] % B[i][i]: \n",
    "        success = False \n",
    "        break \n",
    "success"
   ]
  },
  {
   "cell_type": "code",
   "execution_count": 69,
   "id": "a87c7b22-9b42-4c41-ab6e-39f2ddd19a42",
   "metadata": {},
   "outputs": [
    {
     "data": {
      "text/plain": [
       "[4 0 0 0 0 0 0 0 0 0 0 0 0 0 0 0 0 0]\n",
       "[0 4 0 0 0 0 0 0 0 0 0 0 0 0 0 0 0 0]\n",
       "[0 0 4 0 0 0 0 0 0 0 0 0 0 0 0 0 0 0]\n",
       "[0 0 0 4 0 0 0 0 0 0 0 0 0 0 0 0 0 0]\n",
       "[0 0 0 0 4 0 0 0 0 0 0 0 0 0 0 0 0 0]\n",
       "[0 0 0 0 0 4 0 0 0 0 0 0 0 0 0 0 0 0]\n",
       "[0 0 0 0 0 0 4 0 0 0 0 0 0 0 0 0 0 0]\n",
       "[0 0 0 0 0 0 0 4 0 0 0 0 0 0 0 0 0 0]\n",
       "[0 0 0 0 0 0 0 0 4 0 0 0 0 0 0 0 0 0]\n",
       "[0 0 0 0 0 0 0 0 0 4 0 0 0 0 0 0 0 0]\n",
       "[0 0 0 0 0 0 0 0 0 0 4 0 0 0 0 0 0 0]\n",
       "[0 0 0 0 0 0 0 0 0 0 0 4 0 0 0 0 0 0]\n",
       "[0 0 0 0 0 0 0 0 0 0 0 0 4 0 0 0 0 0]\n",
       "[0 0 0 0 0 0 0 0 0 0 0 0 0 4 0 0 0 0]\n",
       "[0 0 0 0 0 0 0 0 0 0 0 0 0 0 4 0 0 0]\n",
       "[0 0 0 0 0 0 0 0 0 0 0 0 0 0 0 4 0 0]"
      ]
     },
     "execution_count": 69,
     "metadata": {},
     "output_type": "execute_result"
    }
   ],
   "source": [
    "B"
   ]
  },
  {
   "cell_type": "code",
   "execution_count": 70,
   "id": "dfdb9eab-edef-4889-ad9b-00fb017d50d4",
   "metadata": {},
   "outputs": [
    {
     "data": {
      "text/plain": [
       "[-2]\n",
       "[-3]\n",
       "[ 1]\n",
       "[-2]\n",
       "[ 2]\n",
       "[ 1]\n",
       "[ 3]\n",
       "[-2]\n",
       "[-1]\n",
       "[-1]\n",
       "[ 4]\n",
       "[ 0]\n",
       "[ 1]\n",
       "[-5]\n",
       "[ 0]\n",
       "[ 0]"
      ]
     },
     "execution_count": 70,
     "metadata": {},
     "output_type": "execute_result"
    }
   ],
   "source": [
    "check"
   ]
  }
 ],
 "metadata": {
  "kernelspec": {
   "display_name": "SageMath 10.3",
   "language": "sage",
   "name": "sagemath-10.3"
  },
  "language_info": {
   "codemirror_mode": {
    "name": "ipython",
    "version": 3
   },
   "file_extension": ".py",
   "mimetype": "text/x-python",
   "name": "python",
   "nbconvert_exporter": "python",
   "pygments_lexer": "ipython3",
   "version": "3.11.8"
  }
 },
 "nbformat": 4,
 "nbformat_minor": 5
}
