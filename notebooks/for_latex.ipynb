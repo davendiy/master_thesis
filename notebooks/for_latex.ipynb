{
 "cells": [
  {
   "cell_type": "code",
   "execution_count": 1,
   "id": "294cf291",
   "metadata": {},
   "outputs": [
    {
     "data": {
      "text/plain": [
       "true"
      ]
     },
     "execution_count": 1,
     "metadata": {},
     "output_type": "execute_result"
    }
   ],
   "source": [
    "from itertools import permutations, combinations\n",
    "\n",
    "gap('LoadPackage(\"Cryst\")')"
   ]
  },
  {
   "cell_type": "code",
   "execution_count": 2,
   "id": "18b738d1",
   "metadata": {},
   "outputs": [
    {
     "data": {
      "text/plain": [
       "[\n",
       "[-1  0  0]  [ 0  1  0]  [1 0 0]  [1 0 0]\n",
       "[ 0 -1  0]  [-1  0  0]  [0 1 0]  [0 1 0]\n",
       "[ 0  0  1], [ 0  0  1], [1 0 1], [0 1 1]\n",
       "]"
      ]
     },
     "execution_count": 2,
     "metadata": {},
     "output_type": "execute_result"
    }
   ],
   "source": [
    "G = gap(f'SpaceGroupIT(2, {10})')\n",
    "gens = [matrix(QQ, el) for el in G.GeneratorsOfGroup().AsList()]\n",
    "gens"
   ]
  },
  {
   "cell_type": "code",
   "execution_count": 3,
   "id": "2235e2a1",
   "metadata": {},
   "outputs": [
    {
     "data": {
      "text/plain": [
       "(0, -1, 0)"
      ]
     },
     "execution_count": 3,
     "metadata": {},
     "output_type": "execute_result"
    }
   ],
   "source": [
    "gens[0][1]"
   ]
  },
  {
   "cell_type": "code",
   "execution_count": 35,
   "id": "54b16d87",
   "metadata": {},
   "outputs": [
    {
     "data": {
      "text/plain": [
       "\\left[\\left(\\begin{array}{rrr}\n",
       "-1 & 0 & 0 \\\\\n",
       "0 & -1 & 0 \\\\\n",
       "0 & 0 & 1\n",
       "\\end{array}\\right), \\left(\\begin{array}{rrr}\n",
       "0 & 1 & 0 \\\\\n",
       "-1 & 0 & 0 \\\\\n",
       "0 & 0 & 1\n",
       "\\end{array}\\right), \\left(\\begin{array}{rrr}\n",
       "1 & 0 & 0 \\\\\n",
       "0 & 1 & 0 \\\\\n",
       "1 & 0 & 1\n",
       "\\end{array}\\right), \\left(\\begin{array}{rrr}\n",
       "1 & 0 & 0 \\\\\n",
       "0 & 1 & 0 \\\\\n",
       "0 & 1 & 1\n",
       "\\end{array}\\right)\\right]"
      ]
     },
     "execution_count": 35,
     "metadata": {},
     "output_type": "execute_result"
    }
   ],
   "source": [
    "latex(gens)"
   ]
  },
  {
   "cell_type": "code",
   "execution_count": 34,
   "id": "8a7a8825",
   "metadata": {},
   "outputs": [
    {
     "name": "stdout",
     "output_type": "stream",
     "text": [
      "\\left\\langle \n",
      " \\left(\\begin{array}{rrrr}\n",
      "-1 & 0 & 0 & 0 \\\\\n",
      "0 & -1 & 0 & 0 \\\\\n",
      "0 & 0 & 1 & 0 \\\\\n",
      "0 & 0 & 0 & 1\n",
      "\\end{array}\\right) , \n",
      " \\left(\\begin{array}{rrrr}\n",
      "1 & 0 & 0 & 0 \\\\\n",
      "0 & -1 & 0 & 0 \\\\\n",
      "0 & 0 & 1 & 0 \\\\\n",
      "0 & 0 & 0 & 1\n",
      "\\end{array}\\right) , \n",
      " \\left(\\begin{array}{rrrr}\n",
      "1 & 0 & 0 & 1 \\\\\n",
      "0 & 1 & 0 & 0 \\\\\n",
      "0 & 0 & 1 & 0 \\\\\n",
      "0 & 0 & 0 & 1\n",
      "\\end{array}\\right) , \n",
      " \\left(\\begin{array}{rrrr}\n",
      "1 & 0 & 0 & 0 \\\\\n",
      "0 & 1 & 0 & \\frac{1}{2} \\\\\n",
      "0 & 0 & 1 & \\frac{1}{2} \\\\\n",
      "0 & 0 & 0 & 1\n",
      "\\end{array}\\right) , \n",
      " \\left(\\begin{array}{rrrr}\n",
      "1 & 0 & 0 & 0 \\\\\n",
      "0 & 1 & 0 & 0 \\\\\n",
      "0 & 0 & 1 & 1 \\\\\n",
      "0 & 0 & 0 & 1\n",
      "\\end{array}\\right) , \n",
      "\\right\\rangle\n"
     ]
    }
   ],
   "source": [
    "def gens2latex(n, dim=2): \n",
    "    G = gap(f'SpaceGroupOnLeftIT({dim}, {n})')\n",
    "    gens = [matrix(QQ, el) for el in G.GeneratorsOfGroup().AsList()]\n",
    "    res = r\"\\left\\langle\"\n",
    "    for el in gens: \n",
    "        res += '\\n' + latex(el) + ','\n",
    "    \n",
    "    res += '\\n' + r'\\right\\rangle'\n",
    "    return res\n",
    "\n",
    "print(gens2latex(38, dim=3))"
   ]
  },
  {
   "cell_type": "code",
   "execution_count": 43,
   "id": "66b5a8fc",
   "metadata": {},
   "outputs": [
    {
     "name": "stdout",
     "output_type": "stream",
     "text": [
      "\\begin{tabular}{|c|c|} \\hline\n",
      "test & test \\\\ \\hline \\hline\n",
      "$\\left\\langle \n",
      " \\left(\\begin{array}{rrr}\n",
      "-1 & 0 & 0 \\\\\n",
      "0 & -1 & 0 \\\\\n",
      "0 & 0 & 1\n",
      "\\end{array}\\right) , \n",
      " \\left(\\begin{array}{rrr}\n",
      "1 & 0 & 1 \\\\\n",
      "0 & 1 & 0 \\\\\n",
      "0 & 0 & 1\n",
      "\\end{array}\\right) , \n",
      " \\left(\\begin{array}{rrr}\n",
      "1 & 0 & 0 \\\\\n",
      "0 & 1 & 1 \\\\\n",
      "0 & 0 & 1\n",
      "\\end{array}\\right) , \n",
      "\\right\\rangle$ & no \\\\ \\hline\n",
      "$\\left\\langle \n",
      " \\left(\\begin{array}{rrr}\n",
      "-1 & 0 & 0 \\\\\n",
      "0 & 1 & 0 \\\\\n",
      "0 & 0 & 1\n",
      "\\end{array}\\right) , \n",
      " \\left(\\begin{array}{rrr}\n",
      "1 & 0 & 1 \\\\\n",
      "0 & 1 & 0 \\\\\n",
      "0 & 0 & 1\n",
      "\\end{array}\\right) , \n",
      " \\left(\\begin{array}{rrr}\n",
      "1 & 0 & 0 \\\\\n",
      "0 & 1 & 1 \\\\\n",
      "0 & 0 & 1\n",
      "\\end{array}\\right) , \n",
      "\\right\\rangle$ & yes \\\\ \\hline\n",
      "$\\left\\langle \n",
      " \\left(\\begin{array}{rrr}\n",
      "-1 & 0 & 0 \\\\\n",
      "0 & 1 & \\frac{1}{2} \\\\\n",
      "0 & 0 & 1\n",
      "\\end{array}\\right) , \n",
      " \\left(\\begin{array}{rrr}\n",
      "1 & 0 & 1 \\\\\n",
      "0 & 1 & 0 \\\\\n",
      "0 & 0 & 1\n",
      "\\end{array}\\right) , \n",
      " \\left(\\begin{array}{rrr}\n",
      "1 & 0 & 0 \\\\\n",
      "0 & 1 & 1 \\\\\n",
      "0 & 0 & 1\n",
      "\\end{array}\\right) , \n",
      "\\right\\rangle$ & no \\\\ \\hline\n",
      "\\end{tabular}\n"
     ]
    }
   ],
   "source": [
    "def transpose(arr): \n",
    "    n = len(arr)\n",
    "    m = len(arr[0])\n",
    "    res = [[None for _ in range(n)] for _ in range(m)]\n",
    "    for i in range(n):\n",
    "        for j in range(m): \n",
    "            res[j][i] = arr[i][j]\n",
    "    return res\n",
    "\n",
    "cols = [\n",
    "    [gens2latex(2), gens2latex(3), gens2latex(4)],\n",
    "    [\"no\", \"yes\", \"no\"]\n",
    "]\n",
    "\n",
    "\n",
    "print(latex(table(columns=cols, header_row=['test', 'test'], align='center', \n",
    "                  frame=True)).replace(r'\\left\\langle', r'$\\left\\langle').replace(r'\\right\\rangle', r'\\right\\rangle$'))"
   ]
  }
 ],
 "metadata": {
  "kernelspec": {
   "display_name": "SageMath 9.7",
   "language": "sage",
   "name": "sagemath-dev"
  },
  "language_info": {
   "codemirror_mode": {
    "name": "ipython",
    "version": 3
   },
   "file_extension": ".py",
   "mimetype": "text/x-python",
   "name": "python",
   "nbconvert_exporter": "python",
   "pygments_lexer": "ipython3",
   "version": "3.8.10"
  }
 },
 "nbformat": 4,
 "nbformat_minor": 5
}
