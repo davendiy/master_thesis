{
 "cells": [
  {
   "cell_type": "code",
   "execution_count": 19,
   "metadata": {},
   "outputs": [
    {
     "data": {
      "text/plain": [
       "true"
      ]
     },
     "execution_count": 19,
     "metadata": {},
     "output_type": "execute_result"
    }
   ],
   "source": [
    "from itertools import permutations \n",
    "\n",
    "gap('LoadPackage(\"Cryst\")')"
   ]
  },
  {
   "cell_type": "markdown",
   "metadata": {},
   "source": [
    "# Find normalizers for all Point Groups of crystallographic groups in R^2"
   ]
  },
  {
   "cell_type": "code",
   "execution_count": 2,
   "metadata": {},
   "outputs": [
    {
     "data": {
      "text/plain": [
       "(a, b, c, d)"
      ]
     },
     "execution_count": 2,
     "metadata": {},
     "output_type": "execute_result"
    }
   ],
   "source": [
    "var('a,b,c,d')"
   ]
  },
  {
   "cell_type": "code",
   "execution_count": 3,
   "metadata": {},
   "outputs": [],
   "source": [
    "A = matrix([[a, b], [c, d]])"
   ]
  },
  {
   "cell_type": "markdown",
   "metadata": {},
   "source": [
    "## There are 11 different Point Groups "
   ]
  },
  {
   "cell_type": "code",
   "execution_count": 4,
   "metadata": {},
   "outputs": [
    {
     "data": {
      "text/plain": [
       "{'Group([ [ [ -1, 0 ], [ 0, -1 ] ] ])',\n",
       " 'Group([ [ [ -1, 0 ], [ 0, -1 ] ], [ [ -1, 0 ], [ 0, 1 ] ] ])',\n",
       " 'Group([ [ [ -1, 0 ], [ 0, -1 ] ], [ [ 0, 1 ], [ -1, 0 ] ] ])',\n",
       " 'Group([ [ [ -1, 0 ], [ 0, -1 ] ], [ [ 0, 1 ], [ -1, 0 ] ], \\n  [ [ -1, 0 ], [ 0, 1 ] ] ])',\n",
       " 'Group([ [ [ -1, 0 ], [ 0, 1 ] ] ])',\n",
       " 'Group([ [ [ 0, 1 ], [ -1, -1 ] ] ])',\n",
       " 'Group([ [ [ 0, 1 ], [ -1, -1 ] ], [ [ -1, 0 ], [ 0, -1 ] ] ])',\n",
       " 'Group([ [ [ 0, 1 ], [ -1, -1 ] ], [ [ -1, 0 ], [ 0, -1 ] ], \\n  [ [ 0, -1 ], [ -1, 0 ] ] ])',\n",
       " 'Group([ [ [ 0, 1 ], [ -1, -1 ] ], [ [ 0, -1 ], [ -1, 0 ] ] ])',\n",
       " 'Group([ [ [ 0, 1 ], [ -1, -1 ] ], [ [ 0, 1 ], [ 1, 0 ] ] ])',\n",
       " 'Group([],[ [ 1, 0 ], [ 0, 1 ] ])'}"
      ]
     },
     "execution_count": 4,
     "metadata": {},
     "output_type": "execute_result"
    }
   ],
   "source": [
    "point_groups = set() \n",
    "for n in range(1, 18):\n",
    "    G = gap(f'SpaceGroupIT(2, {n})') \n",
    "    S = G.PointGroup() \n",
    "    \n",
    "    point_groups.add(str(S))\n",
    "\n",
    "point_groups"
   ]
  },
  {
   "cell_type": "code",
   "execution_count": 5,
   "metadata": {},
   "outputs": [
    {
     "data": {
      "text/plain": [
       "(a == x0 + x1 + x2, b == x1, c == x2)"
      ]
     },
     "execution_count": 5,
     "metadata": {},
     "output_type": "execute_result"
    }
   ],
   "source": [
    "def normalize_expressions(exps, allowed=None):\n",
    "    \"\"\"Replace all variables except allowed (default: a b c d) with {x0,x1,x2,x3...}\"\"\"\n",
    "    extra_args = set()\n",
    "                          \n",
    "    if allowed is None: \n",
    "        allowed = var('a b c d')\n",
    "        \n",
    "    for exp in exps: \n",
    "#         print(exp)\n",
    "        extra_args |= {el for el in exp.args() if el not in allowed}\n",
    "        \n",
    "    res = []\n",
    "    for exp in exps:\n",
    "        for i, el in enumerate(extra_args): \n",
    "            exp = exp.subs({var(el): var(f'x{i}')})\n",
    "        res.append(exp)\n",
    "    return tuple(res)\n",
    "\n",
    "\n",
    "var('a b c')\n",
    "var('r1 r2 r3')\n",
    "\n",
    "exp = [a == r1 + r2 + r3, b == r2, c == r1]\n",
    "normalize_expressions(exp)"
   ]
  },
  {
   "cell_type": "code",
   "execution_count": 6,
   "metadata": {},
   "outputs": [],
   "source": [
    "def prepare_gap_env():\n",
    "    gap('LoadPackage(\"Cryst\");;Read(\"./el2word.g\")')\n",
    "    \n",
    "    \n",
    "def el2word(G, el, verbose=False):\n",
    "    \"\"\"Represent, given an element of a finite group G, \n",
    "    as the word over generators.\"\"\"\n",
    "    \n",
    "    prepare_gap_env()\n",
    "    gap.set('G', G)\n",
    "    gap.set('g', el)\n",
    "    \n",
    "\n",
    "    gens_dict = {f'g_{i}' : el for i, el in enumerate(list(G.GeneratorsOfGroup()))}\n",
    "    \n",
    "    gens = '\"' + '\", \"'.join(sorted(gens_dict.keys())) + '\"'\n",
    "    expression = f'FreeGroup({gens})'\n",
    "    if verbose:\n",
    "        print(\"Free group to be created:\", expression)\n",
    "        print(\"Translation of generators:\", gens_dict)\n",
    "\n",
    "    gap.set(\"F\", expression)\n",
    "\n",
    "    res = gap('ElementAsWordGeneratorsPointGroup(G, g, F)')\n",
    "    return str(res).split(\"*\"), gens_dict \n",
    "\n",
    "\n",
    "def extend_permutation(G, el, gens, perm):        \n",
    "    \"\"\"Extend given permutation on generators onto the entire group.\"\"\"\n",
    "    word, trans = el2word(G, el)\n",
    "    \n",
    "    if el == G.One(): \n",
    "        return el \n",
    "    \n",
    "    res = G.One()    \n",
    "    for g in word: \n",
    "        power = 1\n",
    "        if \"^\" in g: \n",
    "            g, power = g.split('^')\n",
    "            power = int(power)\n",
    "        index = gens.index(trans[g])\n",
    "        index_to = perm[index]\n",
    "        \n",
    "        g_to = gens[index_to] ** power \n",
    "        res *= g_to \n",
    "    return res\n"
   ]
  },
  {
   "cell_type": "code",
   "execution_count": 7,
   "metadata": {},
   "outputs": [
    {
     "data": {
      "text/plain": [
       "Group([ [ [ -1, 0 ], [ 0, -1 ] ], [ [ 0, 1 ], [ -1, 0 ] ] ])"
      ]
     },
     "execution_count": 7,
     "metadata": {},
     "output_type": "execute_result"
    }
   ],
   "source": [
    "G = gap.SpaceGroupIT(2, 10).PointGroup()\n",
    "G"
   ]
  },
  {
   "cell_type": "code",
   "execution_count": 8,
   "metadata": {},
   "outputs": [
    {
     "data": {
      "text/plain": [
       "[ [ 1, 0 ], [ 0, 1 ] ]"
      ]
     },
     "execution_count": 8,
     "metadata": {},
     "output_type": "execute_result"
    }
   ],
   "source": [
    "G.One() ** (-1)"
   ]
  },
  {
   "cell_type": "code",
   "execution_count": 9,
   "metadata": {},
   "outputs": [
    {
     "data": {
      "text/plain": [
       "[[ [ 1, 0 ], [ 0, 1 ] ],\n",
       " [ [ -1, 0 ], [ 0, -1 ] ],\n",
       " [ [ 0, -1 ], [ 1, 0 ] ],\n",
       " [ [ 0, 1 ], [ -1, 0 ] ]]"
      ]
     },
     "execution_count": 9,
     "metadata": {},
     "output_type": "execute_result"
    }
   ],
   "source": [
    "list(G.AsList())"
   ]
  },
  {
   "cell_type": "code",
   "execution_count": 10,
   "metadata": {},
   "outputs": [
    {
     "data": {
      "text/plain": [
       "[ [ 0, 1 ], [ -1, 0 ] ]"
      ]
     },
     "execution_count": 10,
     "metadata": {},
     "output_type": "execute_result"
    }
   ],
   "source": [
    "perm = [1, 0]\n",
    "gens = list(G.GeneratorsOfGroup())\n",
    "el = list(G.AsList())[1]\n",
    "extend_permutation(G, el, gens, perm)"
   ]
  },
  {
   "cell_type": "code",
   "execution_count": 11,
   "metadata": {},
   "outputs": [],
   "source": [
    "a, b, = list(G.GeneratorsOfGroup())"
   ]
  },
  {
   "cell_type": "code",
   "execution_count": 85,
   "metadata": {},
   "outputs": [
    {
     "data": {
      "text/plain": [
       "[ [ -1, 0 ], [ 0, -1 ] ]"
      ]
     },
     "execution_count": 85,
     "metadata": {},
     "output_type": "execute_result"
    }
   ],
   "source": [
    "a "
   ]
  },
  {
   "cell_type": "code",
   "execution_count": 28,
   "metadata": {},
   "outputs": [
    {
     "data": {
      "text/plain": [
       "[ [ 0, 1 ], [ -1, 0 ] ]"
      ]
     },
     "execution_count": 28,
     "metadata": {},
     "output_type": "execute_result"
    }
   ],
   "source": [
    "b"
   ]
  },
  {
   "cell_type": "code",
   "execution_count": 12,
   "metadata": {},
   "outputs": [
    {
     "name": "stdout",
     "output_type": "stream",
     "text": [
      "Free group to be created: FreeGroup(\"g_0\", \"g_1\")\n",
      "Translation of generators: {'g_0': [ [ -1, 0 ], [ 0, -1 ] ], 'g_1': [ [ 0, 1 ], [ -1, 0 ] ]}\n"
     ]
    },
    {
     "data": {
      "text/plain": [
       "['g_0', 'g_1']"
      ]
     },
     "execution_count": 12,
     "metadata": {},
     "output_type": "execute_result"
    }
   ],
   "source": [
    "x, trans = el2word(G, a * b, verbose=True)\n",
    "x"
   ]
  },
  {
   "cell_type": "code",
   "execution_count": 11,
   "metadata": {},
   "outputs": [
    {
     "data": {
      "text/plain": [
       "[ [ 1, 0, 0 ], [ 0, 1, 0 ], [ 1, 0, 1 ] ]"
      ]
     },
     "execution_count": 11,
     "metadata": {},
     "output_type": "execute_result"
    }
   ],
   "source": [
    "c"
   ]
  },
  {
   "cell_type": "code",
   "execution_count": 48,
   "metadata": {},
   "outputs": [
    {
     "data": {
      "text/plain": [
       "Group([ [ [ -1, 0 ], [ 0, -1 ] ], [ [ 0, 1 ], [ -1, 0 ] ] ])"
      ]
     },
     "execution_count": 48,
     "metadata": {},
     "output_type": "execute_result"
    }
   ],
   "source": [
    "G.PointGroup()"
   ]
  },
  {
   "cell_type": "code",
   "execution_count": 13,
   "metadata": {},
   "outputs": [
    {
     "data": {
      "text/plain": [
       "(\n",
       "[a b c d e]                                                                             \n",
       "[f g h i j]                                                                             \n",
       "[k l m n o]                                                                             \n",
       "[p q r s t]                                                                             \n",
       "[u v w x y], [a, b, c, d, e, f, g, h, i, j, k, l, m, n, o, p, q, r, s, t, u, v, w, x, y]\n",
       ")"
      ]
     },
     "execution_count": 13,
     "metadata": {},
     "output_type": "execute_result"
    }
   ],
   "source": [
    "alphabet = 'abcdefghijklmnopqrstuvwxyz'\n",
    "\n",
    "\n",
    "def create_symbolic_matrix(dim, use_alphabet=False):\n",
    "    if use_alphabet and dim * dim > len(alphabet): \n",
    "        raise ValueError(f\"Can't use alphabet for matrix {dim}x{dim} due to lack of letters.\")\n",
    "    A = []\n",
    "    args = []\n",
    "    for i in range(dim):\n",
    "        row = []\n",
    "        for j in range(dim):\n",
    "            if use_alphabet: \n",
    "                row.append(var(alphabet[i * dim + j]))\n",
    "            else:\n",
    "                row.append(var(f'a_{i}{j}'))\n",
    "            args.append(row[-1])\n",
    "        A.append(row)\n",
    "    A = matrix(A)\n",
    "    return A, args\n",
    "\n",
    "\n",
    "create_symbolic_matrix(5, use_alphabet=True)"
   ]
  },
  {
   "cell_type": "code",
   "execution_count": 14,
   "metadata": {},
   "outputs": [],
   "source": [
    "def normalizers_v2(n, dim=2, verbose=False, use_alphabet=False, normalize_exp=True): \n",
    "    G = gap(f'SpaceGroupIT({dim}, {n})')\n",
    "    S = G.PointGroup() \n",
    "    s_elements = S.AsList()\n",
    "    gens = list(S.GeneratorsOfGroup())\n",
    "    \n",
    "    if verbose: \n",
    "        print('\\n====================================================')\n",
    "        print(n, 'point group:', S)\n",
    "\n",
    "        print('group elements:')\n",
    "        print(*s_elements, sep='\\n')\n",
    "        print('\\n----------------normalizers-------------------------')\n",
    "    \n",
    "    A, args = create_symbolic_matrix(dim, use_alphabet=use_alphabet)\n",
    "    \n",
    "    conditions = [] \n",
    "    found_solutions = set() \n",
    "    for perm in permutations(range(len(gens))):\n",
    "    \n",
    "        # build conditions AX = YA for every X -> Y due to chosen permutation \n",
    "        cond_perm = set()\n",
    "        for X in s_elements:\n",
    "            Y = extend_permutation(S, X, gens, perm)\n",
    "            \n",
    "            X, Y = matrix(QQ, X), matrix(QQ, Y)\n",
    "            cond_i = A * X - Y * A\n",
    "            for el in cond_i: \n",
    "                cond_perm = cond_perm.union(set(el))\n",
    "        \n",
    "        eq = [cond == 0 for cond in cond_perm]\n",
    "        for res in solve(eq, *args):\n",
    "            if not res: \n",
    "                if verbose: print(res) \n",
    "                continue\n",
    "                \n",
    "            res = tuple(res) \n",
    "            if normalize_exp: \n",
    "                res = normalize_expressions(res, allowed=args)\n",
    "            if res not in found_solutions and verbose: \n",
    "                print(res)\n",
    "    \n",
    "            found_solutions.add(res)\n"
   ]
  },
  {
   "cell_type": "code",
   "execution_count": 15,
   "metadata": {
    "scrolled": true
   },
   "outputs": [
    {
     "name": "stdout",
     "output_type": "stream",
     "text": [
      "\n",
      "====================================================\n",
      "1 point group: Group([],[ [ 1, 0 ], [ 0, 1 ] ])\n",
      "group elements:\n",
      "[ [ 1, 0 ], [ 0, 1 ] ]\n",
      "\n",
      "----------------normalizers-------------------------\n",
      "False\n",
      "\n",
      "====================================================\n",
      "2 point group: Group([ [ [ -1, 0 ], [ 0, -1 ] ] ])\n",
      "group elements:\n",
      "[ [ 1, 0 ], [ 0, 1 ] ]\n",
      "[ [ -1, 0 ], [ 0, -1 ] ]\n",
      "\n",
      "----------------normalizers-------------------------\n",
      "False\n",
      "\n",
      "====================================================\n",
      "3 point group: Group([ [ [ -1, 0 ], [ 0, 1 ] ] ])\n",
      "group elements:\n",
      "[ [ 1, 0 ], [ 0, 1 ] ]\n",
      "[ [ -1, 0 ], [ 0, 1 ] ]\n",
      "\n",
      "----------------normalizers-------------------------\n",
      "(a == x0, b == 0, c == 0, d == x1)\n",
      "\n",
      "====================================================\n",
      "4 point group: Group([ [ [ -1, 0 ], [ 0, 1 ] ] ])\n",
      "group elements:\n",
      "[ [ 1, 0 ], [ 0, 1 ] ]\n",
      "[ [ -1, 0 ], [ 0, 1 ] ]\n",
      "\n",
      "----------------normalizers-------------------------\n",
      "(a == x1, b == 0, c == 0, d == x0)\n",
      "\n",
      "====================================================\n",
      "5 point group: Group([ [ [ -1, 0 ], [ 0, 1 ] ] ])\n",
      "group elements:\n",
      "[ [ 1, 0 ], [ 0, 1 ] ]\n",
      "[ [ -1, 0 ], [ 0, 1 ] ]\n",
      "\n",
      "----------------normalizers-------------------------\n",
      "(a == x1, b == 0, c == 0, d == x0)\n",
      "\n",
      "====================================================\n",
      "6 point group: Group([ [ [ -1, 0 ], [ 0, -1 ] ], [ [ -1, 0 ], [ 0, 1 ] ] ])\n",
      "group elements:\n",
      "[ [ 1, 0 ], [ 0, 1 ] ]\n",
      "[ [ -1, 0 ], [ 0, -1 ] ]\n",
      "[ [ -1, 0 ], [ 0, 1 ] ]\n",
      "[ [ 1, 0 ], [ 0, -1 ] ]\n",
      "\n",
      "----------------normalizers-------------------------\n",
      "(a == x1, b == 0, c == 0, d == x0)\n",
      "(a == x0, b == 0, c == 0, d == 0)\n",
      "\n",
      "====================================================\n",
      "7 point group: Group([ [ [ -1, 0 ], [ 0, -1 ] ], [ [ -1, 0 ], [ 0, 1 ] ] ])\n",
      "group elements:\n",
      "[ [ 1, 0 ], [ 0, 1 ] ]\n",
      "[ [ -1, 0 ], [ 0, -1 ] ]\n",
      "[ [ -1, 0 ], [ 0, 1 ] ]\n",
      "[ [ 1, 0 ], [ 0, -1 ] ]\n",
      "\n",
      "----------------normalizers-------------------------\n",
      "(a == x0, b == 0, c == 0, d == x1)\n",
      "(a == x0, b == 0, c == 0, d == 0)\n",
      "\n",
      "====================================================\n",
      "8 point group: Group([ [ [ -1, 0 ], [ 0, -1 ] ], [ [ -1, 0 ], [ 0, 1 ] ] ])\n",
      "group elements:\n",
      "[ [ 1, 0 ], [ 0, 1 ] ]\n",
      "[ [ -1, 0 ], [ 0, -1 ] ]\n",
      "[ [ -1, 0 ], [ 0, 1 ] ]\n",
      "[ [ 1, 0 ], [ 0, -1 ] ]\n",
      "\n",
      "----------------normalizers-------------------------\n",
      "(a == x1, b == 0, c == 0, d == x0)\n",
      "(a == x0, b == 0, c == 0, d == 0)\n",
      "\n",
      "====================================================\n",
      "9 point group: Group([ [ [ -1, 0 ], [ 0, -1 ] ], [ [ -1, 0 ], [ 0, 1 ] ] ])\n",
      "group elements:\n",
      "[ [ 1, 0 ], [ 0, 1 ] ]\n",
      "[ [ -1, 0 ], [ 0, -1 ] ]\n",
      "[ [ -1, 0 ], [ 0, 1 ] ]\n",
      "[ [ 1, 0 ], [ 0, -1 ] ]\n",
      "\n",
      "----------------normalizers-------------------------\n",
      "(a == x1, b == 0, c == 0, d == x0)\n",
      "(a == x0, b == 0, c == 0, d == 0)\n",
      "\n",
      "====================================================\n",
      "10 point group: Group([ [ [ -1, 0 ], [ 0, -1 ] ], [ [ 0, 1 ], [ -1, 0 ] ] ])\n",
      "group elements:\n",
      "[ [ 1, 0 ], [ 0, 1 ] ]\n",
      "[ [ -1, 0 ], [ 0, -1 ] ]\n",
      "[ [ 0, -1 ], [ 1, 0 ] ]\n",
      "[ [ 0, 1 ], [ -1, 0 ] ]\n",
      "\n",
      "----------------normalizers-------------------------\n",
      "(a == x0, b == -x1, c == x1, d == x0)\n",
      "(a == 0, b == 0, c == 0, d == 0)\n",
      "\n",
      "====================================================\n",
      "11 point group: Group([ [ [ -1, 0 ], [ 0, -1 ] ], [ [ 0, 1 ], [ -1, 0 ] ], \n",
      "  [ [ -1, 0 ], [ 0, 1 ] ] ])\n",
      "group elements:\n",
      "[ [ 1, 0 ], [ 0, 1 ] ]\n",
      "[ [ -1, 0 ], [ 0, -1 ] ]\n",
      "[ [ 0, -1 ], [ 1, 0 ] ]\n",
      "[ [ 0, 1 ], [ -1, 0 ] ]\n",
      "[ [ 1, 0 ], [ 0, -1 ] ]\n",
      "[ [ -1, 0 ], [ 0, 1 ] ]\n",
      "[ [ 0, -1 ], [ -1, 0 ] ]\n",
      "[ [ 0, 1 ], [ 1, 0 ] ]\n",
      "\n",
      "----------------normalizers-------------------------\n",
      "(a == x0, b == 0, c == 0, d == x0)\n",
      "(a == 0, b == 0, c == 0, d == 0)\n",
      "\n",
      "====================================================\n",
      "12 point group: Group([ [ [ -1, 0 ], [ 0, -1 ] ], [ [ 0, 1 ], [ -1, 0 ] ], \n",
      "  [ [ -1, 0 ], [ 0, 1 ] ] ])\n",
      "group elements:\n",
      "[ [ 1, 0 ], [ 0, 1 ] ]\n",
      "[ [ -1, 0 ], [ 0, -1 ] ]\n",
      "[ [ 0, -1 ], [ 1, 0 ] ]\n",
      "[ [ 0, 1 ], [ -1, 0 ] ]\n",
      "[ [ 1, 0 ], [ 0, -1 ] ]\n",
      "[ [ -1, 0 ], [ 0, 1 ] ]\n",
      "[ [ 0, -1 ], [ -1, 0 ] ]\n",
      "[ [ 0, 1 ], [ 1, 0 ] ]\n",
      "\n",
      "----------------normalizers-------------------------\n",
      "(a == x0, b == 0, c == 0, d == x0)\n",
      "(a == 0, b == 0, c == 0, d == 0)\n",
      "\n",
      "====================================================\n",
      "13 point group: Group([ [ [ 0, 1 ], [ -1, -1 ] ] ])\n",
      "group elements:\n",
      "[ [ 1, 0 ], [ 0, 1 ] ]\n",
      "[ [ -1, -1 ], [ 1, 0 ] ]\n",
      "[ [ 0, 1 ], [ -1, -1 ] ]\n",
      "\n",
      "----------------normalizers-------------------------\n",
      "(a == -x0 + x1, b == -x0, c == x0, d == x1)\n",
      "\n",
      "====================================================\n",
      "14 point group: Group([ [ [ 0, 1 ], [ -1, -1 ] ], [ [ 0, -1 ], [ -1, 0 ] ] ])\n",
      "group elements:\n",
      "[ [ 1, 0 ], [ 0, 1 ] ]\n",
      "[ [ -1, -1 ], [ 1, 0 ] ]\n",
      "[ [ 0, 1 ], [ -1, -1 ] ]\n",
      "[ [ 0, -1 ], [ -1, 0 ] ]\n",
      "[ [ -1, 0 ], [ 1, 1 ] ]\n",
      "[ [ 1, 1 ], [ 0, -1 ] ]\n",
      "\n",
      "----------------normalizers-------------------------\n",
      "(a == x0, b == 0, c == 0, d == x0)\n",
      "(a == 0, b == 0, c == 0, d == 0)\n",
      "\n",
      "====================================================\n",
      "15 point group: Group([ [ [ 0, 1 ], [ -1, -1 ] ], [ [ 0, 1 ], [ 1, 0 ] ] ])\n",
      "group elements:\n",
      "[ [ 1, 0 ], [ 0, 1 ] ]\n",
      "[ [ -1, -1 ], [ 1, 0 ] ]\n",
      "[ [ 0, 1 ], [ -1, -1 ] ]\n",
      "[ [ 0, 1 ], [ 1, 0 ] ]\n",
      "[ [ 1, 0 ], [ -1, -1 ] ]\n",
      "[ [ -1, -1 ], [ 0, 1 ] ]\n",
      "\n",
      "----------------normalizers-------------------------\n",
      "(a == x0, b == 0, c == 0, d == x0)\n",
      "(a == 0, b == 0, c == 0, d == 0)\n"
     ]
    },
    {
     "ename": "KeyboardInterrupt",
     "evalue": "Ctrl-c pressed while running Gap",
     "output_type": "error",
     "traceback": [
      "\u001b[0;31m---------------------------------------------------------------------------\u001b[0m",
      "\u001b[0;31mKeyboardInterrupt\u001b[0m                         Traceback (most recent call last)",
      "\u001b[0;32m/usr/lib/python3/dist-packages/sage/interfaces/gap.py\u001b[0m in \u001b[0;36m_eval_line\u001b[0;34m(self, line, allow_use_file, wait_for_prompt, restart_if_needed)\u001b[0m\n\u001b[1;32m    753\u001b[0m \u001b[0;34m\u001b[0m\u001b[0m\n\u001b[0;32m--> 754\u001b[0;31m             (normal, error) = self._execute_line(line, wait_for_prompt=wait_for_prompt,\n\u001b[0m\u001b[1;32m    755\u001b[0m                                                  expect_eof=expect_eof)\n",
      "\u001b[0;32m/usr/lib/python3/dist-packages/sage/interfaces/gap.py\u001b[0m in \u001b[0;36m_execute_line\u001b[0;34m(self, line, wait_for_prompt, expect_eof)\u001b[0m\n\u001b[1;32m    616\u001b[0m             \u001b[0;32mwhile\u001b[0m \u001b[0;32mTrue\u001b[0m\u001b[0;34m:\u001b[0m\u001b[0;34m\u001b[0m\u001b[0;34m\u001b[0m\u001b[0m\n\u001b[0;32m--> 617\u001b[0;31m                 \u001b[0mx\u001b[0m \u001b[0;34m=\u001b[0m \u001b[0mE\u001b[0m\u001b[0;34m.\u001b[0m\u001b[0mexpect_list\u001b[0m\u001b[0;34m(\u001b[0m\u001b[0mself\u001b[0m\u001b[0;34m.\u001b[0m\u001b[0m_compiled_full_pattern\u001b[0m\u001b[0;34m)\u001b[0m\u001b[0;34m\u001b[0m\u001b[0;34m\u001b[0m\u001b[0m\n\u001b[0m\u001b[1;32m    618\u001b[0m                 \u001b[0mcurrent_outputs\u001b[0m\u001b[0;34m.\u001b[0m\u001b[0mappend\u001b[0m\u001b[0;34m(\u001b[0m\u001b[0mE\u001b[0m\u001b[0;34m.\u001b[0m\u001b[0mbefore\u001b[0m\u001b[0;34m)\u001b[0m\u001b[0;34m\u001b[0m\u001b[0;34m\u001b[0m\u001b[0m\n",
      "\u001b[0;32m/usr/lib/python3/dist-packages/pexpect/spawnbase.py\u001b[0m in \u001b[0;36mexpect_list\u001b[0;34m(self, pattern_list, timeout, searchwindowsize, async_, **kw)\u001b[0m\n\u001b[1;32m    368\u001b[0m         \u001b[0;32melse\u001b[0m\u001b[0;34m:\u001b[0m\u001b[0;34m\u001b[0m\u001b[0;34m\u001b[0m\u001b[0m\n\u001b[0;32m--> 369\u001b[0;31m             \u001b[0;32mreturn\u001b[0m \u001b[0mexp\u001b[0m\u001b[0;34m.\u001b[0m\u001b[0mexpect_loop\u001b[0m\u001b[0;34m(\u001b[0m\u001b[0mtimeout\u001b[0m\u001b[0;34m)\u001b[0m\u001b[0;34m\u001b[0m\u001b[0;34m\u001b[0m\u001b[0m\n\u001b[0m\u001b[1;32m    370\u001b[0m \u001b[0;34m\u001b[0m\u001b[0m\n",
      "\u001b[0;32m/usr/lib/python3/dist-packages/pexpect/expect.py\u001b[0m in \u001b[0;36mexpect_loop\u001b[0;34m(self, timeout)\u001b[0m\n\u001b[1;32m    110\u001b[0m                 \u001b[0;31m# Still have time left, so read more data\u001b[0m\u001b[0;34m\u001b[0m\u001b[0;34m\u001b[0m\u001b[0;34m\u001b[0m\u001b[0m\n\u001b[0;32m--> 111\u001b[0;31m                 \u001b[0mincoming\u001b[0m \u001b[0;34m=\u001b[0m \u001b[0mspawn\u001b[0m\u001b[0;34m.\u001b[0m\u001b[0mread_nonblocking\u001b[0m\u001b[0;34m(\u001b[0m\u001b[0mspawn\u001b[0m\u001b[0;34m.\u001b[0m\u001b[0mmaxread\u001b[0m\u001b[0;34m,\u001b[0m \u001b[0mtimeout\u001b[0m\u001b[0;34m)\u001b[0m\u001b[0;34m\u001b[0m\u001b[0;34m\u001b[0m\u001b[0m\n\u001b[0m\u001b[1;32m    112\u001b[0m                 \u001b[0;32mif\u001b[0m \u001b[0mself\u001b[0m\u001b[0;34m.\u001b[0m\u001b[0mspawn\u001b[0m\u001b[0;34m.\u001b[0m\u001b[0mdelayafterread\u001b[0m \u001b[0;32mis\u001b[0m \u001b[0;32mnot\u001b[0m \u001b[0;32mNone\u001b[0m\u001b[0;34m:\u001b[0m\u001b[0;34m\u001b[0m\u001b[0;34m\u001b[0m\u001b[0m\n",
      "\u001b[0;32m/usr/lib/python3/dist-packages/pexpect/pty_spawn.py\u001b[0m in \u001b[0;36mread_nonblocking\u001b[0;34m(self, size, timeout)\u001b[0m\n\u001b[1;32m    469\u001b[0m         \u001b[0;32melse\u001b[0m\u001b[0;34m:\u001b[0m\u001b[0;34m\u001b[0m\u001b[0;34m\u001b[0m\u001b[0m\n\u001b[0;32m--> 470\u001b[0;31m             r, w, e = select_ignore_interrupts(\n\u001b[0m\u001b[1;32m    471\u001b[0m                 \u001b[0;34m[\u001b[0m\u001b[0mself\u001b[0m\u001b[0;34m.\u001b[0m\u001b[0mchild_fd\u001b[0m\u001b[0;34m]\u001b[0m\u001b[0;34m,\u001b[0m \u001b[0;34m[\u001b[0m\u001b[0;34m]\u001b[0m\u001b[0;34m,\u001b[0m \u001b[0;34m[\u001b[0m\u001b[0;34m]\u001b[0m\u001b[0;34m,\u001b[0m \u001b[0mtimeout\u001b[0m\u001b[0;34m\u001b[0m\u001b[0;34m\u001b[0m\u001b[0m\n",
      "\u001b[0;32m/usr/lib/python3/dist-packages/pexpect/utils.py\u001b[0m in \u001b[0;36mselect_ignore_interrupts\u001b[0;34m(iwtd, owtd, ewtd, timeout)\u001b[0m\n\u001b[1;32m    142\u001b[0m         \u001b[0;32mtry\u001b[0m\u001b[0;34m:\u001b[0m\u001b[0;34m\u001b[0m\u001b[0;34m\u001b[0m\u001b[0m\n\u001b[0;32m--> 143\u001b[0;31m             \u001b[0;32mreturn\u001b[0m \u001b[0mselect\u001b[0m\u001b[0;34m.\u001b[0m\u001b[0mselect\u001b[0m\u001b[0;34m(\u001b[0m\u001b[0miwtd\u001b[0m\u001b[0;34m,\u001b[0m \u001b[0mowtd\u001b[0m\u001b[0;34m,\u001b[0m \u001b[0mewtd\u001b[0m\u001b[0;34m,\u001b[0m \u001b[0mtimeout\u001b[0m\u001b[0;34m)\u001b[0m\u001b[0;34m\u001b[0m\u001b[0;34m\u001b[0m\u001b[0m\n\u001b[0m\u001b[1;32m    144\u001b[0m         \u001b[0;32mexcept\u001b[0m \u001b[0mInterruptedError\u001b[0m\u001b[0;34m:\u001b[0m\u001b[0;34m\u001b[0m\u001b[0;34m\u001b[0m\u001b[0m\n",
      "\u001b[0;32msrc/cysignals/signals.pyx\u001b[0m in \u001b[0;36mcysignals.signals.python_check_interrupt\u001b[0;34m()\u001b[0m\n",
      "\u001b[0;31mKeyboardInterrupt\u001b[0m: ",
      "\nDuring handling of the above exception, another exception occurred:\n",
      "\u001b[0;31mKeyboardInterrupt\u001b[0m                         Traceback (most recent call last)",
      "\u001b[0;32m<ipython-input-15-58a112739292>\u001b[0m in \u001b[0;36m<module>\u001b[0;34m\u001b[0m\n\u001b[1;32m      1\u001b[0m \u001b[0;32mfor\u001b[0m \u001b[0mi\u001b[0m \u001b[0;32min\u001b[0m \u001b[0mrange\u001b[0m\u001b[0;34m(\u001b[0m\u001b[0mInteger\u001b[0m\u001b[0;34m(\u001b[0m\u001b[0;36m1\u001b[0m\u001b[0;34m)\u001b[0m\u001b[0;34m,\u001b[0m \u001b[0mInteger\u001b[0m\u001b[0;34m(\u001b[0m\u001b[0;36m18\u001b[0m\u001b[0;34m)\u001b[0m\u001b[0;34m)\u001b[0m\u001b[0;34m:\u001b[0m\u001b[0;34m\u001b[0m\u001b[0;34m\u001b[0m\u001b[0m\n\u001b[0;32m----> 2\u001b[0;31m     \u001b[0m_\u001b[0m \u001b[0;34m=\u001b[0m \u001b[0mnormalizers_v2\u001b[0m\u001b[0;34m(\u001b[0m\u001b[0mi\u001b[0m\u001b[0;34m,\u001b[0m \u001b[0muse_alphabet\u001b[0m\u001b[0;34m=\u001b[0m\u001b[0;32mTrue\u001b[0m\u001b[0;34m,\u001b[0m \u001b[0mverbose\u001b[0m\u001b[0;34m=\u001b[0m\u001b[0;32mTrue\u001b[0m\u001b[0;34m)\u001b[0m\u001b[0;34m\u001b[0m\u001b[0;34m\u001b[0m\u001b[0m\n\u001b[0m",
      "\u001b[0;32m<ipython-input-14-56918c853bb8>\u001b[0m in \u001b[0;36mnormalizers_v2\u001b[0;34m(n, dim, verbose, use_alphabet, normalize_exp)\u001b[0m\n\u001b[1;32m      1\u001b[0m \u001b[0;32mdef\u001b[0m \u001b[0mnormalizers_v2\u001b[0m\u001b[0;34m(\u001b[0m\u001b[0mn\u001b[0m\u001b[0;34m,\u001b[0m \u001b[0mdim\u001b[0m\u001b[0;34m=\u001b[0m\u001b[0mInteger\u001b[0m\u001b[0;34m(\u001b[0m\u001b[0;36m2\u001b[0m\u001b[0;34m)\u001b[0m\u001b[0;34m,\u001b[0m \u001b[0mverbose\u001b[0m\u001b[0;34m=\u001b[0m\u001b[0;32mFalse\u001b[0m\u001b[0;34m,\u001b[0m \u001b[0muse_alphabet\u001b[0m\u001b[0;34m=\u001b[0m\u001b[0;32mFalse\u001b[0m\u001b[0;34m,\u001b[0m \u001b[0mnormalize_exp\u001b[0m\u001b[0;34m=\u001b[0m\u001b[0;32mTrue\u001b[0m\u001b[0;34m)\u001b[0m\u001b[0;34m:\u001b[0m\u001b[0;34m\u001b[0m\u001b[0;34m\u001b[0m\u001b[0m\n\u001b[0;32m----> 2\u001b[0;31m     \u001b[0mG\u001b[0m \u001b[0;34m=\u001b[0m \u001b[0mgap\u001b[0m\u001b[0;34m(\u001b[0m\u001b[0;34mf'SpaceGroupIT({dim}, {n})'\u001b[0m\u001b[0;34m)\u001b[0m\u001b[0;34m\u001b[0m\u001b[0;34m\u001b[0m\u001b[0m\n\u001b[0m\u001b[1;32m      3\u001b[0m     \u001b[0mS\u001b[0m \u001b[0;34m=\u001b[0m \u001b[0mG\u001b[0m\u001b[0;34m.\u001b[0m\u001b[0mPointGroup\u001b[0m\u001b[0;34m(\u001b[0m\u001b[0;34m)\u001b[0m\u001b[0;34m\u001b[0m\u001b[0;34m\u001b[0m\u001b[0m\n\u001b[1;32m      4\u001b[0m     \u001b[0ms_elements\u001b[0m \u001b[0;34m=\u001b[0m \u001b[0mS\u001b[0m\u001b[0;34m.\u001b[0m\u001b[0mAsList\u001b[0m\u001b[0;34m(\u001b[0m\u001b[0;34m)\u001b[0m\u001b[0;34m\u001b[0m\u001b[0;34m\u001b[0m\u001b[0m\n\u001b[1;32m      5\u001b[0m     \u001b[0mgens\u001b[0m \u001b[0;34m=\u001b[0m \u001b[0mlist\u001b[0m\u001b[0;34m(\u001b[0m\u001b[0mS\u001b[0m\u001b[0;34m.\u001b[0m\u001b[0mGeneratorsOfGroup\u001b[0m\u001b[0;34m(\u001b[0m\u001b[0;34m)\u001b[0m\u001b[0;34m)\u001b[0m\u001b[0;34m\u001b[0m\u001b[0;34m\u001b[0m\u001b[0m\n",
      "\u001b[0;32m/usr/lib/python3/dist-packages/sage/interfaces/interface.py\u001b[0m in \u001b[0;36m__call__\u001b[0;34m(self, x, name)\u001b[0m\n\u001b[1;32m    294\u001b[0m \u001b[0;34m\u001b[0m\u001b[0m\n\u001b[1;32m    295\u001b[0m         \u001b[0;32mif\u001b[0m \u001b[0misinstance\u001b[0m\u001b[0;34m(\u001b[0m\u001b[0mx\u001b[0m\u001b[0;34m,\u001b[0m \u001b[0mstring_types\u001b[0m\u001b[0;34m)\u001b[0m\u001b[0;34m:\u001b[0m\u001b[0;34m\u001b[0m\u001b[0;34m\u001b[0m\u001b[0m\n\u001b[0;32m--> 296\u001b[0;31m             \u001b[0;32mreturn\u001b[0m \u001b[0mcls\u001b[0m\u001b[0;34m(\u001b[0m\u001b[0mself\u001b[0m\u001b[0;34m,\u001b[0m \u001b[0mx\u001b[0m\u001b[0;34m,\u001b[0m \u001b[0mname\u001b[0m\u001b[0;34m=\u001b[0m\u001b[0mname\u001b[0m\u001b[0;34m)\u001b[0m\u001b[0;34m\u001b[0m\u001b[0;34m\u001b[0m\u001b[0m\n\u001b[0m\u001b[1;32m    297\u001b[0m         \u001b[0;32mtry\u001b[0m\u001b[0;34m:\u001b[0m\u001b[0;34m\u001b[0m\u001b[0;34m\u001b[0m\u001b[0m\n\u001b[1;32m    298\u001b[0m             \u001b[0;31m# Special methods do not and should not have an option to\u001b[0m\u001b[0;34m\u001b[0m\u001b[0;34m\u001b[0m\u001b[0;34m\u001b[0m\u001b[0m\n",
      "\u001b[0;32m/usr/lib/python3/dist-packages/sage/interfaces/expect.py\u001b[0m in \u001b[0;36m__init__\u001b[0;34m(self, parent, value, is_name, name)\u001b[0m\n\u001b[1;32m   1469\u001b[0m         \u001b[0;32melse\u001b[0m\u001b[0;34m:\u001b[0m\u001b[0;34m\u001b[0m\u001b[0;34m\u001b[0m\u001b[0m\n\u001b[1;32m   1470\u001b[0m             \u001b[0;32mtry\u001b[0m\u001b[0;34m:\u001b[0m\u001b[0;34m\u001b[0m\u001b[0;34m\u001b[0m\u001b[0m\n\u001b[0;32m-> 1471\u001b[0;31m                 \u001b[0mself\u001b[0m\u001b[0;34m.\u001b[0m\u001b[0m_name\u001b[0m \u001b[0;34m=\u001b[0m \u001b[0mparent\u001b[0m\u001b[0;34m.\u001b[0m\u001b[0m_create\u001b[0m\u001b[0;34m(\u001b[0m\u001b[0mvalue\u001b[0m\u001b[0;34m,\u001b[0m \u001b[0mname\u001b[0m\u001b[0;34m=\u001b[0m\u001b[0mname\u001b[0m\u001b[0;34m)\u001b[0m\u001b[0;34m\u001b[0m\u001b[0;34m\u001b[0m\u001b[0m\n\u001b[0m\u001b[1;32m   1472\u001b[0m             \u001b[0;31m# Convert ValueError and RuntimeError to TypeError for\u001b[0m\u001b[0;34m\u001b[0m\u001b[0;34m\u001b[0m\u001b[0;34m\u001b[0m\u001b[0m\n\u001b[1;32m   1473\u001b[0m             \u001b[0;31m# coercion to work properly.\u001b[0m\u001b[0;34m\u001b[0m\u001b[0;34m\u001b[0m\u001b[0;34m\u001b[0m\u001b[0m\n",
      "\u001b[0;32m/usr/lib/python3/dist-packages/sage/interfaces/interface.py\u001b[0m in \u001b[0;36m_create\u001b[0;34m(self, value, name)\u001b[0m\n\u001b[1;32m    499\u001b[0m     \u001b[0;32mdef\u001b[0m \u001b[0m_create\u001b[0m\u001b[0;34m(\u001b[0m\u001b[0mself\u001b[0m\u001b[0;34m,\u001b[0m \u001b[0mvalue\u001b[0m\u001b[0;34m,\u001b[0m \u001b[0mname\u001b[0m\u001b[0;34m=\u001b[0m\u001b[0;32mNone\u001b[0m\u001b[0;34m)\u001b[0m\u001b[0;34m:\u001b[0m\u001b[0;34m\u001b[0m\u001b[0;34m\u001b[0m\u001b[0m\n\u001b[1;32m    500\u001b[0m         \u001b[0mname\u001b[0m \u001b[0;34m=\u001b[0m \u001b[0mself\u001b[0m\u001b[0;34m.\u001b[0m\u001b[0m_next_var_name\u001b[0m\u001b[0;34m(\u001b[0m\u001b[0;34m)\u001b[0m \u001b[0;32mif\u001b[0m \u001b[0mname\u001b[0m \u001b[0;32mis\u001b[0m \u001b[0;32mNone\u001b[0m \u001b[0;32melse\u001b[0m \u001b[0mname\u001b[0m\u001b[0;34m\u001b[0m\u001b[0;34m\u001b[0m\u001b[0m\n\u001b[0;32m--> 501\u001b[0;31m         \u001b[0mself\u001b[0m\u001b[0;34m.\u001b[0m\u001b[0mset\u001b[0m\u001b[0;34m(\u001b[0m\u001b[0mname\u001b[0m\u001b[0;34m,\u001b[0m \u001b[0mvalue\u001b[0m\u001b[0;34m)\u001b[0m\u001b[0;34m\u001b[0m\u001b[0;34m\u001b[0m\u001b[0m\n\u001b[0m\u001b[1;32m    502\u001b[0m         \u001b[0;32mreturn\u001b[0m \u001b[0mname\u001b[0m\u001b[0;34m\u001b[0m\u001b[0;34m\u001b[0m\u001b[0m\n\u001b[1;32m    503\u001b[0m \u001b[0;34m\u001b[0m\u001b[0m\n",
      "\u001b[0;32m/usr/lib/python3/dist-packages/sage/interfaces/gap.py\u001b[0m in \u001b[0;36mset\u001b[0;34m(self, var, value)\u001b[0m\n\u001b[1;32m   1426\u001b[0m         \"\"\"\n\u001b[1;32m   1427\u001b[0m         \u001b[0mcmd\u001b[0m \u001b[0;34m=\u001b[0m \u001b[0;34m(\u001b[0m\u001b[0;34m'%s:=%s;;'\u001b[0m \u001b[0;34m%\u001b[0m \u001b[0;34m(\u001b[0m\u001b[0mvar\u001b[0m\u001b[0;34m,\u001b[0m \u001b[0mvalue\u001b[0m\u001b[0;34m)\u001b[0m\u001b[0;34m)\u001b[0m\u001b[0;34m.\u001b[0m\u001b[0mreplace\u001b[0m\u001b[0;34m(\u001b[0m\u001b[0;34m'\\n'\u001b[0m\u001b[0;34m,\u001b[0m\u001b[0;34m''\u001b[0m\u001b[0;34m)\u001b[0m\u001b[0;34m\u001b[0m\u001b[0;34m\u001b[0m\u001b[0m\n\u001b[0;32m-> 1428\u001b[0;31m         \u001b[0mself\u001b[0m\u001b[0;34m.\u001b[0m\u001b[0m_eval_line\u001b[0m\u001b[0;34m(\u001b[0m\u001b[0mcmd\u001b[0m\u001b[0;34m,\u001b[0m \u001b[0mallow_use_file\u001b[0m\u001b[0;34m=\u001b[0m\u001b[0;32mTrue\u001b[0m\u001b[0;34m)\u001b[0m\u001b[0;34m\u001b[0m\u001b[0;34m\u001b[0m\u001b[0m\n\u001b[0m\u001b[1;32m   1429\u001b[0m \u001b[0;34m\u001b[0m\u001b[0m\n\u001b[1;32m   1430\u001b[0m     \u001b[0;32mdef\u001b[0m \u001b[0mget\u001b[0m\u001b[0;34m(\u001b[0m\u001b[0mself\u001b[0m\u001b[0;34m,\u001b[0m \u001b[0mvar\u001b[0m\u001b[0;34m,\u001b[0m \u001b[0muse_file\u001b[0m\u001b[0;34m=\u001b[0m\u001b[0;32mFalse\u001b[0m\u001b[0;34m)\u001b[0m\u001b[0;34m:\u001b[0m\u001b[0;34m\u001b[0m\u001b[0;34m\u001b[0m\u001b[0m\n",
      "\u001b[0;32m/usr/lib/python3/dist-packages/sage/interfaces/gap.py\u001b[0m in \u001b[0;36m_eval_line\u001b[0;34m(self, line, allow_use_file, wait_for_prompt, restart_if_needed)\u001b[0m\n\u001b[1;32m    804\u001b[0m \u001b[0;34m\u001b[0m\u001b[0m\n\u001b[1;32m    805\u001b[0m         \u001b[0;32mexcept\u001b[0m \u001b[0mKeyboardInterrupt\u001b[0m\u001b[0;34m:\u001b[0m\u001b[0;34m\u001b[0m\u001b[0;34m\u001b[0m\u001b[0m\n\u001b[0;32m--> 806\u001b[0;31m             \u001b[0mself\u001b[0m\u001b[0;34m.\u001b[0m\u001b[0m_keyboard_interrupt\u001b[0m\u001b[0;34m(\u001b[0m\u001b[0;34m)\u001b[0m\u001b[0;34m\u001b[0m\u001b[0;34m\u001b[0m\u001b[0m\n\u001b[0m\u001b[1;32m    807\u001b[0m             \u001b[0;32mraise\u001b[0m \u001b[0mKeyboardInterrupt\u001b[0m\u001b[0;34m(\u001b[0m\u001b[0;34m\"Ctrl-c pressed while running %s\"\u001b[0m\u001b[0;34m%\u001b[0m\u001b[0mself\u001b[0m\u001b[0;34m)\u001b[0m\u001b[0;34m\u001b[0m\u001b[0;34m\u001b[0m\u001b[0m\n\u001b[1;32m    808\u001b[0m \u001b[0;34m\u001b[0m\u001b[0m\n",
      "\u001b[0;32m/usr/lib/python3/dist-packages/sage/interfaces/gap.py\u001b[0m in \u001b[0;36m_keyboard_interrupt\u001b[0;34m(self)\u001b[0m\n\u001b[1;32m    682\u001b[0m         \"\"\"\n\u001b[1;32m    683\u001b[0m         \u001b[0mself\u001b[0m\u001b[0;34m.\u001b[0m\u001b[0mquit\u001b[0m\u001b[0;34m(\u001b[0m\u001b[0;34m)\u001b[0m\u001b[0;34m\u001b[0m\u001b[0;34m\u001b[0m\u001b[0m\n\u001b[0;32m--> 684\u001b[0;31m         \u001b[0;32mraise\u001b[0m \u001b[0mKeyboardInterrupt\u001b[0m\u001b[0;34m(\u001b[0m\u001b[0;34m\"Ctrl-c pressed while running %s\"\u001b[0m\u001b[0;34m%\u001b[0m\u001b[0mself\u001b[0m\u001b[0;34m)\u001b[0m\u001b[0;34m\u001b[0m\u001b[0;34m\u001b[0m\u001b[0m\n\u001b[0m\u001b[1;32m    685\u001b[0m \u001b[0;34m\u001b[0m\u001b[0m\n\u001b[1;32m    686\u001b[0m     \u001b[0;32mdef\u001b[0m \u001b[0m_eval_line\u001b[0m\u001b[0;34m(\u001b[0m\u001b[0mself\u001b[0m\u001b[0;34m,\u001b[0m \u001b[0mline\u001b[0m\u001b[0;34m,\u001b[0m \u001b[0mallow_use_file\u001b[0m\u001b[0;34m=\u001b[0m\u001b[0;32mTrue\u001b[0m\u001b[0;34m,\u001b[0m \u001b[0mwait_for_prompt\u001b[0m\u001b[0;34m=\u001b[0m\u001b[0;32mTrue\u001b[0m\u001b[0;34m,\u001b[0m \u001b[0mrestart_if_needed\u001b[0m\u001b[0;34m=\u001b[0m\u001b[0;32mTrue\u001b[0m\u001b[0;34m)\u001b[0m\u001b[0;34m:\u001b[0m\u001b[0;34m\u001b[0m\u001b[0;34m\u001b[0m\u001b[0m\n",
      "\u001b[0;31mKeyboardInterrupt\u001b[0m: Ctrl-c pressed while running Gap"
     ]
    }
   ],
   "source": [
    "for i in range(1, 18):\n",
    "    _ = normalizers_v2(i, use_alphabet=True, verbose=True)"
   ]
  },
  {
   "cell_type": "code",
   "execution_count": 6,
   "metadata": {},
   "outputs": [],
   "source": [
    "def normalizers(n, dim=2, use_alphabet=False, verbose=False, normalize_exp=True):\n",
    "    G = gap(f'SpaceGroupIT({dim}, {n})')\n",
    "    S = G.PointGroup()\n",
    "    s_elements = [matrix(QQ, el) for el in S.AsList()]\n",
    "    \n",
    "    if verbose: \n",
    "        print('\\n====================================================')\n",
    "        print(n, 'point group:', S)\n",
    "\n",
    "        print('group elements:')\n",
    "        print(*s_elements, sep='\\n')\n",
    "        print('\\n----------------normalizers-------------------------')\n",
    "    \n",
    "    A, args = create_symbolic_matrix(dim, use_alphabet=use_alphabet)\n",
    "    \n",
    "    conditions = []\n",
    "    found_solutions = set()    \n",
    "    for perm in permutations(range(len(s_elements))):\n",
    "        \n",
    "        # check whether permutation maps elements with same order\n",
    "        check = True\n",
    "        for i in range(len(s_elements)):\n",
    "            if S.AsList()[i + 1].Order() != S.AsList()[perm[i] + 1].Order():\n",
    "                check = False \n",
    "                break \n",
    "        if not check: \n",
    "            continue\n",
    "        \n",
    "        # build conditions AX = YA for every X -> Y due to chosen permutation \n",
    "        cond_perm = set()\n",
    "        for i in range(len(s_elements)):\n",
    "            cond_i = A * s_elements[i] - s_elements[perm[i]] * A\n",
    "            for el in cond_i: \n",
    "                cond_perm = cond_perm.union(set(el))\n",
    "    \n",
    "        eq = [cond == 0 for cond in cond_perm]\n",
    "        for res in solve(eq, *args):\n",
    "            if not res: \n",
    "                if verbose: print(res) \n",
    "                continue\n",
    "            res = tuple(res) \n",
    "            if normalize_exp:\n",
    "                res = normalize_expressions(res)\n",
    "            if res not in found_solutions and verbose: \n",
    "                print(res)\n",
    "    \n",
    "            found_solutions.add(res)\n",
    "\n",
    "    return found_solutions\n"
   ]
  },
  {
   "cell_type": "code",
   "execution_count": 33,
   "metadata": {
    "scrolled": true
   },
   "outputs": [
    {
     "name": "stdout",
     "output_type": "stream",
     "text": [
      "\n",
      "====================================================\n",
      "14 point group: Group([ [ [ 0, 1 ], [ -1, -1 ] ], [ [ 0, -1 ], [ -1, 0 ] ] ])\n",
      "group elements:\n",
      "[1 0]\n",
      "[0 1]\n",
      "[-1 -1]\n",
      "[ 1  0]\n",
      "[ 0  1]\n",
      "[-1 -1]\n",
      "[ 0 -1]\n",
      "[-1  0]\n",
      "[-1  0]\n",
      "[ 1  1]\n",
      "[ 1  1]\n",
      "[ 0 -1]\n",
      "\n",
      "----------------normalizers-------------------------\n",
      "(a == x0, b == 0, c == 0, d == x0)\n",
      "(a == 0, b == 0, c == 0, d == 0)\n",
      "(a == x0, b == x0, c == -x0, d == 0)\n",
      "(a == 0, b == -x0, c == x0, d == x0)\n",
      "(a == 0, b == x0, c == x0, d == 0)\n",
      "(a == -x0, b == -x0, c == 0, d == x0)\n",
      "(a == -x0, b == 0, c == x0, d == x0)\n"
     ]
    }
   ],
   "source": [
    "_ = normalizers(14, verbose=True)"
   ]
  },
  {
   "cell_type": "code",
   "execution_count": 165,
   "metadata": {
    "scrolled": true
   },
   "outputs": [
    {
     "name": "stdout",
     "output_type": "stream",
     "text": [
      "\n",
      "====================================================\n",
      "1 point group: Group([],[ [ 1, 0 ], [ 0, 1 ] ])\n",
      "group elements:\n",
      "[1 0]\n",
      "[0 1]\n",
      "\n",
      "----------------normalizers-------------------------\n",
      "False\n",
      "\n",
      "====================================================\n",
      "2 point group: Group([ [ [ -1, 0 ], [ 0, -1 ] ] ])\n",
      "group elements:\n",
      "[1 0]\n",
      "[0 1]\n",
      "[-1  0]\n",
      "[ 0 -1]\n",
      "\n",
      "----------------normalizers-------------------------\n",
      "False\n",
      "\n",
      "====================================================\n",
      "3 point group: Group([ [ [ -1, 0 ], [ 0, 1 ] ] ])\n",
      "group elements:\n",
      "[1 0]\n",
      "[0 1]\n",
      "[-1  0]\n",
      "[ 0  1]\n",
      "\n",
      "----------------normalizers-------------------------\n",
      "(a == x1, b == 0, c == 0, d == x0)\n",
      "\n",
      "====================================================\n",
      "4 point group: Group([ [ [ -1, 0 ], [ 0, 1 ] ] ])\n",
      "group elements:\n",
      "[1 0]\n",
      "[0 1]\n",
      "[-1  0]\n",
      "[ 0  1]\n",
      "\n",
      "----------------normalizers-------------------------\n",
      "(a == x1, b == 0, c == 0, d == x0)\n",
      "\n",
      "====================================================\n",
      "5 point group: Group([ [ [ -1, 0 ], [ 0, 1 ] ] ])\n",
      "group elements:\n",
      "[1 0]\n",
      "[0 1]\n",
      "[-1  0]\n",
      "[ 0  1]\n",
      "\n",
      "----------------normalizers-------------------------\n",
      "(a == x1, b == 0, c == 0, d == x0)\n",
      "\n",
      "====================================================\n",
      "6 point group: Group([ [ [ -1, 0 ], [ 0, -1 ] ], [ [ -1, 0 ], [ 0, 1 ] ] ])\n",
      "group elements:\n",
      "[1 0]\n",
      "[0 1]\n",
      "[-1  0]\n",
      "[ 0 -1]\n",
      "[-1  0]\n",
      "[ 0  1]\n",
      "[ 1  0]\n",
      "[ 0 -1]\n",
      "\n",
      "----------------normalizers-------------------------\n",
      "(a == x0, b == 0, c == 0, d == x1)\n",
      "(a == 0, b == x0, c == x1, d == 0)\n",
      "(a == x0, b == 0, c == 0, d == 0)\n",
      "(a == 0, b == x0, c == 0, d == 0)\n",
      "(a == 0, b == 0, c == x0, d == 0)\n",
      "(a == 0, b == 0, c == 0, d == x0)\n",
      "\n",
      "====================================================\n",
      "7 point group: Group([ [ [ -1, 0 ], [ 0, -1 ] ], [ [ -1, 0 ], [ 0, 1 ] ] ])\n",
      "group elements:\n",
      "[1 0]\n",
      "[0 1]\n",
      "[-1  0]\n",
      "[ 0 -1]\n",
      "[-1  0]\n",
      "[ 0  1]\n",
      "[ 1  0]\n",
      "[ 0 -1]\n",
      "\n",
      "----------------normalizers-------------------------\n",
      "(a == x0, b == 0, c == 0, d == x1)\n",
      "(a == 0, b == x0, c == x1, d == 0)\n",
      "(a == x0, b == 0, c == 0, d == 0)\n",
      "(a == 0, b == x0, c == 0, d == 0)\n",
      "(a == 0, b == 0, c == x0, d == 0)\n",
      "(a == 0, b == 0, c == 0, d == x0)\n",
      "\n",
      "====================================================\n",
      "8 point group: Group([ [ [ -1, 0 ], [ 0, -1 ] ], [ [ -1, 0 ], [ 0, 1 ] ] ])\n",
      "group elements:\n",
      "[1 0]\n",
      "[0 1]\n",
      "[-1  0]\n",
      "[ 0 -1]\n",
      "[-1  0]\n",
      "[ 0  1]\n",
      "[ 1  0]\n",
      "[ 0 -1]\n",
      "\n",
      "----------------normalizers-------------------------\n",
      "(a == x0, b == 0, c == 0, d == x1)\n",
      "(a == 0, b == x0, c == x1, d == 0)\n",
      "(a == x0, b == 0, c == 0, d == 0)\n",
      "(a == 0, b == x0, c == 0, d == 0)\n",
      "(a == 0, b == 0, c == x0, d == 0)\n",
      "(a == 0, b == 0, c == 0, d == x0)\n",
      "\n",
      "====================================================\n",
      "9 point group: Group([ [ [ -1, 0 ], [ 0, -1 ] ], [ [ -1, 0 ], [ 0, 1 ] ] ])\n",
      "group elements:\n",
      "[1 0]\n",
      "[0 1]\n",
      "[-1  0]\n",
      "[ 0 -1]\n",
      "[-1  0]\n",
      "[ 0  1]\n",
      "[ 1  0]\n",
      "[ 0 -1]\n",
      "\n",
      "----------------normalizers-------------------------\n",
      "(a == x0, b == 0, c == 0, d == x1)\n",
      "(a == 0, b == x0, c == x1, d == 0)\n",
      "(a == x0, b == 0, c == 0, d == 0)\n",
      "(a == 0, b == x0, c == 0, d == 0)\n",
      "(a == 0, b == 0, c == x0, d == 0)\n",
      "(a == 0, b == 0, c == 0, d == x0)\n",
      "\n",
      "====================================================\n",
      "10 point group: Group([ [ [ -1, 0 ], [ 0, -1 ] ], [ [ 0, 1 ], [ -1, 0 ] ] ])\n",
      "group elements:\n",
      "[1 0]\n",
      "[0 1]\n",
      "[-1  0]\n",
      "[ 0 -1]\n",
      "[ 0 -1]\n",
      "[ 1  0]\n",
      "[ 0  1]\n",
      "[-1  0]\n",
      "\n",
      "----------------normalizers-------------------------\n",
      "(a == x0, b == -x1, c == x1, d == x0)\n",
      "(a == -x0, b == x1, c == x1, d == x0)\n",
      "\n",
      "====================================================\n",
      "11 point group: Group([ [ [ -1, 0 ], [ 0, -1 ] ], [ [ 0, 1 ], [ -1, 0 ] ], \n",
      "  [ [ -1, 0 ], [ 0, 1 ] ] ])\n",
      "group elements:\n",
      "[1 0]\n",
      "[0 1]\n",
      "[-1  0]\n",
      "[ 0 -1]\n",
      "[ 0 -1]\n",
      "[ 1  0]\n",
      "[ 0  1]\n",
      "[-1  0]\n",
      "[ 1  0]\n",
      "[ 0 -1]\n",
      "[-1  0]\n",
      "[ 0  1]\n",
      "[ 0 -1]\n",
      "[-1  0]\n",
      "[0 1]\n",
      "[1 0]\n",
      "\n",
      "----------------normalizers-------------------------\n",
      "(a == x0, b == 0, c == 0, d == x0)\n",
      "(a == 0, b == 0, c == 0, d == 0)\n",
      "(a == 0, b == x0, c == -x0, d == 0)\n",
      "(a == x0, b == x0, c == -x0, d == x0)\n",
      "(a == x0, b == -x0, c == x0, d == x0)\n",
      "(a == -x0, b == 0, c == 0, d == x0)\n",
      "(a == 0, b == x0, c == x0, d == 0)\n",
      "(a == -x0, b == x0, c == x0, d == x0)\n",
      "(a == -x0, b == -x0, c == -x0, d == x0)\n",
      "\n",
      "====================================================\n",
      "12 point group: Group([ [ [ -1, 0 ], [ 0, -1 ] ], [ [ 0, 1 ], [ -1, 0 ] ], \n",
      "  [ [ -1, 0 ], [ 0, 1 ] ] ])\n",
      "group elements:\n",
      "[1 0]\n",
      "[0 1]\n",
      "[-1  0]\n",
      "[ 0 -1]\n",
      "[ 0 -1]\n",
      "[ 1  0]\n",
      "[ 0  1]\n",
      "[-1  0]\n",
      "[ 1  0]\n",
      "[ 0 -1]\n",
      "[-1  0]\n",
      "[ 0  1]\n",
      "[ 0 -1]\n",
      "[-1  0]\n",
      "[0 1]\n",
      "[1 0]\n",
      "\n",
      "----------------normalizers-------------------------\n",
      "(a == x0, b == 0, c == 0, d == x0)\n",
      "(a == 0, b == 0, c == 0, d == 0)\n",
      "(a == 0, b == x0, c == -x0, d == 0)\n",
      "(a == x0, b == x0, c == -x0, d == x0)\n",
      "(a == x0, b == -x0, c == x0, d == x0)\n",
      "(a == -x0, b == 0, c == 0, d == x0)\n",
      "(a == 0, b == x0, c == x0, d == 0)\n",
      "(a == -x0, b == x0, c == x0, d == x0)\n",
      "(a == -x0, b == -x0, c == -x0, d == x0)\n",
      "\n",
      "====================================================\n",
      "13 point group: Group([ [ [ 0, 1 ], [ -1, -1 ] ] ])\n",
      "group elements:\n",
      "[1 0]\n",
      "[0 1]\n",
      "[-1 -1]\n",
      "[ 1  0]\n",
      "[ 0  1]\n",
      "[-1 -1]\n",
      "\n",
      "----------------normalizers-------------------------\n",
      "(a == -x0 + x1, b == -x0, c == x0, d == x1)\n",
      "(a == -x0, b == -x0 + x1, c == x1, d == x0)\n",
      "\n",
      "====================================================\n",
      "14 point group: Group([ [ [ 0, 1 ], [ -1, -1 ] ], [ [ 0, -1 ], [ -1, 0 ] ] ])\n",
      "group elements:\n",
      "[1 0]\n",
      "[0 1]\n",
      "[-1 -1]\n",
      "[ 1  0]\n",
      "[ 0  1]\n",
      "[-1 -1]\n",
      "[ 0 -1]\n",
      "[-1  0]\n",
      "[-1  0]\n",
      "[ 1  1]\n",
      "[ 1  1]\n",
      "[ 0 -1]\n",
      "\n",
      "----------------normalizers-------------------------\n",
      "(a == x0, b == 0, c == 0, d == x0)\n",
      "(a == 0, b == 0, c == 0, d == 0)\n",
      "(a == x0, b == x0, c == -x0, d == 0)\n",
      "(a == 0, b == -x0, c == x0, d == x0)\n",
      "(a == 0, b == x0, c == x0, d == 0)\n",
      "(a == -x0, b == -x0, c == 0, d == x0)\n",
      "(a == -x0, b == 0, c == x0, d == x0)\n",
      "\n",
      "====================================================\n",
      "15 point group: Group([ [ [ 0, 1 ], [ -1, -1 ] ], [ [ 0, 1 ], [ 1, 0 ] ] ])\n",
      "group elements:\n",
      "[1 0]\n",
      "[0 1]\n",
      "[-1 -1]\n",
      "[ 1  0]\n",
      "[ 0  1]\n",
      "[-1 -1]\n",
      "[0 1]\n",
      "[1 0]\n",
      "[ 1  0]\n",
      "[-1 -1]\n",
      "[-1 -1]\n",
      "[ 0  1]\n",
      "\n",
      "----------------normalizers-------------------------\n",
      "(a == x0, b == 0, c == 0, d == x0)\n",
      "(a == 0, b == 0, c == 0, d == 0)\n",
      "(a == x0, b == x0, c == -x0, d == 0)\n",
      "(a == 0, b == -x0, c == x0, d == x0)\n",
      "(a == 0, b == x0, c == x0, d == 0)\n",
      "(a == -x0, b == -x0, c == 0, d == x0)\n",
      "(a == -x0, b == 0, c == x0, d == x0)\n",
      "\n",
      "====================================================\n",
      "16 point group: Group([ [ [ 0, 1 ], [ -1, -1 ] ], [ [ -1, 0 ], [ 0, -1 ] ] ])\n",
      "group elements:\n",
      "[1 0]\n",
      "[0 1]\n",
      "[-1 -1]\n",
      "[ 1  0]\n",
      "[ 0  1]\n",
      "[-1 -1]\n",
      "[-1  0]\n",
      "[ 0 -1]\n",
      "[ 1  1]\n",
      "[-1  0]\n",
      "[ 0 -1]\n",
      "[ 1  1]\n",
      "\n",
      "----------------normalizers-------------------------\n",
      "(a == -x0 + x1, b == -x0, c == x0, d == x1)\n",
      "(a == 0, b == 0, c == 0, d == 0)\n",
      "(a == -x0, b == -x0 + x1, c == x1, d == x0)\n"
     ]
    }
   ],
   "source": [
    "for i in range(1, 17):\n",
    "    _ = normalizers(i, verbose=True)"
   ]
  },
  {
   "cell_type": "code",
   "execution_count": 162,
   "metadata": {
    "scrolled": true
   },
   "outputs": [
    {
     "name": "stdout",
     "output_type": "stream",
     "text": [
      "\n",
      "====================================================\n",
      "17 point group: Group([ [ [ 0, 1 ], [ -1, -1 ] ], [ [ -1, 0 ], [ 0, -1 ] ], \n",
      "  [ [ 0, -1 ], [ -1, 0 ] ] ])\n",
      "group elements:\n",
      "[1 0]\n",
      "[0 1]\n",
      "[-1 -1]\n",
      "[ 1  0]\n",
      "[ 0  1]\n",
      "[-1 -1]\n",
      "[-1  0]\n",
      "[ 0 -1]\n",
      "[ 1  1]\n",
      "[-1  0]\n",
      "[ 0 -1]\n",
      "[ 1  1]\n",
      "[ 1  0]\n",
      "[-1 -1]\n",
      "[-1 -1]\n",
      "[ 0  1]\n",
      "[0 1]\n",
      "[1 0]\n",
      "[-1  0]\n",
      "[ 1  1]\n",
      "[ 1  1]\n",
      "[ 0 -1]\n",
      "[ 0 -1]\n",
      "[-1  0]\n",
      "\n",
      "----------------normalizers-------------------------\n",
      "(a == x0, b == 0, c == 0, d == x0)\n",
      "(a == 0, b == 0, c == 0, d == 0)\n",
      "(a == x0, b == x0, c == -x0, d == 0)\n",
      "(a == 0, b == -x0, c == x0, d == x0)\n",
      "(a == 1/2*x0, b == x0, c == -x0, d == -1/2*x0)\n",
      "(a == 1/2*x0, b == -1/2*x0, c == 1/2*x0, d == x0)\n",
      "(a == 2*x0, b == x0, c == -x0, d == x0)\n"
     ]
    },
    {
     "ename": "KeyboardInterrupt",
     "evalue": "Ctrl-c pressed while running Gap",
     "output_type": "error",
     "traceback": [
      "\u001b[0;31m---------------------------------------------------------------------------\u001b[0m",
      "\u001b[0;31mKeyboardInterrupt\u001b[0m                         Traceback (most recent call last)",
      "\u001b[0;32m/usr/lib/python3/dist-packages/sage/interfaces/gap.py\u001b[0m in \u001b[0;36m_eval_line\u001b[0;34m(self, line, allow_use_file, wait_for_prompt, restart_if_needed)\u001b[0m\n\u001b[1;32m    753\u001b[0m \u001b[0;34m\u001b[0m\u001b[0m\n\u001b[0;32m--> 754\u001b[0;31m             (normal, error) = self._execute_line(line, wait_for_prompt=wait_for_prompt,\n\u001b[0m\u001b[1;32m    755\u001b[0m                                                  expect_eof=expect_eof)\n",
      "\u001b[0;32m/usr/lib/python3/dist-packages/sage/interfaces/gap.py\u001b[0m in \u001b[0;36m_execute_line\u001b[0;34m(self, line, wait_for_prompt, expect_eof)\u001b[0m\n\u001b[1;32m    616\u001b[0m             \u001b[0;32mwhile\u001b[0m \u001b[0;32mTrue\u001b[0m\u001b[0;34m:\u001b[0m\u001b[0;34m\u001b[0m\u001b[0;34m\u001b[0m\u001b[0m\n\u001b[0;32m--> 617\u001b[0;31m                 \u001b[0mx\u001b[0m \u001b[0;34m=\u001b[0m \u001b[0mE\u001b[0m\u001b[0;34m.\u001b[0m\u001b[0mexpect_list\u001b[0m\u001b[0;34m(\u001b[0m\u001b[0mself\u001b[0m\u001b[0;34m.\u001b[0m\u001b[0m_compiled_full_pattern\u001b[0m\u001b[0;34m)\u001b[0m\u001b[0;34m\u001b[0m\u001b[0;34m\u001b[0m\u001b[0m\n\u001b[0m\u001b[1;32m    618\u001b[0m                 \u001b[0mcurrent_outputs\u001b[0m\u001b[0;34m.\u001b[0m\u001b[0mappend\u001b[0m\u001b[0;34m(\u001b[0m\u001b[0mE\u001b[0m\u001b[0;34m.\u001b[0m\u001b[0mbefore\u001b[0m\u001b[0;34m)\u001b[0m\u001b[0;34m\u001b[0m\u001b[0;34m\u001b[0m\u001b[0m\n",
      "\u001b[0;32m/usr/lib/python3/dist-packages/pexpect/spawnbase.py\u001b[0m in \u001b[0;36mexpect_list\u001b[0;34m(self, pattern_list, timeout, searchwindowsize, async_, **kw)\u001b[0m\n\u001b[1;32m    368\u001b[0m         \u001b[0;32melse\u001b[0m\u001b[0;34m:\u001b[0m\u001b[0;34m\u001b[0m\u001b[0;34m\u001b[0m\u001b[0m\n\u001b[0;32m--> 369\u001b[0;31m             \u001b[0;32mreturn\u001b[0m \u001b[0mexp\u001b[0m\u001b[0;34m.\u001b[0m\u001b[0mexpect_loop\u001b[0m\u001b[0;34m(\u001b[0m\u001b[0mtimeout\u001b[0m\u001b[0;34m)\u001b[0m\u001b[0;34m\u001b[0m\u001b[0;34m\u001b[0m\u001b[0m\n\u001b[0m\u001b[1;32m    370\u001b[0m \u001b[0;34m\u001b[0m\u001b[0m\n",
      "\u001b[0;32m/usr/lib/python3/dist-packages/pexpect/expect.py\u001b[0m in \u001b[0;36mexpect_loop\u001b[0;34m(self, timeout)\u001b[0m\n\u001b[1;32m    110\u001b[0m                 \u001b[0;31m# Still have time left, so read more data\u001b[0m\u001b[0;34m\u001b[0m\u001b[0;34m\u001b[0m\u001b[0;34m\u001b[0m\u001b[0m\n\u001b[0;32m--> 111\u001b[0;31m                 \u001b[0mincoming\u001b[0m \u001b[0;34m=\u001b[0m \u001b[0mspawn\u001b[0m\u001b[0;34m.\u001b[0m\u001b[0mread_nonblocking\u001b[0m\u001b[0;34m(\u001b[0m\u001b[0mspawn\u001b[0m\u001b[0;34m.\u001b[0m\u001b[0mmaxread\u001b[0m\u001b[0;34m,\u001b[0m \u001b[0mtimeout\u001b[0m\u001b[0;34m)\u001b[0m\u001b[0;34m\u001b[0m\u001b[0;34m\u001b[0m\u001b[0m\n\u001b[0m\u001b[1;32m    112\u001b[0m                 \u001b[0;32mif\u001b[0m \u001b[0mself\u001b[0m\u001b[0;34m.\u001b[0m\u001b[0mspawn\u001b[0m\u001b[0;34m.\u001b[0m\u001b[0mdelayafterread\u001b[0m \u001b[0;32mis\u001b[0m \u001b[0;32mnot\u001b[0m \u001b[0;32mNone\u001b[0m\u001b[0;34m:\u001b[0m\u001b[0;34m\u001b[0m\u001b[0;34m\u001b[0m\u001b[0m\n",
      "\u001b[0;32m/usr/lib/python3/dist-packages/pexpect/pty_spawn.py\u001b[0m in \u001b[0;36mread_nonblocking\u001b[0;34m(self, size, timeout)\u001b[0m\n\u001b[1;32m    469\u001b[0m         \u001b[0;32melse\u001b[0m\u001b[0;34m:\u001b[0m\u001b[0;34m\u001b[0m\u001b[0;34m\u001b[0m\u001b[0m\n\u001b[0;32m--> 470\u001b[0;31m             r, w, e = select_ignore_interrupts(\n\u001b[0m\u001b[1;32m    471\u001b[0m                 \u001b[0;34m[\u001b[0m\u001b[0mself\u001b[0m\u001b[0;34m.\u001b[0m\u001b[0mchild_fd\u001b[0m\u001b[0;34m]\u001b[0m\u001b[0;34m,\u001b[0m \u001b[0;34m[\u001b[0m\u001b[0;34m]\u001b[0m\u001b[0;34m,\u001b[0m \u001b[0;34m[\u001b[0m\u001b[0;34m]\u001b[0m\u001b[0;34m,\u001b[0m \u001b[0mtimeout\u001b[0m\u001b[0;34m\u001b[0m\u001b[0;34m\u001b[0m\u001b[0m\n",
      "\u001b[0;32m/usr/lib/python3/dist-packages/pexpect/utils.py\u001b[0m in \u001b[0;36mselect_ignore_interrupts\u001b[0;34m(iwtd, owtd, ewtd, timeout)\u001b[0m\n\u001b[1;32m    142\u001b[0m         \u001b[0;32mtry\u001b[0m\u001b[0;34m:\u001b[0m\u001b[0;34m\u001b[0m\u001b[0;34m\u001b[0m\u001b[0m\n\u001b[0;32m--> 143\u001b[0;31m             \u001b[0;32mreturn\u001b[0m \u001b[0mselect\u001b[0m\u001b[0;34m.\u001b[0m\u001b[0mselect\u001b[0m\u001b[0;34m(\u001b[0m\u001b[0miwtd\u001b[0m\u001b[0;34m,\u001b[0m \u001b[0mowtd\u001b[0m\u001b[0;34m,\u001b[0m \u001b[0mewtd\u001b[0m\u001b[0;34m,\u001b[0m \u001b[0mtimeout\u001b[0m\u001b[0;34m)\u001b[0m\u001b[0;34m\u001b[0m\u001b[0;34m\u001b[0m\u001b[0m\n\u001b[0m\u001b[1;32m    144\u001b[0m         \u001b[0;32mexcept\u001b[0m \u001b[0mInterruptedError\u001b[0m\u001b[0;34m:\u001b[0m\u001b[0;34m\u001b[0m\u001b[0;34m\u001b[0m\u001b[0m\n",
      "\u001b[0;32msrc/cysignals/signals.pyx\u001b[0m in \u001b[0;36mcysignals.signals.python_check_interrupt\u001b[0;34m()\u001b[0m\n",
      "\u001b[0;31mKeyboardInterrupt\u001b[0m: ",
      "\nDuring handling of the above exception, another exception occurred:\n",
      "\u001b[0;31mKeyboardInterrupt\u001b[0m                         Traceback (most recent call last)",
      "\u001b[0;32m<ipython-input-162-84f8dd2cdc0f>\u001b[0m in \u001b[0;36m<module>\u001b[0;34m\u001b[0m\n\u001b[0;32m----> 1\u001b[0;31m \u001b[0m_\u001b[0m \u001b[0;34m=\u001b[0m \u001b[0mnormalizers\u001b[0m\u001b[0;34m(\u001b[0m\u001b[0mInteger\u001b[0m\u001b[0;34m(\u001b[0m\u001b[0;36m17\u001b[0m\u001b[0;34m)\u001b[0m\u001b[0;34m,\u001b[0m \u001b[0mverbose\u001b[0m\u001b[0;34m=\u001b[0m\u001b[0;32mTrue\u001b[0m\u001b[0;34m)\u001b[0m\u001b[0;34m\u001b[0m\u001b[0;34m\u001b[0m\u001b[0m\n\u001b[0m",
      "\u001b[0;32m<ipython-input-159-66c4c6f344bb>\u001b[0m in \u001b[0;36mnormalizers\u001b[0;34m(n, verbose)\u001b[0m\n\u001b[1;32m     22\u001b[0m         \u001b[0mcheck\u001b[0m \u001b[0;34m=\u001b[0m \u001b[0;32mTrue\u001b[0m\u001b[0;34m\u001b[0m\u001b[0;34m\u001b[0m\u001b[0m\n\u001b[1;32m     23\u001b[0m         \u001b[0;32mfor\u001b[0m \u001b[0mi\u001b[0m \u001b[0;32min\u001b[0m \u001b[0mrange\u001b[0m\u001b[0;34m(\u001b[0m\u001b[0mlen\u001b[0m\u001b[0;34m(\u001b[0m\u001b[0ms_elements\u001b[0m\u001b[0;34m)\u001b[0m\u001b[0;34m)\u001b[0m\u001b[0;34m:\u001b[0m\u001b[0;34m\u001b[0m\u001b[0;34m\u001b[0m\u001b[0m\n\u001b[0;32m---> 24\u001b[0;31m             \u001b[0;32mif\u001b[0m \u001b[0mS\u001b[0m\u001b[0;34m.\u001b[0m\u001b[0mAsList\u001b[0m\u001b[0;34m(\u001b[0m\u001b[0;34m)\u001b[0m\u001b[0;34m[\u001b[0m\u001b[0mi\u001b[0m \u001b[0;34m+\u001b[0m \u001b[0mInteger\u001b[0m\u001b[0;34m(\u001b[0m\u001b[0;36m1\u001b[0m\u001b[0;34m)\u001b[0m\u001b[0;34m]\u001b[0m\u001b[0;34m.\u001b[0m\u001b[0mOrder\u001b[0m\u001b[0;34m(\u001b[0m\u001b[0;34m)\u001b[0m \u001b[0;34m!=\u001b[0m \u001b[0mS\u001b[0m\u001b[0;34m.\u001b[0m\u001b[0mAsList\u001b[0m\u001b[0;34m(\u001b[0m\u001b[0;34m)\u001b[0m\u001b[0;34m[\u001b[0m\u001b[0mperm\u001b[0m\u001b[0;34m[\u001b[0m\u001b[0mi\u001b[0m\u001b[0;34m]\u001b[0m \u001b[0;34m+\u001b[0m \u001b[0mInteger\u001b[0m\u001b[0;34m(\u001b[0m\u001b[0;36m1\u001b[0m\u001b[0;34m)\u001b[0m\u001b[0;34m]\u001b[0m\u001b[0;34m.\u001b[0m\u001b[0mOrder\u001b[0m\u001b[0;34m(\u001b[0m\u001b[0;34m)\u001b[0m\u001b[0;34m:\u001b[0m\u001b[0;34m\u001b[0m\u001b[0;34m\u001b[0m\u001b[0m\n\u001b[0m\u001b[1;32m     25\u001b[0m                 \u001b[0mcheck\u001b[0m \u001b[0;34m=\u001b[0m \u001b[0;32mFalse\u001b[0m\u001b[0;34m\u001b[0m\u001b[0;34m\u001b[0m\u001b[0m\n\u001b[1;32m     26\u001b[0m                 \u001b[0;32mbreak\u001b[0m\u001b[0;34m\u001b[0m\u001b[0;34m\u001b[0m\u001b[0m\n",
      "\u001b[0;32m/usr/lib/python3/dist-packages/sage/interfaces/gap.py\u001b[0m in \u001b[0;36m__getitem__\u001b[0;34m(self, n)\u001b[0m\n\u001b[1;32m   1617\u001b[0m         \u001b[0mself\u001b[0m\u001b[0;34m.\u001b[0m\u001b[0m_check_valid\u001b[0m\u001b[0;34m(\u001b[0m\u001b[0;34m)\u001b[0m\u001b[0;34m\u001b[0m\u001b[0;34m\u001b[0m\u001b[0m\n\u001b[1;32m   1618\u001b[0m         \u001b[0;32mif\u001b[0m \u001b[0;32mnot\u001b[0m \u001b[0misinstance\u001b[0m\u001b[0;34m(\u001b[0m\u001b[0mn\u001b[0m\u001b[0;34m,\u001b[0m \u001b[0mtuple\u001b[0m\u001b[0;34m)\u001b[0m\u001b[0;34m:\u001b[0m\u001b[0;34m\u001b[0m\u001b[0;34m\u001b[0m\u001b[0m\n\u001b[0;32m-> 1619\u001b[0;31m             \u001b[0;32mreturn\u001b[0m \u001b[0mself\u001b[0m\u001b[0;34m.\u001b[0m\u001b[0mparent\u001b[0m\u001b[0;34m(\u001b[0m\u001b[0;34m)\u001b[0m\u001b[0;34m.\u001b[0m\u001b[0mnew\u001b[0m\u001b[0;34m(\u001b[0m\u001b[0;34m'%s[%s]'\u001b[0m\u001b[0;34m%\u001b[0m\u001b[0;34m(\u001b[0m\u001b[0mself\u001b[0m\u001b[0;34m.\u001b[0m\u001b[0m_name\u001b[0m\u001b[0;34m,\u001b[0m \u001b[0mn\u001b[0m\u001b[0;34m)\u001b[0m\u001b[0;34m)\u001b[0m\u001b[0;34m\u001b[0m\u001b[0;34m\u001b[0m\u001b[0m\n\u001b[0m\u001b[1;32m   1620\u001b[0m         \u001b[0;32melse\u001b[0m\u001b[0;34m:\u001b[0m\u001b[0;34m\u001b[0m\u001b[0;34m\u001b[0m\u001b[0m\n\u001b[1;32m   1621\u001b[0m             \u001b[0;32mreturn\u001b[0m \u001b[0mself\u001b[0m\u001b[0;34m.\u001b[0m\u001b[0mparent\u001b[0m\u001b[0;34m(\u001b[0m\u001b[0;34m)\u001b[0m\u001b[0;34m.\u001b[0m\u001b[0mnew\u001b[0m\u001b[0;34m(\u001b[0m\u001b[0;34m'%s%s'\u001b[0m\u001b[0;34m%\u001b[0m\u001b[0;34m(\u001b[0m\u001b[0mself\u001b[0m\u001b[0;34m.\u001b[0m\u001b[0m_name\u001b[0m\u001b[0;34m,\u001b[0m \u001b[0;34m''\u001b[0m\u001b[0;34m.\u001b[0m\u001b[0mjoin\u001b[0m\u001b[0;34m(\u001b[0m\u001b[0;34m[\u001b[0m\u001b[0;34m'[%s]'\u001b[0m\u001b[0;34m%\u001b[0m\u001b[0mx\u001b[0m \u001b[0;32mfor\u001b[0m \u001b[0mx\u001b[0m \u001b[0;32min\u001b[0m \u001b[0mn\u001b[0m\u001b[0;34m]\u001b[0m\u001b[0;34m)\u001b[0m\u001b[0;34m)\u001b[0m\u001b[0;34m)\u001b[0m\u001b[0;34m\u001b[0m\u001b[0;34m\u001b[0m\u001b[0m\n",
      "\u001b[0;32m/usr/lib/python3/dist-packages/sage/interfaces/interface.py\u001b[0m in \u001b[0;36mnew\u001b[0;34m(self, code)\u001b[0m\n\u001b[1;32m    368\u001b[0m \u001b[0;34m\u001b[0m\u001b[0m\n\u001b[1;32m    369\u001b[0m     \u001b[0;32mdef\u001b[0m \u001b[0mnew\u001b[0m\u001b[0;34m(\u001b[0m\u001b[0mself\u001b[0m\u001b[0;34m,\u001b[0m \u001b[0mcode\u001b[0m\u001b[0;34m)\u001b[0m\u001b[0;34m:\u001b[0m\u001b[0;34m\u001b[0m\u001b[0;34m\u001b[0m\u001b[0m\n\u001b[0;32m--> 370\u001b[0;31m         \u001b[0;32mreturn\u001b[0m \u001b[0mself\u001b[0m\u001b[0;34m(\u001b[0m\u001b[0mcode\u001b[0m\u001b[0;34m)\u001b[0m\u001b[0;34m\u001b[0m\u001b[0;34m\u001b[0m\u001b[0m\n\u001b[0m\u001b[1;32m    371\u001b[0m \u001b[0;34m\u001b[0m\u001b[0m\n\u001b[1;32m    372\u001b[0m     \u001b[0;31m###################################################################\u001b[0m\u001b[0;34m\u001b[0m\u001b[0;34m\u001b[0m\u001b[0;34m\u001b[0m\u001b[0m\n",
      "\u001b[0;32m/usr/lib/python3/dist-packages/sage/interfaces/interface.py\u001b[0m in \u001b[0;36m__call__\u001b[0;34m(self, x, name)\u001b[0m\n\u001b[1;32m    294\u001b[0m \u001b[0;34m\u001b[0m\u001b[0m\n\u001b[1;32m    295\u001b[0m         \u001b[0;32mif\u001b[0m \u001b[0misinstance\u001b[0m\u001b[0;34m(\u001b[0m\u001b[0mx\u001b[0m\u001b[0;34m,\u001b[0m \u001b[0mstring_types\u001b[0m\u001b[0;34m)\u001b[0m\u001b[0;34m:\u001b[0m\u001b[0;34m\u001b[0m\u001b[0;34m\u001b[0m\u001b[0m\n\u001b[0;32m--> 296\u001b[0;31m             \u001b[0;32mreturn\u001b[0m \u001b[0mcls\u001b[0m\u001b[0;34m(\u001b[0m\u001b[0mself\u001b[0m\u001b[0;34m,\u001b[0m \u001b[0mx\u001b[0m\u001b[0;34m,\u001b[0m \u001b[0mname\u001b[0m\u001b[0;34m=\u001b[0m\u001b[0mname\u001b[0m\u001b[0;34m)\u001b[0m\u001b[0;34m\u001b[0m\u001b[0;34m\u001b[0m\u001b[0m\n\u001b[0m\u001b[1;32m    297\u001b[0m         \u001b[0;32mtry\u001b[0m\u001b[0;34m:\u001b[0m\u001b[0;34m\u001b[0m\u001b[0;34m\u001b[0m\u001b[0m\n\u001b[1;32m    298\u001b[0m             \u001b[0;31m# Special methods do not and should not have an option to\u001b[0m\u001b[0;34m\u001b[0m\u001b[0;34m\u001b[0m\u001b[0;34m\u001b[0m\u001b[0m\n",
      "\u001b[0;32m/usr/lib/python3/dist-packages/sage/interfaces/expect.py\u001b[0m in \u001b[0;36m__init__\u001b[0;34m(self, parent, value, is_name, name)\u001b[0m\n\u001b[1;32m   1469\u001b[0m         \u001b[0;32melse\u001b[0m\u001b[0;34m:\u001b[0m\u001b[0;34m\u001b[0m\u001b[0;34m\u001b[0m\u001b[0m\n\u001b[1;32m   1470\u001b[0m             \u001b[0;32mtry\u001b[0m\u001b[0;34m:\u001b[0m\u001b[0;34m\u001b[0m\u001b[0;34m\u001b[0m\u001b[0m\n\u001b[0;32m-> 1471\u001b[0;31m                 \u001b[0mself\u001b[0m\u001b[0;34m.\u001b[0m\u001b[0m_name\u001b[0m \u001b[0;34m=\u001b[0m \u001b[0mparent\u001b[0m\u001b[0;34m.\u001b[0m\u001b[0m_create\u001b[0m\u001b[0;34m(\u001b[0m\u001b[0mvalue\u001b[0m\u001b[0;34m,\u001b[0m \u001b[0mname\u001b[0m\u001b[0;34m=\u001b[0m\u001b[0mname\u001b[0m\u001b[0;34m)\u001b[0m\u001b[0;34m\u001b[0m\u001b[0;34m\u001b[0m\u001b[0m\n\u001b[0m\u001b[1;32m   1472\u001b[0m             \u001b[0;31m# Convert ValueError and RuntimeError to TypeError for\u001b[0m\u001b[0;34m\u001b[0m\u001b[0;34m\u001b[0m\u001b[0;34m\u001b[0m\u001b[0m\n\u001b[1;32m   1473\u001b[0m             \u001b[0;31m# coercion to work properly.\u001b[0m\u001b[0;34m\u001b[0m\u001b[0;34m\u001b[0m\u001b[0;34m\u001b[0m\u001b[0m\n",
      "\u001b[0;32m/usr/lib/python3/dist-packages/sage/interfaces/interface.py\u001b[0m in \u001b[0;36m_create\u001b[0;34m(self, value, name)\u001b[0m\n\u001b[1;32m    499\u001b[0m     \u001b[0;32mdef\u001b[0m \u001b[0m_create\u001b[0m\u001b[0;34m(\u001b[0m\u001b[0mself\u001b[0m\u001b[0;34m,\u001b[0m \u001b[0mvalue\u001b[0m\u001b[0;34m,\u001b[0m \u001b[0mname\u001b[0m\u001b[0;34m=\u001b[0m\u001b[0;32mNone\u001b[0m\u001b[0;34m)\u001b[0m\u001b[0;34m:\u001b[0m\u001b[0;34m\u001b[0m\u001b[0;34m\u001b[0m\u001b[0m\n\u001b[1;32m    500\u001b[0m         \u001b[0mname\u001b[0m \u001b[0;34m=\u001b[0m \u001b[0mself\u001b[0m\u001b[0;34m.\u001b[0m\u001b[0m_next_var_name\u001b[0m\u001b[0;34m(\u001b[0m\u001b[0;34m)\u001b[0m \u001b[0;32mif\u001b[0m \u001b[0mname\u001b[0m \u001b[0;32mis\u001b[0m \u001b[0;32mNone\u001b[0m \u001b[0;32melse\u001b[0m \u001b[0mname\u001b[0m\u001b[0;34m\u001b[0m\u001b[0;34m\u001b[0m\u001b[0m\n\u001b[0;32m--> 501\u001b[0;31m         \u001b[0mself\u001b[0m\u001b[0;34m.\u001b[0m\u001b[0mset\u001b[0m\u001b[0;34m(\u001b[0m\u001b[0mname\u001b[0m\u001b[0;34m,\u001b[0m \u001b[0mvalue\u001b[0m\u001b[0;34m)\u001b[0m\u001b[0;34m\u001b[0m\u001b[0;34m\u001b[0m\u001b[0m\n\u001b[0m\u001b[1;32m    502\u001b[0m         \u001b[0;32mreturn\u001b[0m \u001b[0mname\u001b[0m\u001b[0;34m\u001b[0m\u001b[0;34m\u001b[0m\u001b[0m\n\u001b[1;32m    503\u001b[0m \u001b[0;34m\u001b[0m\u001b[0m\n",
      "\u001b[0;32m/usr/lib/python3/dist-packages/sage/interfaces/gap.py\u001b[0m in \u001b[0;36mset\u001b[0;34m(self, var, value)\u001b[0m\n\u001b[1;32m   1426\u001b[0m         \"\"\"\n\u001b[1;32m   1427\u001b[0m         \u001b[0mcmd\u001b[0m \u001b[0;34m=\u001b[0m \u001b[0;34m(\u001b[0m\u001b[0;34m'%s:=%s;;'\u001b[0m \u001b[0;34m%\u001b[0m \u001b[0;34m(\u001b[0m\u001b[0mvar\u001b[0m\u001b[0;34m,\u001b[0m \u001b[0mvalue\u001b[0m\u001b[0;34m)\u001b[0m\u001b[0;34m)\u001b[0m\u001b[0;34m.\u001b[0m\u001b[0mreplace\u001b[0m\u001b[0;34m(\u001b[0m\u001b[0;34m'\\n'\u001b[0m\u001b[0;34m,\u001b[0m\u001b[0;34m''\u001b[0m\u001b[0;34m)\u001b[0m\u001b[0;34m\u001b[0m\u001b[0;34m\u001b[0m\u001b[0m\n\u001b[0;32m-> 1428\u001b[0;31m         \u001b[0mself\u001b[0m\u001b[0;34m.\u001b[0m\u001b[0m_eval_line\u001b[0m\u001b[0;34m(\u001b[0m\u001b[0mcmd\u001b[0m\u001b[0;34m,\u001b[0m \u001b[0mallow_use_file\u001b[0m\u001b[0;34m=\u001b[0m\u001b[0;32mTrue\u001b[0m\u001b[0;34m)\u001b[0m\u001b[0;34m\u001b[0m\u001b[0;34m\u001b[0m\u001b[0m\n\u001b[0m\u001b[1;32m   1429\u001b[0m \u001b[0;34m\u001b[0m\u001b[0m\n\u001b[1;32m   1430\u001b[0m     \u001b[0;32mdef\u001b[0m \u001b[0mget\u001b[0m\u001b[0;34m(\u001b[0m\u001b[0mself\u001b[0m\u001b[0;34m,\u001b[0m \u001b[0mvar\u001b[0m\u001b[0;34m,\u001b[0m \u001b[0muse_file\u001b[0m\u001b[0;34m=\u001b[0m\u001b[0;32mFalse\u001b[0m\u001b[0;34m)\u001b[0m\u001b[0;34m:\u001b[0m\u001b[0;34m\u001b[0m\u001b[0;34m\u001b[0m\u001b[0m\n",
      "\u001b[0;32m/usr/lib/python3/dist-packages/sage/interfaces/gap.py\u001b[0m in \u001b[0;36m_eval_line\u001b[0;34m(self, line, allow_use_file, wait_for_prompt, restart_if_needed)\u001b[0m\n\u001b[1;32m    804\u001b[0m \u001b[0;34m\u001b[0m\u001b[0m\n\u001b[1;32m    805\u001b[0m         \u001b[0;32mexcept\u001b[0m \u001b[0mKeyboardInterrupt\u001b[0m\u001b[0;34m:\u001b[0m\u001b[0;34m\u001b[0m\u001b[0;34m\u001b[0m\u001b[0m\n\u001b[0;32m--> 806\u001b[0;31m             \u001b[0mself\u001b[0m\u001b[0;34m.\u001b[0m\u001b[0m_keyboard_interrupt\u001b[0m\u001b[0;34m(\u001b[0m\u001b[0;34m)\u001b[0m\u001b[0;34m\u001b[0m\u001b[0;34m\u001b[0m\u001b[0m\n\u001b[0m\u001b[1;32m    807\u001b[0m             \u001b[0;32mraise\u001b[0m \u001b[0mKeyboardInterrupt\u001b[0m\u001b[0;34m(\u001b[0m\u001b[0;34m\"Ctrl-c pressed while running %s\"\u001b[0m\u001b[0;34m%\u001b[0m\u001b[0mself\u001b[0m\u001b[0;34m)\u001b[0m\u001b[0;34m\u001b[0m\u001b[0;34m\u001b[0m\u001b[0m\n\u001b[1;32m    808\u001b[0m \u001b[0;34m\u001b[0m\u001b[0m\n",
      "\u001b[0;32m/usr/lib/python3/dist-packages/sage/interfaces/gap.py\u001b[0m in \u001b[0;36m_keyboard_interrupt\u001b[0;34m(self)\u001b[0m\n\u001b[1;32m    682\u001b[0m         \"\"\"\n\u001b[1;32m    683\u001b[0m         \u001b[0mself\u001b[0m\u001b[0;34m.\u001b[0m\u001b[0mquit\u001b[0m\u001b[0;34m(\u001b[0m\u001b[0;34m)\u001b[0m\u001b[0;34m\u001b[0m\u001b[0;34m\u001b[0m\u001b[0m\n\u001b[0;32m--> 684\u001b[0;31m         \u001b[0;32mraise\u001b[0m \u001b[0mKeyboardInterrupt\u001b[0m\u001b[0;34m(\u001b[0m\u001b[0;34m\"Ctrl-c pressed while running %s\"\u001b[0m\u001b[0;34m%\u001b[0m\u001b[0mself\u001b[0m\u001b[0;34m)\u001b[0m\u001b[0;34m\u001b[0m\u001b[0;34m\u001b[0m\u001b[0m\n\u001b[0m\u001b[1;32m    685\u001b[0m \u001b[0;34m\u001b[0m\u001b[0m\n\u001b[1;32m    686\u001b[0m     \u001b[0;32mdef\u001b[0m \u001b[0m_eval_line\u001b[0m\u001b[0;34m(\u001b[0m\u001b[0mself\u001b[0m\u001b[0;34m,\u001b[0m \u001b[0mline\u001b[0m\u001b[0;34m,\u001b[0m \u001b[0mallow_use_file\u001b[0m\u001b[0;34m=\u001b[0m\u001b[0;32mTrue\u001b[0m\u001b[0;34m,\u001b[0m \u001b[0mwait_for_prompt\u001b[0m\u001b[0;34m=\u001b[0m\u001b[0;32mTrue\u001b[0m\u001b[0;34m,\u001b[0m \u001b[0mrestart_if_needed\u001b[0m\u001b[0;34m=\u001b[0m\u001b[0;32mTrue\u001b[0m\u001b[0;34m)\u001b[0m\u001b[0;34m:\u001b[0m\u001b[0;34m\u001b[0m\u001b[0;34m\u001b[0m\u001b[0m\n",
      "\u001b[0;31mKeyboardInterrupt\u001b[0m: Ctrl-c pressed while running Gap"
     ]
    }
   ],
   "source": [
    "_ = normalizers(17, verbose=True)"
   ]
  },
  {
   "cell_type": "markdown",
   "metadata": {},
   "source": [
    "# Create self-similar action"
   ]
  },
  {
   "cell_type": "code",
   "execution_count": 18,
   "metadata": {},
   "outputs": [
    {
     "ename": "TypeError",
     "evalue": "Gap produced error output\nError, Variable: 'SpaceGroupIT' must have a value\n\n   executing \\$sage26:=SpaceGroupIT(2, 13);;",
     "output_type": "error",
     "traceback": [
      "\u001b[0;31m---------------------------------------------------------------------------\u001b[0m",
      "\u001b[0;31mRuntimeError\u001b[0m                              Traceback (most recent call last)",
      "\u001b[0;32m/usr/lib/python3/dist-packages/sage/interfaces/gap.py\u001b[0m in \u001b[0;36m_eval_line\u001b[0;34m(self, line, allow_use_file, wait_for_prompt, restart_if_needed)\u001b[0m\n\u001b[1;32m    768\u001b[0m                 \u001b[0merror\u001b[0m \u001b[0;34m=\u001b[0m \u001b[0merror\u001b[0m\u001b[0;34m.\u001b[0m\u001b[0mreplace\u001b[0m\u001b[0;34m(\u001b[0m\u001b[0;34m'\\r'\u001b[0m\u001b[0;34m,\u001b[0m\u001b[0;34m''\u001b[0m\u001b[0;34m)\u001b[0m\u001b[0;34m\u001b[0m\u001b[0;34m\u001b[0m\u001b[0m\n\u001b[0;32m--> 769\u001b[0;31m                 \u001b[0;32mraise\u001b[0m \u001b[0mRuntimeError\u001b[0m\u001b[0;34m(\u001b[0m\u001b[0;34m\"%s produced error output\\n%s\\n   executing %s\"\u001b[0m\u001b[0;34m%\u001b[0m\u001b[0;34m(\u001b[0m\u001b[0mself\u001b[0m\u001b[0;34m,\u001b[0m \u001b[0merror\u001b[0m\u001b[0;34m,\u001b[0m\u001b[0mline\u001b[0m\u001b[0;34m)\u001b[0m\u001b[0;34m)\u001b[0m\u001b[0;34m\u001b[0m\u001b[0;34m\u001b[0m\u001b[0m\n\u001b[0m\u001b[1;32m    770\u001b[0m             \u001b[0;32mif\u001b[0m \u001b[0;32mnot\u001b[0m \u001b[0mlen\u001b[0m\u001b[0;34m(\u001b[0m\u001b[0mnormal\u001b[0m\u001b[0;34m)\u001b[0m\u001b[0;34m:\u001b[0m\u001b[0;34m\u001b[0m\u001b[0;34m\u001b[0m\u001b[0m\n",
      "\u001b[0;31mRuntimeError\u001b[0m: Gap produced error output\nError, Variable: 'SpaceGroupIT' must have a value\n\n   executing \\$sage26:=SpaceGroupIT(2, 13);;",
      "\nDuring handling of the above exception, another exception occurred:\n",
      "\u001b[0;31mRuntimeError\u001b[0m                              Traceback (most recent call last)",
      "\u001b[0;32m/usr/lib/python3/dist-packages/sage/interfaces/expect.py\u001b[0m in \u001b[0;36m__init__\u001b[0;34m(self, parent, value, is_name, name)\u001b[0m\n\u001b[1;32m   1470\u001b[0m             \u001b[0;32mtry\u001b[0m\u001b[0;34m:\u001b[0m\u001b[0;34m\u001b[0m\u001b[0;34m\u001b[0m\u001b[0m\n\u001b[0;32m-> 1471\u001b[0;31m                 \u001b[0mself\u001b[0m\u001b[0;34m.\u001b[0m\u001b[0m_name\u001b[0m \u001b[0;34m=\u001b[0m \u001b[0mparent\u001b[0m\u001b[0;34m.\u001b[0m\u001b[0m_create\u001b[0m\u001b[0;34m(\u001b[0m\u001b[0mvalue\u001b[0m\u001b[0;34m,\u001b[0m \u001b[0mname\u001b[0m\u001b[0;34m=\u001b[0m\u001b[0mname\u001b[0m\u001b[0;34m)\u001b[0m\u001b[0;34m\u001b[0m\u001b[0;34m\u001b[0m\u001b[0m\n\u001b[0m\u001b[1;32m   1472\u001b[0m             \u001b[0;31m# Convert ValueError and RuntimeError to TypeError for\u001b[0m\u001b[0;34m\u001b[0m\u001b[0;34m\u001b[0m\u001b[0;34m\u001b[0m\u001b[0m\n",
      "\u001b[0;32m/usr/lib/python3/dist-packages/sage/interfaces/interface.py\u001b[0m in \u001b[0;36m_create\u001b[0;34m(self, value, name)\u001b[0m\n\u001b[1;32m    500\u001b[0m         \u001b[0mname\u001b[0m \u001b[0;34m=\u001b[0m \u001b[0mself\u001b[0m\u001b[0;34m.\u001b[0m\u001b[0m_next_var_name\u001b[0m\u001b[0;34m(\u001b[0m\u001b[0;34m)\u001b[0m \u001b[0;32mif\u001b[0m \u001b[0mname\u001b[0m \u001b[0;32mis\u001b[0m \u001b[0;32mNone\u001b[0m \u001b[0;32melse\u001b[0m \u001b[0mname\u001b[0m\u001b[0;34m\u001b[0m\u001b[0;34m\u001b[0m\u001b[0m\n\u001b[0;32m--> 501\u001b[0;31m         \u001b[0mself\u001b[0m\u001b[0;34m.\u001b[0m\u001b[0mset\u001b[0m\u001b[0;34m(\u001b[0m\u001b[0mname\u001b[0m\u001b[0;34m,\u001b[0m \u001b[0mvalue\u001b[0m\u001b[0;34m)\u001b[0m\u001b[0;34m\u001b[0m\u001b[0;34m\u001b[0m\u001b[0m\n\u001b[0m\u001b[1;32m    502\u001b[0m         \u001b[0;32mreturn\u001b[0m \u001b[0mname\u001b[0m\u001b[0;34m\u001b[0m\u001b[0;34m\u001b[0m\u001b[0m\n",
      "\u001b[0;32m/usr/lib/python3/dist-packages/sage/interfaces/gap.py\u001b[0m in \u001b[0;36mset\u001b[0;34m(self, var, value)\u001b[0m\n\u001b[1;32m   1427\u001b[0m         \u001b[0mcmd\u001b[0m \u001b[0;34m=\u001b[0m \u001b[0;34m(\u001b[0m\u001b[0;34m'%s:=%s;;'\u001b[0m \u001b[0;34m%\u001b[0m \u001b[0;34m(\u001b[0m\u001b[0mvar\u001b[0m\u001b[0;34m,\u001b[0m \u001b[0mvalue\u001b[0m\u001b[0;34m)\u001b[0m\u001b[0;34m)\u001b[0m\u001b[0;34m.\u001b[0m\u001b[0mreplace\u001b[0m\u001b[0;34m(\u001b[0m\u001b[0;34m'\\n'\u001b[0m\u001b[0;34m,\u001b[0m\u001b[0;34m''\u001b[0m\u001b[0;34m)\u001b[0m\u001b[0;34m\u001b[0m\u001b[0;34m\u001b[0m\u001b[0m\n\u001b[0;32m-> 1428\u001b[0;31m         \u001b[0mself\u001b[0m\u001b[0;34m.\u001b[0m\u001b[0m_eval_line\u001b[0m\u001b[0;34m(\u001b[0m\u001b[0mcmd\u001b[0m\u001b[0;34m,\u001b[0m \u001b[0mallow_use_file\u001b[0m\u001b[0;34m=\u001b[0m\u001b[0;32mTrue\u001b[0m\u001b[0;34m)\u001b[0m\u001b[0;34m\u001b[0m\u001b[0;34m\u001b[0m\u001b[0m\n\u001b[0m\u001b[1;32m   1429\u001b[0m \u001b[0;34m\u001b[0m\u001b[0m\n",
      "\u001b[0;32m/usr/lib/python3/dist-packages/sage/interfaces/gap.py\u001b[0m in \u001b[0;36m_eval_line\u001b[0;34m(self, line, allow_use_file, wait_for_prompt, restart_if_needed)\u001b[0m\n\u001b[1;32m    802\u001b[0m             \u001b[0;32melse\u001b[0m\u001b[0;34m:\u001b[0m\u001b[0;34m\u001b[0m\u001b[0;34m\u001b[0m\u001b[0m\n\u001b[0;32m--> 803\u001b[0;31m                 \u001b[0;32mraise\u001b[0m \u001b[0mRuntimeError\u001b[0m\u001b[0;34m(\u001b[0m\u001b[0mexc\u001b[0m\u001b[0;34m)\u001b[0m\u001b[0;34m\u001b[0m\u001b[0;34m\u001b[0m\u001b[0m\n\u001b[0m\u001b[1;32m    804\u001b[0m \u001b[0;34m\u001b[0m\u001b[0m\n",
      "\u001b[0;31mRuntimeError\u001b[0m: Gap produced error output\nError, Variable: 'SpaceGroupIT' must have a value\n\n   executing \\$sage26:=SpaceGroupIT(2, 13);;",
      "\nDuring handling of the above exception, another exception occurred:\n",
      "\u001b[0;31mTypeError\u001b[0m                                 Traceback (most recent call last)",
      "\u001b[0;32m<ipython-input-18-7748ff9cbdb7>\u001b[0m in \u001b[0;36m<module>\u001b[0;34m\u001b[0m\n\u001b[0;32m----> 1\u001b[0;31m \u001b[0mG\u001b[0m \u001b[0;34m=\u001b[0m \u001b[0mgap\u001b[0m\u001b[0;34m(\u001b[0m\u001b[0;34mf\"SpaceGroupIT(2, 13)\"\u001b[0m\u001b[0;34m)\u001b[0m\u001b[0;34m\u001b[0m\u001b[0;34m\u001b[0m\u001b[0m\n\u001b[0m",
      "\u001b[0;32m/usr/lib/python3/dist-packages/sage/interfaces/interface.py\u001b[0m in \u001b[0;36m__call__\u001b[0;34m(self, x, name)\u001b[0m\n\u001b[1;32m    294\u001b[0m \u001b[0;34m\u001b[0m\u001b[0m\n\u001b[1;32m    295\u001b[0m         \u001b[0;32mif\u001b[0m \u001b[0misinstance\u001b[0m\u001b[0;34m(\u001b[0m\u001b[0mx\u001b[0m\u001b[0;34m,\u001b[0m \u001b[0mstring_types\u001b[0m\u001b[0;34m)\u001b[0m\u001b[0;34m:\u001b[0m\u001b[0;34m\u001b[0m\u001b[0;34m\u001b[0m\u001b[0m\n\u001b[0;32m--> 296\u001b[0;31m             \u001b[0;32mreturn\u001b[0m \u001b[0mcls\u001b[0m\u001b[0;34m(\u001b[0m\u001b[0mself\u001b[0m\u001b[0;34m,\u001b[0m \u001b[0mx\u001b[0m\u001b[0;34m,\u001b[0m \u001b[0mname\u001b[0m\u001b[0;34m=\u001b[0m\u001b[0mname\u001b[0m\u001b[0;34m)\u001b[0m\u001b[0;34m\u001b[0m\u001b[0;34m\u001b[0m\u001b[0m\n\u001b[0m\u001b[1;32m    297\u001b[0m         \u001b[0;32mtry\u001b[0m\u001b[0;34m:\u001b[0m\u001b[0;34m\u001b[0m\u001b[0;34m\u001b[0m\u001b[0m\n\u001b[1;32m    298\u001b[0m             \u001b[0;31m# Special methods do not and should not have an option to\u001b[0m\u001b[0;34m\u001b[0m\u001b[0;34m\u001b[0m\u001b[0;34m\u001b[0m\u001b[0m\n",
      "\u001b[0;32m/usr/lib/python3/dist-packages/sage/interfaces/expect.py\u001b[0m in \u001b[0;36m__init__\u001b[0;34m(self, parent, value, is_name, name)\u001b[0m\n\u001b[1;32m   1474\u001b[0m             \u001b[0;32mexcept\u001b[0m \u001b[0;34m(\u001b[0m\u001b[0mRuntimeError\u001b[0m\u001b[0;34m,\u001b[0m \u001b[0mValueError\u001b[0m\u001b[0;34m)\u001b[0m \u001b[0;32mas\u001b[0m \u001b[0mx\u001b[0m\u001b[0;34m:\u001b[0m\u001b[0;34m\u001b[0m\u001b[0;34m\u001b[0m\u001b[0m\n\u001b[1;32m   1475\u001b[0m                 \u001b[0mself\u001b[0m\u001b[0;34m.\u001b[0m\u001b[0m_session_number\u001b[0m \u001b[0;34m=\u001b[0m \u001b[0;34m-\u001b[0m\u001b[0;36m1\u001b[0m\u001b[0;34m\u001b[0m\u001b[0;34m\u001b[0m\u001b[0m\n\u001b[0;32m-> 1476\u001b[0;31m                 \u001b[0mraise_\u001b[0m\u001b[0;34m(\u001b[0m\u001b[0mTypeError\u001b[0m\u001b[0;34m,\u001b[0m \u001b[0mTypeError\u001b[0m\u001b[0;34m(\u001b[0m\u001b[0;34m*\u001b[0m\u001b[0mx\u001b[0m\u001b[0;34m.\u001b[0m\u001b[0margs\u001b[0m\u001b[0;34m)\u001b[0m\u001b[0;34m,\u001b[0m \u001b[0msys\u001b[0m\u001b[0;34m.\u001b[0m\u001b[0mexc_info\u001b[0m\u001b[0;34m(\u001b[0m\u001b[0;34m)\u001b[0m\u001b[0;34m[\u001b[0m\u001b[0;36m2\u001b[0m\u001b[0;34m]\u001b[0m\u001b[0;34m)\u001b[0m\u001b[0;34m\u001b[0m\u001b[0;34m\u001b[0m\u001b[0m\n\u001b[0m\u001b[1;32m   1477\u001b[0m             \u001b[0;32mexcept\u001b[0m \u001b[0mBaseException\u001b[0m\u001b[0;34m:\u001b[0m\u001b[0;34m\u001b[0m\u001b[0;34m\u001b[0m\u001b[0m\n\u001b[1;32m   1478\u001b[0m                 \u001b[0mself\u001b[0m\u001b[0;34m.\u001b[0m\u001b[0m_session_number\u001b[0m \u001b[0;34m=\u001b[0m \u001b[0;34m-\u001b[0m\u001b[0;36m1\u001b[0m\u001b[0;34m\u001b[0m\u001b[0;34m\u001b[0m\u001b[0m\n",
      "\u001b[0;32m/usr/lib/python3/dist-packages/six.py\u001b[0m in \u001b[0;36mreraise\u001b[0;34m(tp, value, tb)\u001b[0m\n\u001b[1;32m    700\u001b[0m                 \u001b[0mvalue\u001b[0m \u001b[0;34m=\u001b[0m \u001b[0mtp\u001b[0m\u001b[0;34m(\u001b[0m\u001b[0;34m)\u001b[0m\u001b[0;34m\u001b[0m\u001b[0;34m\u001b[0m\u001b[0m\n\u001b[1;32m    701\u001b[0m             \u001b[0;32mif\u001b[0m \u001b[0mvalue\u001b[0m\u001b[0;34m.\u001b[0m\u001b[0m__traceback__\u001b[0m \u001b[0;32mis\u001b[0m \u001b[0;32mnot\u001b[0m \u001b[0mtb\u001b[0m\u001b[0;34m:\u001b[0m\u001b[0;34m\u001b[0m\u001b[0;34m\u001b[0m\u001b[0m\n\u001b[0;32m--> 702\u001b[0;31m                 \u001b[0;32mraise\u001b[0m \u001b[0mvalue\u001b[0m\u001b[0;34m.\u001b[0m\u001b[0mwith_traceback\u001b[0m\u001b[0;34m(\u001b[0m\u001b[0mtb\u001b[0m\u001b[0;34m)\u001b[0m\u001b[0;34m\u001b[0m\u001b[0;34m\u001b[0m\u001b[0m\n\u001b[0m\u001b[1;32m    703\u001b[0m             \u001b[0;32mraise\u001b[0m \u001b[0mvalue\u001b[0m\u001b[0;34m\u001b[0m\u001b[0;34m\u001b[0m\u001b[0m\n\u001b[1;32m    704\u001b[0m         \u001b[0;32mfinally\u001b[0m\u001b[0;34m:\u001b[0m\u001b[0;34m\u001b[0m\u001b[0;34m\u001b[0m\u001b[0m\n",
      "\u001b[0;32m/usr/lib/python3/dist-packages/sage/interfaces/expect.py\u001b[0m in \u001b[0;36m__init__\u001b[0;34m(self, parent, value, is_name, name)\u001b[0m\n\u001b[1;32m   1469\u001b[0m         \u001b[0;32melse\u001b[0m\u001b[0;34m:\u001b[0m\u001b[0;34m\u001b[0m\u001b[0;34m\u001b[0m\u001b[0m\n\u001b[1;32m   1470\u001b[0m             \u001b[0;32mtry\u001b[0m\u001b[0;34m:\u001b[0m\u001b[0;34m\u001b[0m\u001b[0;34m\u001b[0m\u001b[0m\n\u001b[0;32m-> 1471\u001b[0;31m                 \u001b[0mself\u001b[0m\u001b[0;34m.\u001b[0m\u001b[0m_name\u001b[0m \u001b[0;34m=\u001b[0m \u001b[0mparent\u001b[0m\u001b[0;34m.\u001b[0m\u001b[0m_create\u001b[0m\u001b[0;34m(\u001b[0m\u001b[0mvalue\u001b[0m\u001b[0;34m,\u001b[0m \u001b[0mname\u001b[0m\u001b[0;34m=\u001b[0m\u001b[0mname\u001b[0m\u001b[0;34m)\u001b[0m\u001b[0;34m\u001b[0m\u001b[0;34m\u001b[0m\u001b[0m\n\u001b[0m\u001b[1;32m   1472\u001b[0m             \u001b[0;31m# Convert ValueError and RuntimeError to TypeError for\u001b[0m\u001b[0;34m\u001b[0m\u001b[0;34m\u001b[0m\u001b[0;34m\u001b[0m\u001b[0m\n\u001b[1;32m   1473\u001b[0m             \u001b[0;31m# coercion to work properly.\u001b[0m\u001b[0;34m\u001b[0m\u001b[0;34m\u001b[0m\u001b[0;34m\u001b[0m\u001b[0m\n",
      "\u001b[0;32m/usr/lib/python3/dist-packages/sage/interfaces/interface.py\u001b[0m in \u001b[0;36m_create\u001b[0;34m(self, value, name)\u001b[0m\n\u001b[1;32m    499\u001b[0m     \u001b[0;32mdef\u001b[0m \u001b[0m_create\u001b[0m\u001b[0;34m(\u001b[0m\u001b[0mself\u001b[0m\u001b[0;34m,\u001b[0m \u001b[0mvalue\u001b[0m\u001b[0;34m,\u001b[0m \u001b[0mname\u001b[0m\u001b[0;34m=\u001b[0m\u001b[0;32mNone\u001b[0m\u001b[0;34m)\u001b[0m\u001b[0;34m:\u001b[0m\u001b[0;34m\u001b[0m\u001b[0;34m\u001b[0m\u001b[0m\n\u001b[1;32m    500\u001b[0m         \u001b[0mname\u001b[0m \u001b[0;34m=\u001b[0m \u001b[0mself\u001b[0m\u001b[0;34m.\u001b[0m\u001b[0m_next_var_name\u001b[0m\u001b[0;34m(\u001b[0m\u001b[0;34m)\u001b[0m \u001b[0;32mif\u001b[0m \u001b[0mname\u001b[0m \u001b[0;32mis\u001b[0m \u001b[0;32mNone\u001b[0m \u001b[0;32melse\u001b[0m \u001b[0mname\u001b[0m\u001b[0;34m\u001b[0m\u001b[0;34m\u001b[0m\u001b[0m\n\u001b[0;32m--> 501\u001b[0;31m         \u001b[0mself\u001b[0m\u001b[0;34m.\u001b[0m\u001b[0mset\u001b[0m\u001b[0;34m(\u001b[0m\u001b[0mname\u001b[0m\u001b[0;34m,\u001b[0m \u001b[0mvalue\u001b[0m\u001b[0;34m)\u001b[0m\u001b[0;34m\u001b[0m\u001b[0;34m\u001b[0m\u001b[0m\n\u001b[0m\u001b[1;32m    502\u001b[0m         \u001b[0;32mreturn\u001b[0m \u001b[0mname\u001b[0m\u001b[0;34m\u001b[0m\u001b[0;34m\u001b[0m\u001b[0m\n\u001b[1;32m    503\u001b[0m \u001b[0;34m\u001b[0m\u001b[0m\n",
      "\u001b[0;32m/usr/lib/python3/dist-packages/sage/interfaces/gap.py\u001b[0m in \u001b[0;36mset\u001b[0;34m(self, var, value)\u001b[0m\n\u001b[1;32m   1426\u001b[0m         \"\"\"\n\u001b[1;32m   1427\u001b[0m         \u001b[0mcmd\u001b[0m \u001b[0;34m=\u001b[0m \u001b[0;34m(\u001b[0m\u001b[0;34m'%s:=%s;;'\u001b[0m \u001b[0;34m%\u001b[0m \u001b[0;34m(\u001b[0m\u001b[0mvar\u001b[0m\u001b[0;34m,\u001b[0m \u001b[0mvalue\u001b[0m\u001b[0;34m)\u001b[0m\u001b[0;34m)\u001b[0m\u001b[0;34m.\u001b[0m\u001b[0mreplace\u001b[0m\u001b[0;34m(\u001b[0m\u001b[0;34m'\\n'\u001b[0m\u001b[0;34m,\u001b[0m\u001b[0;34m''\u001b[0m\u001b[0;34m)\u001b[0m\u001b[0;34m\u001b[0m\u001b[0;34m\u001b[0m\u001b[0m\n\u001b[0;32m-> 1428\u001b[0;31m         \u001b[0mself\u001b[0m\u001b[0;34m.\u001b[0m\u001b[0m_eval_line\u001b[0m\u001b[0;34m(\u001b[0m\u001b[0mcmd\u001b[0m\u001b[0;34m,\u001b[0m \u001b[0mallow_use_file\u001b[0m\u001b[0;34m=\u001b[0m\u001b[0;32mTrue\u001b[0m\u001b[0;34m)\u001b[0m\u001b[0;34m\u001b[0m\u001b[0;34m\u001b[0m\u001b[0m\n\u001b[0m\u001b[1;32m   1429\u001b[0m \u001b[0;34m\u001b[0m\u001b[0m\n\u001b[1;32m   1430\u001b[0m     \u001b[0;32mdef\u001b[0m \u001b[0mget\u001b[0m\u001b[0;34m(\u001b[0m\u001b[0mself\u001b[0m\u001b[0;34m,\u001b[0m \u001b[0mvar\u001b[0m\u001b[0;34m,\u001b[0m \u001b[0muse_file\u001b[0m\u001b[0;34m=\u001b[0m\u001b[0;32mFalse\u001b[0m\u001b[0;34m)\u001b[0m\u001b[0;34m:\u001b[0m\u001b[0;34m\u001b[0m\u001b[0;34m\u001b[0m\u001b[0m\n",
      "\u001b[0;32m/usr/lib/python3/dist-packages/sage/interfaces/gap.py\u001b[0m in \u001b[0;36m_eval_line\u001b[0;34m(self, line, allow_use_file, wait_for_prompt, restart_if_needed)\u001b[0m\n\u001b[1;32m    801\u001b[0m                     \u001b[0;32mreturn\u001b[0m \u001b[0;34m''\u001b[0m\u001b[0;34m\u001b[0m\u001b[0;34m\u001b[0m\u001b[0m\n\u001b[1;32m    802\u001b[0m             \u001b[0;32melse\u001b[0m\u001b[0;34m:\u001b[0m\u001b[0;34m\u001b[0m\u001b[0;34m\u001b[0m\u001b[0m\n\u001b[0;32m--> 803\u001b[0;31m                 \u001b[0;32mraise\u001b[0m \u001b[0mRuntimeError\u001b[0m\u001b[0;34m(\u001b[0m\u001b[0mexc\u001b[0m\u001b[0;34m)\u001b[0m\u001b[0;34m\u001b[0m\u001b[0;34m\u001b[0m\u001b[0m\n\u001b[0m\u001b[1;32m    804\u001b[0m \u001b[0;34m\u001b[0m\u001b[0m\n\u001b[1;32m    805\u001b[0m         \u001b[0;32mexcept\u001b[0m \u001b[0mKeyboardInterrupt\u001b[0m\u001b[0;34m:\u001b[0m\u001b[0;34m\u001b[0m\u001b[0;34m\u001b[0m\u001b[0m\n",
      "\u001b[0;31mTypeError\u001b[0m: Gap produced error output\nError, Variable: 'SpaceGroupIT' must have a value\n\n   executing \\$sage26:=SpaceGroupIT(2, 13);;"
     ]
    }
   ],
   "source": [
    "G = gap(f\"SpaceGroupIT(2, 13)\")\n"
   ]
  },
  {
   "cell_type": "code",
   "execution_count": 13,
   "metadata": {},
   "outputs": [],
   "source": [
    "gens = G.GeneratorsOfGroup()"
   ]
  },
  {
   "cell_type": "code",
   "execution_count": 14,
   "metadata": {},
   "outputs": [
    {
     "data": {
      "text/plain": [
       "[\n",
       "[ 0  1  0]  [1 0 0]  [1 0 0]\n",
       "[-1 -1  0]  [0 1 0]  [0 1 0]\n",
       "[ 0  0  1], [1 0 1], [0 1 1]\n",
       "]"
      ]
     },
     "execution_count": 14,
     "metadata": {},
     "output_type": "execute_result"
    }
   ],
   "source": [
    "gens = [matrix(QQ, el) for el in gens]\n",
    "gens"
   ]
  },
  {
   "cell_type": "code",
   "execution_count": 25,
   "metadata": {},
   "outputs": [
    {
     "data": {
      "text/plain": [
       "[ 1 -1  0]\n",
       "[ 1  2  0]\n",
       "[ 0  0  1]"
      ]
     },
     "execution_count": 25,
     "metadata": {},
     "output_type": "execute_result"
    }
   ],
   "source": [
    "T = matrix(QQ, [[1, -1, 0], [1, 2, 0], [0, 0, 1]])\n",
    "T"
   ]
  },
  {
   "cell_type": "code",
   "execution_count": 16,
   "metadata": {},
   "outputs": [],
   "source": [
    "def self_similar(n, T, dim=2, verbose=False, gen_alphabet=False):\n",
    "    G = gap(f'SpaceGroupIT({dim}, {n})')\n",
    "    gens_G = G.GeneratorsOfGroup() \n",
    "    gens_G = [matrix(QQ, el) for el in gens_G]\n",
    "    if verbose:\n",
    "        print(\"=====================================================================\")\n",
    "    \n",
    "    # check whether there exists virtual endomorphism\n",
    "    conj_els = []\n",
    "    for el in gens_G: \n",
    "        conj = T.inverse() * el * T \n",
    "        if verbose:\n",
    "            print(\"\\nconjugate el:\")\n",
    "            print(conj)\n",
    "            print(\"conj in G:\", conj in G)\n",
    "        if conj not in G: \n",
    "            raise ValueError(\"Bad matrix T, there is no virtual endomorphism\")\n",
    "        conj_els.append(conj)\n",
    "    \n",
    "    # create subgroup as image of virtual endomorphism\n",
    "    H = G.Subgroup(conj_els)\n",
    "    if verbose: \n",
    "        print(\"----------------------------------------------------\")\n",
    "        print(\"Index of subgroup H:\", G.Index(H))\n",
    "    \n",
    "    trans = G.RightTransversal(H)\n",
    "    gens_H = [matrix(QQ, el) for el in H.GeneratorsOfGroup()]\n",
    "    trans_els = [matrix(QQ, el) for el in trans.AsList()]\n",
    "    trans_inv_els = [el.inverse() for el in trans_els]\n",
    "    if verbose: \n",
    "        print(\"Transversal:\")\n",
    "        print(*trans_els, sep='\\n\\n')\n",
    "    \n",
    "    if gen_alphabet:\n",
    "        names_G = {str(el): letter for el, letter in zip(gens_G, alphabet)}\n",
    "    else: \n",
    "        names_G = {str(el): f\"a_{i}\" for i, el in enumerate(gens_G, 1)}\n",
    "    \n",
    "    # create self-similar action \n",
    "    res_map = {} \n",
    "    for a in gens_G: \n",
    "        for i, d_i in enumerate(trans_inv_els, 1):\n",
    "            adi = a * d_i \n",
    "            d_j_index = trans.PositionCanonical(adi.inverse())\n",
    "            d_j = trans_inv_els[int(d_j_index) - 1]\n",
    "            \n",
    "            if d_j.inverse() * a * d_i not in H: \n",
    "                print(\"Error, wrong coset\")\n",
    "                print(a, d_i, d_j)\n",
    "                return -1\n",
    "            \n",
    "            tmp_res = T * (d_j.inverse() * a * d_i) * T.inverse() \n",
    "            res_map[(names_G[str(a)], i)] = (int(d_j_index), tmp_res)\n",
    "    return res_map\n",
    "    "
   ]
  },
  {
   "cell_type": "code",
   "execution_count": 17,
   "metadata": {},
   "outputs": [
    {
     "ename": "NameError",
     "evalue": "name 'T' is not defined",
     "output_type": "error",
     "traceback": [
      "\u001b[0;31m---------------------------------------------------------------------------\u001b[0m",
      "\u001b[0;31mNameError\u001b[0m                                 Traceback (most recent call last)",
      "\u001b[0;32m<ipython-input-17-081329674059>\u001b[0m in \u001b[0;36m<module>\u001b[0;34m\u001b[0m\n\u001b[0;32m----> 1\u001b[0;31m \u001b[0mself_similar\u001b[0m\u001b[0;34m(\u001b[0m\u001b[0mInteger\u001b[0m\u001b[0;34m(\u001b[0m\u001b[0;36m13\u001b[0m\u001b[0;34m)\u001b[0m\u001b[0;34m,\u001b[0m \u001b[0mT\u001b[0m\u001b[0;34m,\u001b[0m \u001b[0mverbose\u001b[0m\u001b[0;34m=\u001b[0m\u001b[0;32mTrue\u001b[0m\u001b[0;34m,\u001b[0m \u001b[0mgen_alphabet\u001b[0m\u001b[0;34m=\u001b[0m\u001b[0;32mTrue\u001b[0m\u001b[0;34m)\u001b[0m\u001b[0;34m\u001b[0m\u001b[0;34m\u001b[0m\u001b[0m\n\u001b[0m",
      "\u001b[0;31mNameError\u001b[0m: name 'T' is not defined"
     ]
    }
   ],
   "source": [
    "self_similar(13, T, verbose=True, gen_alphabet=True)"
   ]
  },
  {
   "cell_type": "code",
   "execution_count": 65,
   "metadata": {
    "scrolled": false
   },
   "outputs": [
    {
     "name": "stdout",
     "output_type": "stream",
     "text": [
      "=====================================================================\n",
      "\n",
      "conjugate el:\n",
      "[-1  0  0]\n",
      "[ 0 -1  0]\n",
      "[ 0  0  1]\n",
      "conj in G: True\n",
      "\n",
      "conjugate el:\n",
      "[ 1  0  0]\n",
      "[ 0 -1  0]\n",
      "[ 0  0  1]\n",
      "conj in G: True\n",
      "\n",
      "conjugate el:\n",
      "[ 1  0  0]\n",
      "[ 0  1  0]\n",
      "[ 0 -1  1]\n",
      "conj in G: True\n",
      "\n",
      "conjugate el:\n",
      "[1 0 0]\n",
      "[0 1 0]\n",
      "[2 0 1]\n",
      "conj in G: True\n",
      "----------------------------------------------------\n",
      "Index of subgroup H: 2\n",
      "Transversal:\n",
      "[1 0 0]\n",
      "[0 1 0]\n",
      "[0 0 1]\n",
      "\n",
      "[1 0 0]\n",
      "[0 1 0]\n",
      "[1 0 1]\n"
     ]
    },
    {
     "data": {
      "text/plain": [
       "{('a', 1): (\n",
       "   [-1  0  0]\n",
       "   [ 0 -1  0]\n",
       "1, [ 0  0  1]\n",
       "),\n",
       " ('a', 2): (\n",
       "   [-1  0  0]\n",
       "   [ 0 -1  0]\n",
       "2, [ 0 -1  1]\n",
       "),\n",
       " ('b', 1): (\n",
       "   [ 1  0  0]\n",
       "   [ 0 -1  0]\n",
       "1, [ 0  0  1]\n",
       "),\n",
       " ('b', 2): (\n",
       "   [ 1  0  0]\n",
       "   [ 0 -1  0]\n",
       "2, [ 0 -1  1]\n",
       "),\n",
       " ('c', 1): (\n",
       "   [1 0 0]\n",
       "   [0 1 0]\n",
       "2, [0 1 1]\n",
       "),\n",
       " ('c', 2): (\n",
       "   [1 0 0]\n",
       "   [0 1 0]\n",
       "1, [0 0 1]\n",
       "),\n",
       " ('d', 1): (\n",
       "   [ 1  0  0]\n",
       "   [ 0  1  0]\n",
       "1, [-1  0  1]\n",
       "),\n",
       " ('d', 2): (\n",
       "   [ 1  0  0]\n",
       "   [ 0  1  0]\n",
       "2, [-1  0  1]\n",
       ")}"
      ]
     },
     "execution_count": 65,
     "metadata": {},
     "output_type": "execute_result"
    }
   ],
   "source": [
    "T = matrix(QQ, [[0, -1, 0], [2, 0, 0], [0, 0, 1]])\n",
    "self_similar(6, T, verbose=True, gen_alphabet=True)"
   ]
  },
  {
   "cell_type": "code",
   "execution_count": 75,
   "metadata": {
    "scrolled": false
   },
   "outputs": [
    {
     "name": "stdout",
     "output_type": "stream",
     "text": [
      "=====================================================================\n",
      "\n",
      "conjugate el:\n",
      "[-1  0  0]\n",
      "[ 0 -1  0]\n",
      "[ 0  0  1]\n",
      "conj in G: True\n",
      "\n",
      "conjugate el:\n",
      "[ 0  1  0]\n",
      "[-1  0  0]\n",
      "[ 0  0  1]\n",
      "conj in G: True\n",
      "\n",
      "conjugate el:\n",
      "[0 1 0]\n",
      "[1 0 0]\n",
      "[1 0 1]\n",
      "conj in G: False\n"
     ]
    },
    {
     "ename": "ValueError",
     "evalue": "Bad matrix T, there is no virtual endomorphism",
     "output_type": "error",
     "traceback": [
      "\u001b[0;31m---------------------------------------------------------------------------\u001b[0m",
      "\u001b[0;31mValueError\u001b[0m                                Traceback (most recent call last)",
      "\u001b[0;32m<ipython-input-75-c0673c79e9f3>\u001b[0m in \u001b[0;36m<module>\u001b[0;34m\u001b[0m\n\u001b[1;32m      1\u001b[0m \u001b[0mT\u001b[0m \u001b[0;34m=\u001b[0m \u001b[0mmatrix\u001b[0m\u001b[0;34m(\u001b[0m\u001b[0mQQ\u001b[0m\u001b[0;34m,\u001b[0m \u001b[0;34m[\u001b[0m\u001b[0;34m[\u001b[0m\u001b[0mInteger\u001b[0m\u001b[0;34m(\u001b[0m\u001b[0;36m1\u001b[0m\u001b[0;34m)\u001b[0m\u001b[0;34m,\u001b[0m \u001b[0;34m-\u001b[0m\u001b[0mInteger\u001b[0m\u001b[0;34m(\u001b[0m\u001b[0;36m1\u001b[0m\u001b[0;34m)\u001b[0m\u001b[0;34m,\u001b[0m \u001b[0mInteger\u001b[0m\u001b[0;34m(\u001b[0m\u001b[0;36m0\u001b[0m\u001b[0;34m)\u001b[0m\u001b[0;34m]\u001b[0m\u001b[0;34m,\u001b[0m \u001b[0;34m[\u001b[0m\u001b[0mInteger\u001b[0m\u001b[0;34m(\u001b[0m\u001b[0;36m1\u001b[0m\u001b[0;34m)\u001b[0m\u001b[0;34m,\u001b[0m \u001b[0mInteger\u001b[0m\u001b[0;34m(\u001b[0m\u001b[0;36m1\u001b[0m\u001b[0;34m)\u001b[0m\u001b[0;34m,\u001b[0m \u001b[0mInteger\u001b[0m\u001b[0;34m(\u001b[0m\u001b[0;36m0\u001b[0m\u001b[0;34m)\u001b[0m\u001b[0;34m]\u001b[0m\u001b[0;34m,\u001b[0m \u001b[0;34m[\u001b[0m\u001b[0mInteger\u001b[0m\u001b[0;34m(\u001b[0m\u001b[0;36m0\u001b[0m\u001b[0;34m)\u001b[0m\u001b[0;34m,\u001b[0m \u001b[0mInteger\u001b[0m\u001b[0;34m(\u001b[0m\u001b[0;36m0\u001b[0m\u001b[0;34m)\u001b[0m\u001b[0;34m,\u001b[0m \u001b[0mInteger\u001b[0m\u001b[0;34m(\u001b[0m\u001b[0;36m1\u001b[0m\u001b[0;34m)\u001b[0m\u001b[0;34m]\u001b[0m\u001b[0;34m]\u001b[0m\u001b[0;34m)\u001b[0m\u001b[0;34m\u001b[0m\u001b[0;34m\u001b[0m\u001b[0m\n\u001b[0;32m----> 2\u001b[0;31m \u001b[0mself_similar\u001b[0m\u001b[0;34m(\u001b[0m\u001b[0mInteger\u001b[0m\u001b[0;34m(\u001b[0m\u001b[0;36m12\u001b[0m\u001b[0;34m)\u001b[0m\u001b[0;34m,\u001b[0m \u001b[0mT\u001b[0m\u001b[0;34m,\u001b[0m \u001b[0mverbose\u001b[0m\u001b[0;34m=\u001b[0m\u001b[0;32mTrue\u001b[0m\u001b[0;34m,\u001b[0m \u001b[0mgen_alphabet\u001b[0m\u001b[0;34m=\u001b[0m\u001b[0;32mTrue\u001b[0m\u001b[0;34m)\u001b[0m\u001b[0;34m\u001b[0m\u001b[0;34m\u001b[0m\u001b[0m\n\u001b[0m",
      "\u001b[0;32m<ipython-input-24-e63a1a1c0b22>\u001b[0m in \u001b[0;36mself_similar\u001b[0;34m(n, T, dim, verbose, gen_alphabet)\u001b[0m\n\u001b[1;32m     15\u001b[0m             \u001b[0mprint\u001b[0m\u001b[0;34m(\u001b[0m\u001b[0;34m\"conj in G:\"\u001b[0m\u001b[0;34m,\u001b[0m \u001b[0mconj\u001b[0m \u001b[0;32min\u001b[0m \u001b[0mG\u001b[0m\u001b[0;34m)\u001b[0m\u001b[0;34m\u001b[0m\u001b[0;34m\u001b[0m\u001b[0m\n\u001b[1;32m     16\u001b[0m         \u001b[0;32mif\u001b[0m \u001b[0mconj\u001b[0m \u001b[0;32mnot\u001b[0m \u001b[0;32min\u001b[0m \u001b[0mG\u001b[0m\u001b[0;34m:\u001b[0m\u001b[0;34m\u001b[0m\u001b[0;34m\u001b[0m\u001b[0m\n\u001b[0;32m---> 17\u001b[0;31m             \u001b[0;32mraise\u001b[0m \u001b[0mValueError\u001b[0m\u001b[0;34m(\u001b[0m\u001b[0;34m\"Bad matrix T, there is no virtual endomorphism\"\u001b[0m\u001b[0;34m)\u001b[0m\u001b[0;34m\u001b[0m\u001b[0;34m\u001b[0m\u001b[0m\n\u001b[0m\u001b[1;32m     18\u001b[0m         \u001b[0mconj_els\u001b[0m\u001b[0;34m.\u001b[0m\u001b[0mappend\u001b[0m\u001b[0;34m(\u001b[0m\u001b[0mconj\u001b[0m\u001b[0;34m)\u001b[0m\u001b[0;34m\u001b[0m\u001b[0;34m\u001b[0m\u001b[0m\n\u001b[1;32m     19\u001b[0m \u001b[0;34m\u001b[0m\u001b[0m\n",
      "\u001b[0;31mValueError\u001b[0m: Bad matrix T, there is no virtual endomorphism"
     ]
    }
   ],
   "source": [
    "T = matrix(QQ, [[1, -1, 0], [1, 1, 0], [0, 0, 1]])\n",
    "self_similar(14, T, verbose=True, gen_alphabet=True)"
   ]
  },
  {
   "cell_type": "code",
   "execution_count": 68,
   "metadata": {},
   "outputs": [
    {
     "data": {
      "text/plain": [
       "[\n",
       "[-1  0  0]  [ -1   0   0]  [1 0 0]  [1 0 0]\n",
       "[ 0 -1  0]  [  0   1   0]  [0 1 0]  [0 1 0]\n",
       "[ 0  0  1], [1/2 1/2   1], [1 0 1], [0 1 1]\n",
       "]"
      ]
     },
     "execution_count": 68,
     "metadata": {},
     "output_type": "execute_result"
    }
   ],
   "source": [
    "G = gap.SpaceGroupIT(2, 8)\n",
    "gens = [matrix(QQ, el) for el in G.GeneratorsOfGroup().AsList()]\n",
    "gens"
   ]
  },
  {
   "cell_type": "code",
   "execution_count": 69,
   "metadata": {},
   "outputs": [
    {
     "data": {
      "text/plain": [
       "[  1   0   0]\n",
       "[  0  -1   0]\n",
       "[1/2 1/2   1]"
      ]
     },
     "execution_count": 69,
     "metadata": {},
     "output_type": "execute_result"
    }
   ],
   "source": [
    "a, b, c, d = gens \n",
    "\n",
    "a * b "
   ]
  },
  {
   "cell_type": "code",
   "execution_count": 70,
   "metadata": {},
   "outputs": [
    {
     "data": {
      "text/plain": [
       "[-1  0  0]\n",
       "[ 0 -1  0]\n",
       "[ 0  1  1]"
      ]
     },
     "execution_count": 70,
     "metadata": {},
     "output_type": "execute_result"
    }
   ],
   "source": [
    "a * d"
   ]
  },
  {
   "cell_type": "code",
   "execution_count": 67,
   "metadata": {},
   "outputs": [
    {
     "name": "stdout",
     "output_type": "stream",
     "text": [
      "=====================================================================\n",
      "\n",
      "conjugate el:\n",
      "[-1  0  0]\n",
      "[ 0 -1  0]\n",
      "[ 0  0  1]\n",
      "conj in G: True\n",
      "\n",
      "conjugate el:\n",
      "[ 1  0  0]\n",
      "[ 0 -1  0]\n",
      "[ 0  0  1]\n",
      "conj in G: True\n",
      "\n",
      "conjugate el:\n",
      "[  1   0   0]\n",
      "[  0   1   0]\n",
      "[1/2   1   1]\n",
      "conj in G: False\n"
     ]
    },
    {
     "ename": "ValueError",
     "evalue": "Bad matrix T, there is no virtual endomorphism",
     "output_type": "error",
     "traceback": [
      "\u001b[0;31m---------------------------------------------------------------------------\u001b[0m",
      "\u001b[0;31mValueError\u001b[0m                                Traceback (most recent call last)",
      "\u001b[0;32m<ipython-input-67-54be2d696419>\u001b[0m in \u001b[0;36m<module>\u001b[0;34m\u001b[0m\n\u001b[1;32m      1\u001b[0m \u001b[0mT\u001b[0m \u001b[0;34m=\u001b[0m \u001b[0mmatrix\u001b[0m\u001b[0;34m(\u001b[0m\u001b[0mQQ\u001b[0m\u001b[0;34m,\u001b[0m \u001b[0;34m[\u001b[0m\u001b[0;34m[\u001b[0m\u001b[0mInteger\u001b[0m\u001b[0;34m(\u001b[0m\u001b[0;36m0\u001b[0m\u001b[0;34m)\u001b[0m\u001b[0;34m,\u001b[0m \u001b[0mInteger\u001b[0m\u001b[0;34m(\u001b[0m\u001b[0;36m2\u001b[0m\u001b[0;34m)\u001b[0m\u001b[0;34m,\u001b[0m \u001b[0mInteger\u001b[0m\u001b[0;34m(\u001b[0m\u001b[0;36m0\u001b[0m\u001b[0;34m)\u001b[0m\u001b[0;34m]\u001b[0m\u001b[0;34m,\u001b[0m \u001b[0;34m[\u001b[0m\u001b[0mInteger\u001b[0m\u001b[0;34m(\u001b[0m\u001b[0;36m1\u001b[0m\u001b[0;34m)\u001b[0m\u001b[0;34m,\u001b[0m \u001b[0mInteger\u001b[0m\u001b[0;34m(\u001b[0m\u001b[0;36m0\u001b[0m\u001b[0;34m)\u001b[0m\u001b[0;34m,\u001b[0m \u001b[0mInteger\u001b[0m\u001b[0;34m(\u001b[0m\u001b[0;36m0\u001b[0m\u001b[0;34m)\u001b[0m\u001b[0;34m]\u001b[0m\u001b[0;34m,\u001b[0m \u001b[0;34m[\u001b[0m\u001b[0mInteger\u001b[0m\u001b[0;34m(\u001b[0m\u001b[0;36m0\u001b[0m\u001b[0;34m)\u001b[0m\u001b[0;34m,\u001b[0m \u001b[0mInteger\u001b[0m\u001b[0;34m(\u001b[0m\u001b[0;36m0\u001b[0m\u001b[0;34m)\u001b[0m\u001b[0;34m,\u001b[0m \u001b[0mInteger\u001b[0m\u001b[0;34m(\u001b[0m\u001b[0;36m1\u001b[0m\u001b[0;34m)\u001b[0m\u001b[0;34m]\u001b[0m\u001b[0;34m]\u001b[0m\u001b[0;34m)\u001b[0m\u001b[0;34m\u001b[0m\u001b[0;34m\u001b[0m\u001b[0m\n\u001b[0;32m----> 2\u001b[0;31m \u001b[0mself_similar\u001b[0m\u001b[0;34m(\u001b[0m\u001b[0mInteger\u001b[0m\u001b[0;34m(\u001b[0m\u001b[0;36m9\u001b[0m\u001b[0;34m)\u001b[0m\u001b[0;34m,\u001b[0m \u001b[0mT\u001b[0m\u001b[0;34m,\u001b[0m \u001b[0mverbose\u001b[0m\u001b[0;34m=\u001b[0m\u001b[0;32mTrue\u001b[0m\u001b[0;34m,\u001b[0m \u001b[0mgen_alphabet\u001b[0m\u001b[0;34m=\u001b[0m\u001b[0;32mTrue\u001b[0m\u001b[0;34m)\u001b[0m\u001b[0;34m\u001b[0m\u001b[0;34m\u001b[0m\u001b[0m\n\u001b[0m",
      "\u001b[0;32m<ipython-input-24-e63a1a1c0b22>\u001b[0m in \u001b[0;36mself_similar\u001b[0;34m(n, T, dim, verbose, gen_alphabet)\u001b[0m\n\u001b[1;32m     15\u001b[0m             \u001b[0mprint\u001b[0m\u001b[0;34m(\u001b[0m\u001b[0;34m\"conj in G:\"\u001b[0m\u001b[0;34m,\u001b[0m \u001b[0mconj\u001b[0m \u001b[0;32min\u001b[0m \u001b[0mG\u001b[0m\u001b[0;34m)\u001b[0m\u001b[0;34m\u001b[0m\u001b[0;34m\u001b[0m\u001b[0m\n\u001b[1;32m     16\u001b[0m         \u001b[0;32mif\u001b[0m \u001b[0mconj\u001b[0m \u001b[0;32mnot\u001b[0m \u001b[0;32min\u001b[0m \u001b[0mG\u001b[0m\u001b[0;34m:\u001b[0m\u001b[0;34m\u001b[0m\u001b[0;34m\u001b[0m\u001b[0m\n\u001b[0;32m---> 17\u001b[0;31m             \u001b[0;32mraise\u001b[0m \u001b[0mValueError\u001b[0m\u001b[0;34m(\u001b[0m\u001b[0;34m\"Bad matrix T, there is no virtual endomorphism\"\u001b[0m\u001b[0;34m)\u001b[0m\u001b[0;34m\u001b[0m\u001b[0;34m\u001b[0m\u001b[0m\n\u001b[0m\u001b[1;32m     18\u001b[0m         \u001b[0mconj_els\u001b[0m\u001b[0;34m.\u001b[0m\u001b[0mappend\u001b[0m\u001b[0;34m(\u001b[0m\u001b[0mconj\u001b[0m\u001b[0;34m)\u001b[0m\u001b[0;34m\u001b[0m\u001b[0;34m\u001b[0m\u001b[0m\n\u001b[1;32m     19\u001b[0m \u001b[0;34m\u001b[0m\u001b[0m\n",
      "\u001b[0;31mValueError\u001b[0m: Bad matrix T, there is no virtual endomorphism"
     ]
    }
   ],
   "source": [
    "T = matrix(QQ, [[0, 2, 0], [1, 0, 0], [0, 0, 1]])\n",
    "self_similar(9, T, verbose=True, gen_alphabet=True)"
   ]
  },
  {
   "cell_type": "code",
   "execution_count": 56,
   "metadata": {},
   "outputs": [
    {
     "name": "stdout",
     "output_type": "stream",
     "text": [
      "=====================================================================\n",
      "\n",
      "conjugate el:\n",
      "[ 0  1  0]\n",
      "[-1 -1  0]\n",
      "[ 0  0  1]\n",
      "conj in G: True\n",
      "\n",
      "conjugate el:\n",
      "[-1  0  0]\n",
      "[ 0 -1  0]\n",
      "[ 0  0  1]\n",
      "conj in G: True\n",
      "\n",
      "conjugate el:\n",
      "[ 1  1  0]\n",
      "[ 0 -1  0]\n",
      "[ 0  0  1]\n",
      "conj in G: True\n",
      "\n",
      "conjugate el:\n",
      "[1 0 0]\n",
      "[0 1 0]\n",
      "[2 2 1]\n",
      "conj in G: True\n",
      "\n",
      "conjugate el:\n",
      "[ 1  0  0]\n",
      "[ 0  1  0]\n",
      "[-2  0  1]\n",
      "conj in G: True\n",
      "----------------------------------------------------\n",
      "Index of subgroup H: 4\n",
      "Transversal:\n",
      "[1 0 0]\n",
      "[0 1 0]\n",
      "[0 0 1]\n",
      "\n",
      "[1 0 0]\n",
      "[0 1 0]\n",
      "[1 0 1]\n",
      "\n",
      "[1 0 0]\n",
      "[0 1 0]\n",
      "[0 1 1]\n",
      "\n",
      "[1 0 0]\n",
      "[0 1 0]\n",
      "[1 1 1]\n"
     ]
    },
    {
     "data": {
      "text/plain": [
       "{('a', 1): (\n",
       "   [ 0  1  0]\n",
       "   [-1 -1  0]\n",
       "1, [ 0  0  1]\n",
       "),\n",
       " ('a', 2): (\n",
       "   [ 0  1  0]\n",
       "   [-1 -1  0]\n",
       "4, [ 0  1  1]\n",
       "),\n",
       " ('a', 3): (\n",
       "   [ 0  1  0]\n",
       "   [-1 -1  0]\n",
       "2, [ 0  0  1]\n",
       "),\n",
       " ('a', 4): (\n",
       "   [ 0  1  0]\n",
       "   [-1 -1  0]\n",
       "3, [-1  0  1]\n",
       "),\n",
       " ('b', 1): (\n",
       "   [-1  0  0]\n",
       "   [ 0 -1  0]\n",
       "1, [ 0  0  1]\n",
       "),\n",
       " ('b', 2): (\n",
       "   [-1  0  0]\n",
       "   [ 0 -1  0]\n",
       "2, [ 0  1  1]\n",
       "),\n",
       " ('b', 3): (\n",
       "   [-1  0  0]\n",
       "   [ 0 -1  0]\n",
       "3, [-1 -1  1]\n",
       "),\n",
       " ('b', 4): (\n",
       "   [-1  0  0]\n",
       "   [ 0 -1  0]\n",
       "4, [-1  0  1]\n",
       "),\n",
       " ('c', 1): (\n",
       "   [-1  0  0]\n",
       "   [ 1  1  0]\n",
       "1, [ 0  0  1]\n",
       "),\n",
       " ('c', 2): (\n",
       "   [-1  0  0]\n",
       "   [ 1  1  0]\n",
       "3, [ 0  1  1]\n",
       "),\n",
       " ('c', 3): (\n",
       "   [-1  0  0]\n",
       "   [ 1  1  0]\n",
       "2, [-1 -1  1]\n",
       "),\n",
       " ('c', 4): (\n",
       "   [-1  0  0]\n",
       "   [ 1  1  0]\n",
       "4, [-1  0  1]\n",
       "),\n",
       " ('d', 1): (\n",
       "   [ 1  0  0]\n",
       "   [ 0  1  0]\n",
       "2, [ 0 -1  1]\n",
       "),\n",
       " ('d', 2): (\n",
       "   [1 0 0]\n",
       "   [0 1 0]\n",
       "1, [0 0 1]\n",
       "),\n",
       " ('d', 3): (\n",
       "   [ 1  0  0]\n",
       "   [ 0  1  0]\n",
       "4, [ 0 -1  1]\n",
       "),\n",
       " ('d', 4): (\n",
       "   [1 0 0]\n",
       "   [0 1 0]\n",
       "3, [0 0 1]\n",
       "),\n",
       " ('e', 1): (\n",
       "   [1 0 0]\n",
       "   [0 1 0]\n",
       "3, [1 1 1]\n",
       "),\n",
       " ('e', 2): (\n",
       "   [1 0 0]\n",
       "   [0 1 0]\n",
       "4, [1 1 1]\n",
       "),\n",
       " ('e', 3): (\n",
       "   [1 0 0]\n",
       "   [0 1 0]\n",
       "1, [0 0 1]\n",
       "),\n",
       " ('e', 4): (\n",
       "   [1 0 0]\n",
       "   [0 1 0]\n",
       "2, [0 0 1]\n",
       ")}"
      ]
     },
     "execution_count": 56,
     "metadata": {},
     "output_type": "execute_result"
    }
   ],
   "source": [
    "T = matrix(QQ, [[2, 2, 0], [-2, 0, 0], [0, 0, 1]])\n",
    "self_similar(17, T, verbose=True, gen_alphabet=True)"
   ]
  },
  {
   "cell_type": "code",
   "execution_count": 31,
   "metadata": {},
   "outputs": [
    {
     "name": "stdout",
     "output_type": "stream",
     "text": [
      "=====================================================================\n",
      "\n",
      "conjugate el:\n",
      "[-1  0  0]\n",
      "[ 0 -1  0]\n",
      "[ 0  0  1]\n",
      "conj in G: True\n",
      "\n",
      "conjugate el:\n",
      "[  1   0   0]\n",
      "[  0  -1   0]\n",
      "[  0 3/2   1]\n",
      "conj in G: False\n"
     ]
    },
    {
     "ename": "ValueError",
     "evalue": "Bad matrix T, there is no virtual endomorphism",
     "output_type": "error",
     "traceback": [
      "\u001b[0;31m---------------------------------------------------------------------------\u001b[0m",
      "\u001b[0;31mValueError\u001b[0m                                Traceback (most recent call last)",
      "\u001b[0;32m<ipython-input-31-c6858f93087b>\u001b[0m in \u001b[0;36m<module>\u001b[0;34m\u001b[0m\n\u001b[0;32m----> 1\u001b[0;31m \u001b[0mself_similar\u001b[0m\u001b[0;34m(\u001b[0m\u001b[0mInteger\u001b[0m\u001b[0;34m(\u001b[0m\u001b[0;36m7\u001b[0m\u001b[0;34m)\u001b[0m\u001b[0;34m,\u001b[0m \u001b[0mT\u001b[0m\u001b[0;34m,\u001b[0m \u001b[0mverbose\u001b[0m\u001b[0;34m=\u001b[0m\u001b[0;32mTrue\u001b[0m\u001b[0;34m,\u001b[0m \u001b[0mgen_alphabet\u001b[0m\u001b[0;34m=\u001b[0m\u001b[0;32mTrue\u001b[0m\u001b[0;34m)\u001b[0m\u001b[0;34m\u001b[0m\u001b[0;34m\u001b[0m\u001b[0m\n\u001b[0m",
      "\u001b[0;32m<ipython-input-24-e63a1a1c0b22>\u001b[0m in \u001b[0;36mself_similar\u001b[0;34m(n, T, dim, verbose, gen_alphabet)\u001b[0m\n\u001b[1;32m     15\u001b[0m             \u001b[0mprint\u001b[0m\u001b[0;34m(\u001b[0m\u001b[0;34m\"conj in G:\"\u001b[0m\u001b[0;34m,\u001b[0m \u001b[0mconj\u001b[0m \u001b[0;32min\u001b[0m \u001b[0mG\u001b[0m\u001b[0;34m)\u001b[0m\u001b[0;34m\u001b[0m\u001b[0;34m\u001b[0m\u001b[0m\n\u001b[1;32m     16\u001b[0m         \u001b[0;32mif\u001b[0m \u001b[0mconj\u001b[0m \u001b[0;32mnot\u001b[0m \u001b[0;32min\u001b[0m \u001b[0mG\u001b[0m\u001b[0;34m:\u001b[0m\u001b[0;34m\u001b[0m\u001b[0;34m\u001b[0m\u001b[0m\n\u001b[0;32m---> 17\u001b[0;31m             \u001b[0;32mraise\u001b[0m \u001b[0mValueError\u001b[0m\u001b[0;34m(\u001b[0m\u001b[0;34m\"Bad matrix T, there is no virtual endomorphism\"\u001b[0m\u001b[0;34m)\u001b[0m\u001b[0;34m\u001b[0m\u001b[0;34m\u001b[0m\u001b[0m\n\u001b[0m\u001b[1;32m     18\u001b[0m         \u001b[0mconj_els\u001b[0m\u001b[0;34m.\u001b[0m\u001b[0mappend\u001b[0m\u001b[0;34m(\u001b[0m\u001b[0mconj\u001b[0m\u001b[0;34m)\u001b[0m\u001b[0;34m\u001b[0m\u001b[0;34m\u001b[0m\u001b[0m\n\u001b[1;32m     19\u001b[0m \u001b[0;34m\u001b[0m\u001b[0m\n",
      "\u001b[0;31mValueError\u001b[0m: Bad matrix T, there is no virtual endomorphism"
     ]
    }
   ],
   "source": [
    "self_similar(7, T, verbose=True, gen_alphabet=True)"
   ]
  },
  {
   "cell_type": "code",
   "execution_count": 45,
   "metadata": {},
   "outputs": [
    {
     "data": {
      "text/plain": [
       "x^2 - a^2"
      ]
     },
     "execution_count": 45,
     "metadata": {},
     "output_type": "execute_result"
    }
   ],
   "source": [
    "var('a b c d')\n",
    "A = matrix([[0, a], [a, 0]])\n",
    "A.charpoly()"
   ]
  },
  {
   "cell_type": "code",
   "execution_count": 49,
   "metadata": {},
   "outputs": [
    {
     "data": {
      "text/plain": [
       "[-x  a]\n",
       "[ a -x]"
      ]
     },
     "execution_count": 49,
     "metadata": {},
     "output_type": "execute_result"
    }
   ],
   "source": [
    "A - x"
   ]
  },
  {
   "cell_type": "code",
   "execution_count": 50,
   "metadata": {},
   "outputs": [
    {
     "data": {
      "text/plain": [
       "Group([ [ [ 0, 1 ], [ -1, -1 ] ] ])"
      ]
     },
     "execution_count": 50,
     "metadata": {},
     "output_type": "execute_result"
    }
   ],
   "source": [
    "G = gap.SpaceGroupIT(2, 13)\n",
    "G.PointGroup()"
   ]
  }
 ],
 "metadata": {
  "kernelspec": {
   "display_name": "SageMath 9.0",
   "language": "sage",
   "name": "sagemath"
  },
  "language_info": {
   "codemirror_mode": {
    "name": "ipython",
    "version": 3
   },
   "file_extension": ".py",
   "mimetype": "text/x-python",
   "name": "python",
   "nbconvert_exporter": "python",
   "pygments_lexer": "ipython3",
   "version": "3.8.10"
  }
 },
 "nbformat": 4,
 "nbformat_minor": 4
}
