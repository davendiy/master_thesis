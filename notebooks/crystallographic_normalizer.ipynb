{
 "cells": [
  {
   "cell_type": "code",
   "execution_count": 1,
   "metadata": {},
   "outputs": [
    {
     "data": {
      "text/plain": [
       "true"
      ]
     },
     "execution_count": 1,
     "metadata": {},
     "output_type": "execute_result"
    }
   ],
   "source": [
    "from itertools import permutations, combinations\n",
    "\n",
    "gap('LoadPackage(\"Cryst\")')"
   ]
  },
  {
   "cell_type": "markdown",
   "metadata": {},
   "source": [
    "# Find normalizers for all Point Groups of crystallographic groups in R^2"
   ]
  },
  {
   "cell_type": "code",
   "execution_count": 2,
   "metadata": {},
   "outputs": [
    {
     "data": {
      "text/plain": [
       "(a, b, c, d)"
      ]
     },
     "execution_count": 2,
     "metadata": {},
     "output_type": "execute_result"
    }
   ],
   "source": [
    "var('a,b,c,d')"
   ]
  },
  {
   "cell_type": "code",
   "execution_count": 3,
   "metadata": {},
   "outputs": [],
   "source": [
    "A = matrix([[a, b], [c, d]])"
   ]
  },
  {
   "cell_type": "markdown",
   "metadata": {},
   "source": [
    "## There are 11 different Point Groups "
   ]
  },
  {
   "cell_type": "code",
   "execution_count": 4,
   "metadata": {},
   "outputs": [
    {
     "data": {
      "text/plain": [
       "{'Group([ [ [ -1, 0 ], [ 0, -1 ] ] ])',\n",
       " 'Group([ [ [ -1, 0 ], [ 0, -1 ] ], [ [ -1, 0 ], [ 0, 1 ] ] ])',\n",
       " 'Group([ [ [ -1, 0 ], [ 0, -1 ] ], [ [ 0, 1 ], [ -1, 0 ] ] ])',\n",
       " 'Group([ [ [ -1, 0 ], [ 0, -1 ] ], [ [ 0, 1 ], [ -1, 0 ] ], \\n  [ [ -1, 0 ], [ 0, 1 ] ] ])',\n",
       " 'Group([ [ [ -1, 0 ], [ 0, 1 ] ] ])',\n",
       " 'Group([ [ [ 0, 1 ], [ -1, -1 ] ] ])',\n",
       " 'Group([ [ [ 0, 1 ], [ -1, -1 ] ], [ [ -1, 0 ], [ 0, -1 ] ] ])',\n",
       " 'Group([ [ [ 0, 1 ], [ -1, -1 ] ], [ [ -1, 0 ], [ 0, -1 ] ], \\n  [ [ 0, -1 ], [ -1, 0 ] ] ])',\n",
       " 'Group([ [ [ 0, 1 ], [ -1, -1 ] ], [ [ 0, -1 ], [ -1, 0 ] ] ])',\n",
       " 'Group([ [ [ 0, 1 ], [ -1, -1 ] ], [ [ 0, 1 ], [ 1, 0 ] ] ])',\n",
       " 'Group([],[ [ 1, 0 ], [ 0, 1 ] ])'}"
      ]
     },
     "execution_count": 4,
     "metadata": {},
     "output_type": "execute_result"
    }
   ],
   "source": [
    "point_groups = set() \n",
    "for n in range(1, 18):\n",
    "    G = gap(f'SpaceGroupIT(2, {n})') \n",
    "    S = G.PointGroup() \n",
    "    \n",
    "    point_groups.add(str(S))\n",
    "\n",
    "point_groups"
   ]
  },
  {
   "cell_type": "code",
   "execution_count": 5,
   "metadata": {},
   "outputs": [
    {
     "data": {
      "text/plain": [
       "(a == x0 + x1 + x2, b == x1, c == x2)"
      ]
     },
     "execution_count": 5,
     "metadata": {},
     "output_type": "execute_result"
    }
   ],
   "source": [
    "def normalize_expressions(exps, allowed=None):\n",
    "    \"\"\"Replace all variables except allowed (default: a b c d) with {x0,x1,x2,x3...}\"\"\"\n",
    "    extra_args = set()\n",
    "                          \n",
    "    if allowed is None: \n",
    "        allowed = var('a b c d')\n",
    "        \n",
    "    for exp in exps: \n",
    "#         print(exp)\n",
    "        extra_args |= {el for el in exp.args() if el not in allowed}\n",
    "        \n",
    "    res = []\n",
    "    for exp in exps:\n",
    "        for i, el in enumerate(extra_args): \n",
    "            exp = exp.subs({var(el): var(f'x{i}')})\n",
    "        res.append(exp)\n",
    "    return tuple(res)\n",
    "\n",
    "\n",
    "var('a b c')\n",
    "var('r1 r2 r3')\n",
    "\n",
    "exp = [a == r1 + r2 + r3, b == r2, c == r1]\n",
    "normalize_expressions(exp)"
   ]
  },
  {
   "cell_type": "code",
   "execution_count": 6,
   "metadata": {},
   "outputs": [],
   "source": [
    "expression = exp[0]"
   ]
  },
  {
   "cell_type": "code",
   "execution_count": 7,
   "metadata": {},
   "outputs": [],
   "source": [
    "def prepare_gap_env():\n",
    "    gap('LoadPackage(\"Cryst\");;Read(\"../working/el2word.g\")')\n",
    "    \n",
    "    \n",
    "def el2word(G, el, verbose=False):\n",
    "    \"\"\"Represent, given an element of a finite group G, \n",
    "    as the word over generators.\"\"\"\n",
    "    \n",
    "    prepare_gap_env()\n",
    "    gap.set('G', G)\n",
    "    gap.set('g', el)\n",
    "    \n",
    "\n",
    "    gens_dict = {f'g_{i}' : el for i, el in enumerate(list(G.GeneratorsOfGroup()))}\n",
    "    \n",
    "    gens = '\"' + '\", \"'.join(sorted(gens_dict.keys())) + '\"'\n",
    "    expression = f'FreeGroup({gens})'\n",
    "    if verbose:\n",
    "        print(\"Free group to be created:\", expression)\n",
    "        print(\"Translation of generators:\", gens_dict)\n",
    "\n",
    "    gap.set(\"F\", expression)\n",
    "\n",
    "    res = gap('ElementAsWordGeneratorsPointGroup(G, g, F)')\n",
    "    return str(res).split(\"*\"), gens_dict \n",
    "\n",
    "\n",
    "def extend_permutation(G, el, gens, perm):        \n",
    "    \"\"\"Extend given permutation on generators onto the entire group.\"\"\"\n",
    "    word, trans = el2word(G, el)\n",
    "    \n",
    "    if el == G.One(): \n",
    "        return el \n",
    "    \n",
    "    res = G.One()    \n",
    "    for g in word: \n",
    "        power = 1\n",
    "        if \"^\" in g: \n",
    "            g, power = g.split('^')\n",
    "            power = int(power)\n",
    "        index = gens.index(trans[g])\n",
    "        g_to = perm[index]\n",
    "#         index_to = perm[index]\n",
    "#         g_to = gens[index_to] ** power \n",
    "        res *= g_to ** power\n",
    "    return res\n"
   ]
  },
  {
   "cell_type": "code",
   "execution_count": 8,
   "metadata": {},
   "outputs": [],
   "source": [
    "prepare_gap_env()"
   ]
  },
  {
   "cell_type": "code",
   "execution_count": 9,
   "metadata": {},
   "outputs": [
    {
     "data": {
      "text/plain": [
       "Group([ [ [ -1, 0 ], [ 0, -1 ] ], [ [ 0, 1 ], [ -1, 0 ] ] ])"
      ]
     },
     "execution_count": 9,
     "metadata": {},
     "output_type": "execute_result"
    }
   ],
   "source": [
    "G = gap.SpaceGroupIT(2, 10).PointGroup()\n",
    "G"
   ]
  },
  {
   "cell_type": "code",
   "execution_count": 10,
   "metadata": {},
   "outputs": [
    {
     "data": {
      "text/plain": [
       "[ [ 1, 0 ], [ 0, 1 ] ]"
      ]
     },
     "execution_count": 10,
     "metadata": {},
     "output_type": "execute_result"
    }
   ],
   "source": [
    "G.One() ** (-1)"
   ]
  },
  {
   "cell_type": "code",
   "execution_count": 11,
   "metadata": {},
   "outputs": [
    {
     "data": {
      "text/plain": [
       "1"
      ]
     },
     "execution_count": 11,
     "metadata": {},
     "output_type": "execute_result"
    }
   ],
   "source": [
    "list(G.AsList())[0].Order()"
   ]
  },
  {
   "cell_type": "code",
   "execution_count": 12,
   "metadata": {},
   "outputs": [
    {
     "ename": "TypeError",
     "evalue": "Gap produced error output\nError, <gens> and <imgs> must be lists of same length\n\n   executing \\$sage3:=ElementAsWordGeneratorsPointGroup(G, g, F);;",
     "output_type": "error",
     "traceback": [
      "\u001b[1;31m---------------------------------------------------------------------------\u001b[0m",
      "\u001b[1;31mRuntimeError\u001b[0m                              Traceback (most recent call last)",
      "File \u001b[1;32m~/programs/sage-9.7/src/sage/interfaces/gap.py:689\u001b[0m, in \u001b[0;36mGap_generic._eval_line\u001b[1;34m(self, line, allow_use_file, wait_for_prompt, restart_if_needed)\u001b[0m\n\u001b[0;32m    688\u001b[0m     error \u001b[38;5;241m=\u001b[39m error\u001b[38;5;241m.\u001b[39mreplace(\u001b[38;5;124m'\u001b[39m\u001b[38;5;130;01m\\r\u001b[39;00m\u001b[38;5;124m'\u001b[39m,\u001b[38;5;124m'\u001b[39m\u001b[38;5;124m'\u001b[39m)\n\u001b[1;32m--> 689\u001b[0m     \u001b[38;5;28;01mraise\u001b[39;00m \u001b[38;5;167;01mRuntimeError\u001b[39;00m(\u001b[38;5;124m\"\u001b[39m\u001b[38;5;132;01m%s\u001b[39;00m\u001b[38;5;124m produced error output\u001b[39m\u001b[38;5;130;01m\\n\u001b[39;00m\u001b[38;5;132;01m%s\u001b[39;00m\u001b[38;5;130;01m\\n\u001b[39;00m\u001b[38;5;124m   executing \u001b[39m\u001b[38;5;132;01m%s\u001b[39;00m\u001b[38;5;124m\"\u001b[39m\u001b[38;5;241m%\u001b[39m(\u001b[38;5;28mself\u001b[39m, error,line))\n\u001b[0;32m    690\u001b[0m \u001b[38;5;28;01mif\u001b[39;00m \u001b[38;5;129;01mnot\u001b[39;00m normal:\n",
      "\u001b[1;31mRuntimeError\u001b[0m: Gap produced error output\nError, <gens> and <imgs> must be lists of same length\n\n   executing \\$sage3:=ElementAsWordGeneratorsPointGroup(G, g, F);;",
      "\nDuring handling of the above exception, another exception occurred:\n",
      "\u001b[1;31mRuntimeError\u001b[0m                              Traceback (most recent call last)",
      "File \u001b[1;32m~/programs/sage-9.7/src/sage/interfaces/expect.py:1493\u001b[0m, in \u001b[0;36mExpectElement.__init__\u001b[1;34m(self, parent, value, is_name, name)\u001b[0m\n\u001b[0;32m   1492\u001b[0m \u001b[38;5;28;01mtry\u001b[39;00m:\n\u001b[1;32m-> 1493\u001b[0m     \u001b[38;5;28mself\u001b[39m\u001b[38;5;241m.\u001b[39m_name \u001b[38;5;241m=\u001b[39m \u001b[43mparent\u001b[49m\u001b[38;5;241;43m.\u001b[39;49m\u001b[43m_create\u001b[49m\u001b[43m(\u001b[49m\u001b[43mvalue\u001b[49m\u001b[43m,\u001b[49m\u001b[43m \u001b[49m\u001b[43mname\u001b[49m\u001b[38;5;241;43m=\u001b[39;49m\u001b[43mname\u001b[49m\u001b[43m)\u001b[49m\n\u001b[0;32m   1494\u001b[0m \u001b[38;5;66;03m# Convert ValueError and RuntimeError to TypeError for\u001b[39;00m\n\u001b[0;32m   1495\u001b[0m \u001b[38;5;66;03m# coercion to work properly.\u001b[39;00m\n",
      "File \u001b[1;32m~/programs/sage-9.7/src/sage/interfaces/interface.py:514\u001b[0m, in \u001b[0;36mInterface._create\u001b[1;34m(self, value, name)\u001b[0m\n\u001b[0;32m    513\u001b[0m name \u001b[38;5;241m=\u001b[39m \u001b[38;5;28mself\u001b[39m\u001b[38;5;241m.\u001b[39m_next_var_name() \u001b[38;5;28;01mif\u001b[39;00m name \u001b[38;5;129;01mis\u001b[39;00m \u001b[38;5;28;01mNone\u001b[39;00m \u001b[38;5;28;01melse\u001b[39;00m name\n\u001b[1;32m--> 514\u001b[0m \u001b[38;5;28;43mself\u001b[39;49m\u001b[38;5;241;43m.\u001b[39;49m\u001b[43mset\u001b[49m\u001b[43m(\u001b[49m\u001b[43mname\u001b[49m\u001b[43m,\u001b[49m\u001b[43m \u001b[49m\u001b[43mvalue\u001b[49m\u001b[43m)\u001b[49m\n\u001b[0;32m    515\u001b[0m \u001b[38;5;28;01mreturn\u001b[39;00m name\n",
      "File \u001b[1;32m~/programs/sage-9.7/src/sage/interfaces/gap.py:1345\u001b[0m, in \u001b[0;36mGap.set\u001b[1;34m(self, var, value)\u001b[0m\n\u001b[0;32m   1344\u001b[0m cmd \u001b[38;5;241m=\u001b[39m (\u001b[38;5;124m'\u001b[39m\u001b[38;5;132;01m%s\u001b[39;00m\u001b[38;5;124m:=\u001b[39m\u001b[38;5;132;01m%s\u001b[39;00m\u001b[38;5;124m;;\u001b[39m\u001b[38;5;124m'\u001b[39m \u001b[38;5;241m%\u001b[39m (var, value))\u001b[38;5;241m.\u001b[39mreplace(\u001b[38;5;124m'\u001b[39m\u001b[38;5;130;01m\\n\u001b[39;00m\u001b[38;5;124m'\u001b[39m,\u001b[38;5;124m'\u001b[39m\u001b[38;5;124m'\u001b[39m)\n\u001b[1;32m-> 1345\u001b[0m \u001b[38;5;28;43mself\u001b[39;49m\u001b[38;5;241;43m.\u001b[39;49m\u001b[43m_eval_line\u001b[49m\u001b[43m(\u001b[49m\u001b[43mcmd\u001b[49m\u001b[43m,\u001b[49m\u001b[43m \u001b[49m\u001b[43mallow_use_file\u001b[49m\u001b[38;5;241;43m=\u001b[39;49m\u001b[38;5;28;43;01mTrue\u001b[39;49;00m\u001b[43m)\u001b[49m\n",
      "File \u001b[1;32m~/programs/sage-9.7/src/sage/interfaces/gap.py:723\u001b[0m, in \u001b[0;36mGap_generic._eval_line\u001b[1;34m(self, line, allow_use_file, wait_for_prompt, restart_if_needed)\u001b[0m\n\u001b[0;32m    722\u001b[0m     \u001b[38;5;28;01melse\u001b[39;00m:\n\u001b[1;32m--> 723\u001b[0m         \u001b[38;5;28;01mraise\u001b[39;00m \u001b[38;5;167;01mRuntimeError\u001b[39;00m(exc)\n\u001b[0;32m    725\u001b[0m \u001b[38;5;28;01mexcept\u001b[39;00m \u001b[38;5;167;01mKeyboardInterrupt\u001b[39;00m:\n",
      "\u001b[1;31mRuntimeError\u001b[0m: Gap produced error output\nError, <gens> and <imgs> must be lists of same length\n\n   executing \\$sage3:=ElementAsWordGeneratorsPointGroup(G, g, F);;",
      "\nDuring handling of the above exception, another exception occurred:\n",
      "\u001b[1;31mTypeError\u001b[0m                                 Traceback (most recent call last)",
      "Input \u001b[1;32mIn [12]\u001b[0m, in \u001b[0;36m<cell line: 4>\u001b[1;34m()\u001b[0m\n\u001b[0;32m      2\u001b[0m gens \u001b[38;5;241m=\u001b[39m \u001b[38;5;28mlist\u001b[39m(G\u001b[38;5;241m.\u001b[39mGeneratorsOfGroup())\n\u001b[0;32m      3\u001b[0m el \u001b[38;5;241m=\u001b[39m \u001b[38;5;28mlist\u001b[39m(G\u001b[38;5;241m.\u001b[39mAsList())[Integer(\u001b[38;5;241m1\u001b[39m)]\n\u001b[1;32m----> 4\u001b[0m \u001b[43mextend_permutation\u001b[49m\u001b[43m(\u001b[49m\u001b[43mG\u001b[49m\u001b[43m,\u001b[49m\u001b[43m \u001b[49m\u001b[43mel\u001b[49m\u001b[43m,\u001b[49m\u001b[43m \u001b[49m\u001b[43mgens\u001b[49m\u001b[43m,\u001b[49m\u001b[43m \u001b[49m\u001b[43mperm\u001b[49m\u001b[43m)\u001b[49m\n",
      "Input \u001b[1;32mIn [7]\u001b[0m, in \u001b[0;36mextend_permutation\u001b[1;34m(G, el, gens, perm)\u001b[0m\n\u001b[0;32m     28\u001b[0m \u001b[38;5;28;01mdef\u001b[39;00m \u001b[38;5;21mextend_permutation\u001b[39m(G, el, gens, perm):        \n\u001b[0;32m     29\u001b[0m     \u001b[38;5;124;03m\"\"\"Extend given permutation on generators onto the entire group.\"\"\"\u001b[39;00m\n\u001b[1;32m---> 30\u001b[0m     word, trans \u001b[38;5;241m=\u001b[39m \u001b[43mel2word\u001b[49m\u001b[43m(\u001b[49m\u001b[43mG\u001b[49m\u001b[43m,\u001b[49m\u001b[43m \u001b[49m\u001b[43mel\u001b[49m\u001b[43m)\u001b[49m\n\u001b[0;32m     32\u001b[0m     \u001b[38;5;28;01mif\u001b[39;00m el \u001b[38;5;241m==\u001b[39m G\u001b[38;5;241m.\u001b[39mOne(): \n\u001b[0;32m     33\u001b[0m         \u001b[38;5;28;01mreturn\u001b[39;00m el \n",
      "Input \u001b[1;32mIn [7]\u001b[0m, in \u001b[0;36mel2word\u001b[1;34m(G, el, verbose)\u001b[0m\n\u001b[0;32m     20\u001b[0m     \u001b[38;5;28mprint\u001b[39m(\u001b[38;5;124m\"\u001b[39m\u001b[38;5;124mTranslation of generators:\u001b[39m\u001b[38;5;124m\"\u001b[39m, gens_dict)\n\u001b[0;32m     22\u001b[0m gap\u001b[38;5;241m.\u001b[39mset(\u001b[38;5;124m\"\u001b[39m\u001b[38;5;124mF\u001b[39m\u001b[38;5;124m\"\u001b[39m, expression)\n\u001b[1;32m---> 24\u001b[0m res \u001b[38;5;241m=\u001b[39m \u001b[43mgap\u001b[49m\u001b[43m(\u001b[49m\u001b[38;5;124;43m'\u001b[39;49m\u001b[38;5;124;43mElementAsWordGeneratorsPointGroup(G, g, F)\u001b[39;49m\u001b[38;5;124;43m'\u001b[39;49m\u001b[43m)\u001b[49m\n\u001b[0;32m     25\u001b[0m \u001b[38;5;28;01mreturn\u001b[39;00m \u001b[38;5;28mstr\u001b[39m(res)\u001b[38;5;241m.\u001b[39msplit(\u001b[38;5;124m\"\u001b[39m\u001b[38;5;124m*\u001b[39m\u001b[38;5;124m\"\u001b[39m), gens_dict\n",
      "File \u001b[1;32m~/programs/sage-9.7/src/sage/interfaces/interface.py:296\u001b[0m, in \u001b[0;36mInterface.__call__\u001b[1;34m(self, x, name)\u001b[0m\n\u001b[0;32m    293\u001b[0m         \u001b[38;5;28;01mpass\u001b[39;00m\n\u001b[0;32m    295\u001b[0m \u001b[38;5;28;01mif\u001b[39;00m \u001b[38;5;28misinstance\u001b[39m(x, \u001b[38;5;28mstr\u001b[39m):\n\u001b[1;32m--> 296\u001b[0m     \u001b[38;5;28;01mreturn\u001b[39;00m \u001b[38;5;28;43mcls\u001b[39;49m\u001b[43m(\u001b[49m\u001b[38;5;28;43mself\u001b[39;49m\u001b[43m,\u001b[49m\u001b[43m \u001b[49m\u001b[43mx\u001b[49m\u001b[43m,\u001b[49m\u001b[43m \u001b[49m\u001b[43mname\u001b[49m\u001b[38;5;241;43m=\u001b[39;49m\u001b[43mname\u001b[49m\u001b[43m)\u001b[49m\n\u001b[0;32m    297\u001b[0m \u001b[38;5;28;01mtry\u001b[39;00m:\n\u001b[0;32m    298\u001b[0m     \u001b[38;5;66;03m# Special methods do not and should not have an option to\u001b[39;00m\n\u001b[0;32m    299\u001b[0m     \u001b[38;5;66;03m# set the name directly, as the identifier assigned by the\u001b[39;00m\n\u001b[0;32m    300\u001b[0m     \u001b[38;5;66;03m# interface should stay consistent. An identifier with a\u001b[39;00m\n\u001b[0;32m    301\u001b[0m     \u001b[38;5;66;03m# user-assigned name might change its value, so we return a\u001b[39;00m\n\u001b[0;32m    302\u001b[0m     \u001b[38;5;66;03m# new element.\u001b[39;00m\n\u001b[0;32m    303\u001b[0m     result \u001b[38;5;241m=\u001b[39m \u001b[38;5;28mself\u001b[39m\u001b[38;5;241m.\u001b[39m_coerce_from_special_method(x)\n",
      "File \u001b[1;32m~/programs/sage-9.7/src/sage/interfaces/expect.py:1498\u001b[0m, in \u001b[0;36mExpectElement.__init__\u001b[1;34m(self, parent, value, is_name, name)\u001b[0m\n\u001b[0;32m   1496\u001b[0m \u001b[38;5;28;01mexcept\u001b[39;00m (\u001b[38;5;167;01mRuntimeError\u001b[39;00m, \u001b[38;5;167;01mValueError\u001b[39;00m) \u001b[38;5;28;01mas\u001b[39;00m x:\n\u001b[0;32m   1497\u001b[0m     \u001b[38;5;28mself\u001b[39m\u001b[38;5;241m.\u001b[39m_session_number \u001b[38;5;241m=\u001b[39m \u001b[38;5;241m-\u001b[39m\u001b[38;5;241m1\u001b[39m\n\u001b[1;32m-> 1498\u001b[0m     \u001b[38;5;28;01mraise\u001b[39;00m \u001b[38;5;167;01mTypeError\u001b[39;00m(\u001b[38;5;241m*\u001b[39mx\u001b[38;5;241m.\u001b[39margs)\n\u001b[0;32m   1499\u001b[0m \u001b[38;5;28;01mexcept\u001b[39;00m \u001b[38;5;167;01mBaseException\u001b[39;00m:\n\u001b[0;32m   1500\u001b[0m     \u001b[38;5;28mself\u001b[39m\u001b[38;5;241m.\u001b[39m_session_number \u001b[38;5;241m=\u001b[39m \u001b[38;5;241m-\u001b[39m\u001b[38;5;241m1\u001b[39m\n",
      "\u001b[1;31mTypeError\u001b[0m: Gap produced error output\nError, <gens> and <imgs> must be lists of same length\n\n   executing \\$sage3:=ElementAsWordGeneratorsPointGroup(G, g, F);;"
     ]
    }
   ],
   "source": [
    "perm = [1, 0]\n",
    "gens = list(G.GeneratorsOfGroup())\n",
    "el = list(G.AsList())[1]\n",
    "extend_permutation(G, el, gens, perm)"
   ]
  },
  {
   "cell_type": "code",
   "execution_count": 13,
   "metadata": {},
   "outputs": [],
   "source": [
    "a, b, = list(G.GeneratorsOfGroup())"
   ]
  },
  {
   "cell_type": "code",
   "execution_count": 85,
   "metadata": {},
   "outputs": [
    {
     "data": {
      "text/plain": [
       "[ [ -1, 0 ], [ 0, -1 ] ]"
      ]
     },
     "execution_count": 85,
     "metadata": {},
     "output_type": "execute_result"
    }
   ],
   "source": [
    "a "
   ]
  },
  {
   "cell_type": "code",
   "execution_count": 28,
   "metadata": {},
   "outputs": [
    {
     "data": {
      "text/plain": [
       "[ [ 0, 1 ], [ -1, 0 ] ]"
      ]
     },
     "execution_count": 28,
     "metadata": {},
     "output_type": "execute_result"
    }
   ],
   "source": [
    "b"
   ]
  },
  {
   "cell_type": "code",
   "execution_count": 12,
   "metadata": {},
   "outputs": [
    {
     "name": "stdout",
     "output_type": "stream",
     "text": [
      "Free group to be created: FreeGroup(\"g_0\", \"g_1\")\n",
      "Translation of generators: {'g_0': [ [ -1, 0 ], [ 0, -1 ] ], 'g_1': [ [ 0, 1 ], [ -1, 0 ] ]}\n"
     ]
    },
    {
     "data": {
      "text/plain": [
       "['g_0', 'g_1']"
      ]
     },
     "execution_count": 12,
     "metadata": {},
     "output_type": "execute_result"
    }
   ],
   "source": [
    "x, trans = el2word(G, a * b, verbose=True)\n",
    "x"
   ]
  },
  {
   "cell_type": "code",
   "execution_count": 11,
   "metadata": {},
   "outputs": [
    {
     "data": {
      "text/plain": [
       "[ [ 1, 0, 0 ], [ 0, 1, 0 ], [ 1, 0, 1 ] ]"
      ]
     },
     "execution_count": 11,
     "metadata": {},
     "output_type": "execute_result"
    }
   ],
   "source": [
    "c"
   ]
  },
  {
   "cell_type": "code",
   "execution_count": 48,
   "metadata": {},
   "outputs": [
    {
     "data": {
      "text/plain": [
       "Group([ [ [ -1, 0 ], [ 0, -1 ] ], [ [ 0, 1 ], [ -1, 0 ] ] ])"
      ]
     },
     "execution_count": 48,
     "metadata": {},
     "output_type": "execute_result"
    }
   ],
   "source": [
    "G.PointGroup()"
   ]
  },
  {
   "cell_type": "code",
   "execution_count": 14,
   "metadata": {},
   "outputs": [
    {
     "data": {
      "text/plain": [
       "(\n",
       "[a b c d e]                                                                             \n",
       "[f g h i j]                                                                             \n",
       "[k l m n o]                                                                             \n",
       "[p q r s t]                                                                             \n",
       "[u v w x y], [a, b, c, d, e, f, g, h, i, j, k, l, m, n, o, p, q, r, s, t, u, v, w, x, y]\n",
       ")"
      ]
     },
     "execution_count": 14,
     "metadata": {},
     "output_type": "execute_result"
    }
   ],
   "source": [
    "alphabet = 'abcdefghijklmnopqrstuvwxyz'\n",
    "\n",
    "\n",
    "def create_symbolic_matrix(dim, use_alphabet=False):\n",
    "    if use_alphabet and dim * dim > len(alphabet): \n",
    "        raise ValueError(f\"Can't use alphabet for matrix {dim}x{dim} due to lack of letters.\")\n",
    "    A = []\n",
    "    args = []\n",
    "    for i in range(dim):\n",
    "        row = []\n",
    "        for j in range(dim):\n",
    "            if use_alphabet: \n",
    "                row.append(var(alphabet[i * dim + j]))\n",
    "            else:\n",
    "                row.append(var(f'a_{i}{j}'))\n",
    "            args.append(row[-1])\n",
    "        A.append(row)\n",
    "    A = matrix(A)\n",
    "    return A, args\n",
    "\n",
    "\n",
    "create_symbolic_matrix(5, use_alphabet=True)"
   ]
  },
  {
   "cell_type": "code",
   "execution_count": 15,
   "metadata": {},
   "outputs": [],
   "source": [
    "def sol2matrix(solution, dim=2, use_alphabet=False):\n",
    "    if use_alphabet and dim * dim > len(alphabet): \n",
    "        raise ValueError(f\"Can't use alphabet for matrix {dim}x{dim} due to lack of letters.\")\n",
    "    A = []\n",
    "    sol_dict = {sol.left(): sol.right() for sol in solution}\n",
    "    \n",
    "    for i in range(dim):\n",
    "        row = []\n",
    "        for j in range(dim):\n",
    "            if use_alphabet: \n",
    "                row.append(sol_dict[var(alphabet[i * dim + j])])\n",
    "            else:\n",
    "                row.append(sol_dict[var(f'a_{i}{j}')])\n",
    "\n",
    "        A.append(row)\n",
    "    A = matrix(A)\n",
    "    return A\n",
    "\n",
    "\n",
    "def normalizers_v2(n, dim=2, verbose=False, use_alphabet=False, normalize_exp=True, to_matrix=True): \n",
    "    G = gap(f'SpaceGroupIT({dim}, {n})')\n",
    "    S = G.PointGroup() \n",
    "    s_elements = S.AsList()\n",
    "    gens = list(S.GeneratorsOfGroup())\n",
    "    \n",
    "    if verbose: \n",
    "        print('\\n====================================================')\n",
    "        print(n, 'point group:', S)\n",
    "\n",
    "        print('group elements:')\n",
    "        print(*s_elements, sep='\\n')\n",
    "        print('\\n----------------normalizers-------------------------')\n",
    "    \n",
    "    A, args = create_symbolic_matrix(dim, use_alphabet=use_alphabet)\n",
    "    \n",
    "    conditions = [] \n",
    "    found_solutions = set() \n",
    "#     for perm in permutations(range(len(gens))):\n",
    "    for perm in permutations(s_elements, len(gens)):\n",
    "        # validate permutation\n",
    "        succ = True\n",
    "        for gen, s_to in zip(gens, perm): \n",
    "            if gen.Order() != s_to.Order(): \n",
    "                succ = False \n",
    "                break\n",
    "        if not succ: \n",
    "            continue\n",
    "            \n",
    "        # build conditions AX = YA for every X -> Y due to chosen permutation \n",
    "        cond_perm = set()\n",
    "        for X in s_elements:\n",
    "            Y = extend_permutation(S, X, gens, perm)\n",
    "            \n",
    "            X, Y = matrix(QQ, X), matrix(QQ, Y)\n",
    "            cond_i = A * X - Y * A\n",
    "            for el in cond_i: \n",
    "                cond_perm = cond_perm.union(set(el))\n",
    "        \n",
    "        eq = [cond == 0 for cond in cond_perm]\n",
    "        for res in solve(eq, *args):\n",
    "            if not res: \n",
    "                if verbose: print(res) \n",
    "                continue\n",
    "                \n",
    "            res = tuple(res) \n",
    "            if normalize_exp: \n",
    "                res = normalize_expressions(res, allowed=args)\n",
    "                \n",
    "            if res not in found_solutions and verbose: \n",
    "                if to_matrix:\n",
    "                    print(sol2matrix(res, dim=dim, use_alphabet=use_alphabet), end='\\n\\n')\n",
    "                else: \n",
    "                    print(res)\n",
    "                \n",
    "            found_solutions.add(res)\n",
    "            \n",
    "    if to_matrix:\n",
    "        return [sol2matrix(solution, dim=dim, use_alphabet=use_alphabet) for solution in found_solutions]\n",
    "    else: \n",
    "        return found_solutions"
   ]
  },
  {
   "cell_type": "code",
   "execution_count": 16,
   "metadata": {},
   "outputs": [
    {
     "name": "stdout",
     "output_type": "stream",
     "text": [
      "\n",
      "====================================================\n",
      "4 point group: Group([ [ [ -1, 0 ], [ 0, 1 ] ] ])\n",
      "group elements:\n",
      "[ [ 1, 0 ], [ 0, 1 ] ]\n",
      "[ [ -1, 0 ], [ 0, 1 ] ]\n",
      "\n",
      "----------------normalizers-------------------------\n",
      "[x0  0]\n",
      "[ 0 x1]\n",
      "\n"
     ]
    },
    {
     "data": {
      "text/plain": [
       "[\n",
       "[x0  0]\n",
       "[ 0 x1]\n",
       "]"
      ]
     },
     "execution_count": 16,
     "metadata": {},
     "output_type": "execute_result"
    }
   ],
   "source": [
    "normalizers_v2(4, dim=2, verbose=True, use_alphabet=True)"
   ]
  },
  {
   "cell_type": "code",
   "execution_count": 168,
   "metadata": {},
   "outputs": [
    {
     "name": "stdout",
     "output_type": "stream",
     "text": [
      "\n",
      "====================================================\n",
      "112 point group: Group([ [ [ -1, 0, 0 ], [ 0, -1, 0 ], [ 0, 0, 1 ] ], \n",
      "  [ [ 0, -1, 0 ], [ 1, 0, 0 ], [ 0, 0, -1 ] ], \n",
      "  [ [ -1, 0, 0 ], [ 0, 1, 0 ], [ 0, 0, -1 ] ] ])\n",
      "group elements:\n",
      "[ [ 1, 0, 0 ], [ 0, 1, 0 ], [ 0, 0, 1 ] ]\n",
      "[ [ -1, 0, 0 ], [ 0, -1, 0 ], [ 0, 0, 1 ] ]\n",
      "[ [ 0, 1, 0 ], [ -1, 0, 0 ], [ 0, 0, -1 ] ]\n",
      "[ [ 0, -1, 0 ], [ 1, 0, 0 ], [ 0, 0, -1 ] ]\n",
      "[ [ 1, 0, 0 ], [ 0, -1, 0 ], [ 0, 0, -1 ] ]\n",
      "[ [ -1, 0, 0 ], [ 0, 1, 0 ], [ 0, 0, -1 ] ]\n",
      "[ [ 0, 1, 0 ], [ 1, 0, 0 ], [ 0, 0, 1 ] ]\n",
      "[ [ 0, -1, 0 ], [ -1, 0, 0 ], [ 0, 0, 1 ] ]\n",
      "\n",
      "----------------normalizers-------------------------\n",
      "[ 0 x1  0]\n",
      "[x1  0  0]\n",
      "[ 0  0 x0]\n",
      "\n",
      "[-x0   0   0]\n",
      "[  0  x0   0]\n",
      "[  0   0  x1]\n",
      "\n",
      "[-x0  x0   0]\n",
      "[ x0  x0   0]\n",
      "[  0   0   0]\n",
      "\n",
      "[ x0  x0   0]\n",
      "[ x0 -x0   0]\n",
      "[  0   0   0]\n",
      "\n",
      "[  0 -x0   0]\n",
      "[ x0   0   0]\n",
      "[  0   0  x1]\n",
      "\n",
      "[x0  0  0]\n",
      "[ 0 x0  0]\n",
      "[ 0  0 x1]\n",
      "\n",
      "[ x0  x0   0]\n",
      "[-x0  x0   0]\n",
      "[  0   0   0]\n",
      "\n",
      "[ x0 -x0   0]\n",
      "[ x0  x0   0]\n",
      "[  0   0   0]\n",
      "\n",
      "[0 0 0]\n",
      "[0 0 0]\n",
      "[0 0 0]\n",
      "\n",
      "[ 0  0  0]\n",
      "[ 0  0  0]\n",
      "[ 0  0 x0]\n",
      "\n"
     ]
    }
   ],
   "source": [
    "res = normalizers_v2(112, dim=3, verbose=True, use_alphabet=True, to_matrix=True)"
   ]
  },
  {
   "cell_type": "code",
   "execution_count": 152,
   "metadata": {},
   "outputs": [
    {
     "name": "stdout",
     "output_type": "stream",
     "text": [
      "(a == x1, b == -x0, c == x0, d == x1)\n"
     ]
    }
   ],
   "source": [
    "i = 10\n",
    "solutions_v2 = normalizers_v2(i, dim=2, verbose=False, use_alphabet=True, to_matrix=False)\n",
    "solutions_v1 = normalizers(i, dim=2, verbose=False, use_alphabet=True, to_matrix=False)\n",
    "\n",
    "for el in solutions_v1: \n",
    "    if el not in solutions_v2: \n",
    "        print(el)"
   ]
  },
  {
   "cell_type": "code",
   "execution_count": 113,
   "metadata": {},
   "outputs": [],
   "source": [
    "def normalizers(n, dim=2, use_alphabet=False, verbose=False, normalize_exp=True, to_matrix=True):\n",
    "    G = gap(f'SpaceGroupIT({dim}, {n})')\n",
    "    S = G.PointGroup()\n",
    "    s_elements = [matrix(QQ, el) for el in S.AsList()]\n",
    "    \n",
    "    if verbose: \n",
    "        print('\\n====================================================')\n",
    "        print(n, 'point group:', S)\n",
    "\n",
    "        print('group elements:')\n",
    "        print(*s_elements, sep='\\n')\n",
    "        print('\\n----------------normalizers-------------------------')\n",
    "    \n",
    "    A, args = create_symbolic_matrix(dim=dim, use_alphabet=use_alphabet)\n",
    "    \n",
    "    conditions = []\n",
    "    found_solutions = set()    \n",
    "    for perm in permutations(range(len(s_elements))):\n",
    "        \n",
    "        # check whether permutation maps elements with same order\n",
    "        check = True\n",
    "        for i in range(len(s_elements)):\n",
    "            if S.AsList()[i + 1].Order() != S.AsList()[perm[i] + 1].Order():\n",
    "                check = False \n",
    "                break \n",
    "        if not check: \n",
    "            continue\n",
    "        \n",
    "        # build conditions AX = YA for every X -> Y due to chosen permutation \n",
    "        cond_perm = set()\n",
    "        for i in range(len(s_elements)):\n",
    "            cond_i = A * s_elements[i] - s_elements[perm[i]] * A\n",
    "            for el in cond_i: \n",
    "                cond_perm = cond_perm.union(set(el))\n",
    "    \n",
    "        eq = [cond == 0 for cond in cond_perm]\n",
    "        for res in solve(eq, *args):\n",
    "            if not res: \n",
    "                if verbose: print(res) \n",
    "                continue\n",
    "            res = tuple(res) \n",
    "            if normalize_exp:\n",
    "                res = normalize_expressions(res, allowed=args)\n",
    "            if res not in found_solutions and verbose: \n",
    "                if to_matrix:\n",
    "                    print(sol2matrix(res, dim=dim, use_alphabet=use_alphabet), end='\\n\\n')\n",
    "                else:\n",
    "                    print(res)\n",
    "    \n",
    "            found_solutions.add(res)\n",
    "        \n",
    "    if to_matrix:\n",
    "        return [sol2matrix(solution, dim=dim, use_alphabet=use_alphabet) for solution in found_solutions]\n",
    "    else: \n",
    "        return found_solutions\n"
   ]
  },
  {
   "cell_type": "code",
   "execution_count": 40,
   "metadata": {},
   "outputs": [
    {
     "name": "stdout",
     "output_type": "stream",
     "text": [
      "\n",
      "====================================================\n",
      "14 point group: Group([ [ [ 0, 1 ], [ -1, -1 ] ], [ [ 0, -1 ], [ -1, 0 ] ] ])\n",
      "group elements:\n",
      "[ [ 1, 0 ], [ 0, 1 ] ]\n",
      "[ [ -1, -1 ], [ 1, 0 ] ]\n",
      "[ [ 0, 1 ], [ -1, -1 ] ]\n",
      "[ [ 0, -1 ], [ -1, 0 ] ]\n",
      "[ [ -1, 0 ], [ 1, 1 ] ]\n",
      "[ [ 1, 1 ], [ 0, -1 ] ]\n",
      "\n",
      "----------------normalizers-------------------------\n",
      "(a_00 == 0, a_01 == x0, a_10 == x0, a_11 == 0)\n",
      "(a_00 == x0, a_01 == x0, a_10 == 0, a_11 == -x0)\n",
      "(a_00 == -x0, a_01 == 0, a_10 == x0, a_11 == x0)\n",
      "(a_00 == x0, a_01 == 0, a_10 == 0, a_11 == x0)\n",
      "(a_00 == x0, a_01 == x0, a_10 == -x0, a_11 == 0)\n",
      "(a_00 == 0, a_01 == -x0, a_10 == x0, a_11 == x0)\n"
     ]
    }
   ],
   "source": [
    "res = normalizers_v2(14, verbose=True)"
   ]
  },
  {
   "cell_type": "code",
   "execution_count": 42,
   "metadata": {},
   "outputs": [],
   "source": [
    "el = res.pop()"
   ]
  },
  {
   "cell_type": "code",
   "execution_count": null,
   "metadata": {},
   "outputs": [],
   "source": []
  },
  {
   "cell_type": "code",
   "execution_count": 34,
   "metadata": {
    "scrolled": true
   },
   "outputs": [
    {
     "name": "stdout",
     "output_type": "stream",
     "text": [
      "\n",
      "====================================================\n",
      "14 point group: Group([ [ [ 0, 1 ], [ -1, -1 ] ], [ [ 0, -1 ], [ -1, 0 ] ] ])\n",
      "group elements:\n",
      "[1 0]\n",
      "[0 1]\n",
      "[-1 -1]\n",
      "[ 1  0]\n",
      "[ 0  1]\n",
      "[-1 -1]\n",
      "[ 0 -1]\n",
      "[-1  0]\n",
      "[-1  0]\n",
      "[ 1  1]\n",
      "[ 1  1]\n",
      "[ 0 -1]\n",
      "\n",
      "----------------normalizers-------------------------\n",
      "(x0 == x4, x3 == 0, x2 == 0, x1 == x4)\n",
      "(x3 == 0, x2 == 0, x1 == 0, x0 == 0)\n",
      "(x0 == x4, x3 == x4, x2 == -x4, x1 == 0)\n",
      "(x1 == 0, x4 == -x2, x3 == x2, x0 == x2)\n",
      "(x0 == 0, x3 == x4, x2 == x4, x1 == 0)\n",
      "(x0 == x1, x4 == x1, x3 == 0, x2 == -x1)\n",
      "(x0 == -x1, x4 == 0, x3 == x1, x2 == x1)\n"
     ]
    }
   ],
   "source": [
    "_ = normalizers(14, verbose=True)"
   ]
  },
  {
   "cell_type": "code",
   "execution_count": 165,
   "metadata": {
    "scrolled": true
   },
   "outputs": [
    {
     "name": "stdout",
     "output_type": "stream",
     "text": [
      "\n",
      "====================================================\n",
      "1 point group: Group([],[ [ 1, 0 ], [ 0, 1 ] ])\n",
      "group elements:\n",
      "[1 0]\n",
      "[0 1]\n",
      "\n",
      "----------------normalizers-------------------------\n",
      "False\n",
      "\n",
      "====================================================\n",
      "2 point group: Group([ [ [ -1, 0 ], [ 0, -1 ] ] ])\n",
      "group elements:\n",
      "[1 0]\n",
      "[0 1]\n",
      "[-1  0]\n",
      "[ 0 -1]\n",
      "\n",
      "----------------normalizers-------------------------\n",
      "False\n",
      "\n",
      "====================================================\n",
      "3 point group: Group([ [ [ -1, 0 ], [ 0, 1 ] ] ])\n",
      "group elements:\n",
      "[1 0]\n",
      "[0 1]\n",
      "[-1  0]\n",
      "[ 0  1]\n",
      "\n",
      "----------------normalizers-------------------------\n",
      "(a == x1, b == 0, c == 0, d == x0)\n",
      "\n",
      "====================================================\n",
      "4 point group: Group([ [ [ -1, 0 ], [ 0, 1 ] ] ])\n",
      "group elements:\n",
      "[1 0]\n",
      "[0 1]\n",
      "[-1  0]\n",
      "[ 0  1]\n",
      "\n",
      "----------------normalizers-------------------------\n",
      "(a == x1, b == 0, c == 0, d == x0)\n",
      "\n",
      "====================================================\n",
      "5 point group: Group([ [ [ -1, 0 ], [ 0, 1 ] ] ])\n",
      "group elements:\n",
      "[1 0]\n",
      "[0 1]\n",
      "[-1  0]\n",
      "[ 0  1]\n",
      "\n",
      "----------------normalizers-------------------------\n",
      "(a == x1, b == 0, c == 0, d == x0)\n",
      "\n",
      "====================================================\n",
      "6 point group: Group([ [ [ -1, 0 ], [ 0, -1 ] ], [ [ -1, 0 ], [ 0, 1 ] ] ])\n",
      "group elements:\n",
      "[1 0]\n",
      "[0 1]\n",
      "[-1  0]\n",
      "[ 0 -1]\n",
      "[-1  0]\n",
      "[ 0  1]\n",
      "[ 1  0]\n",
      "[ 0 -1]\n",
      "\n",
      "----------------normalizers-------------------------\n",
      "(a == x0, b == 0, c == 0, d == x1)\n",
      "(a == 0, b == x0, c == x1, d == 0)\n",
      "(a == x0, b == 0, c == 0, d == 0)\n",
      "(a == 0, b == x0, c == 0, d == 0)\n",
      "(a == 0, b == 0, c == x0, d == 0)\n",
      "(a == 0, b == 0, c == 0, d == x0)\n",
      "\n",
      "====================================================\n",
      "7 point group: Group([ [ [ -1, 0 ], [ 0, -1 ] ], [ [ -1, 0 ], [ 0, 1 ] ] ])\n",
      "group elements:\n",
      "[1 0]\n",
      "[0 1]\n",
      "[-1  0]\n",
      "[ 0 -1]\n",
      "[-1  0]\n",
      "[ 0  1]\n",
      "[ 1  0]\n",
      "[ 0 -1]\n",
      "\n",
      "----------------normalizers-------------------------\n",
      "(a == x0, b == 0, c == 0, d == x1)\n",
      "(a == 0, b == x0, c == x1, d == 0)\n",
      "(a == x0, b == 0, c == 0, d == 0)\n",
      "(a == 0, b == x0, c == 0, d == 0)\n",
      "(a == 0, b == 0, c == x0, d == 0)\n",
      "(a == 0, b == 0, c == 0, d == x0)\n",
      "\n",
      "====================================================\n",
      "8 point group: Group([ [ [ -1, 0 ], [ 0, -1 ] ], [ [ -1, 0 ], [ 0, 1 ] ] ])\n",
      "group elements:\n",
      "[1 0]\n",
      "[0 1]\n",
      "[-1  0]\n",
      "[ 0 -1]\n",
      "[-1  0]\n",
      "[ 0  1]\n",
      "[ 1  0]\n",
      "[ 0 -1]\n",
      "\n",
      "----------------normalizers-------------------------\n",
      "(a == x0, b == 0, c == 0, d == x1)\n",
      "(a == 0, b == x0, c == x1, d == 0)\n",
      "(a == x0, b == 0, c == 0, d == 0)\n",
      "(a == 0, b == x0, c == 0, d == 0)\n",
      "(a == 0, b == 0, c == x0, d == 0)\n",
      "(a == 0, b == 0, c == 0, d == x0)\n",
      "\n",
      "====================================================\n",
      "9 point group: Group([ [ [ -1, 0 ], [ 0, -1 ] ], [ [ -1, 0 ], [ 0, 1 ] ] ])\n",
      "group elements:\n",
      "[1 0]\n",
      "[0 1]\n",
      "[-1  0]\n",
      "[ 0 -1]\n",
      "[-1  0]\n",
      "[ 0  1]\n",
      "[ 1  0]\n",
      "[ 0 -1]\n",
      "\n",
      "----------------normalizers-------------------------\n",
      "(a == x0, b == 0, c == 0, d == x1)\n",
      "(a == 0, b == x0, c == x1, d == 0)\n",
      "(a == x0, b == 0, c == 0, d == 0)\n",
      "(a == 0, b == x0, c == 0, d == 0)\n",
      "(a == 0, b == 0, c == x0, d == 0)\n",
      "(a == 0, b == 0, c == 0, d == x0)\n",
      "\n",
      "====================================================\n",
      "10 point group: Group([ [ [ -1, 0 ], [ 0, -1 ] ], [ [ 0, 1 ], [ -1, 0 ] ] ])\n",
      "group elements:\n",
      "[1 0]\n",
      "[0 1]\n",
      "[-1  0]\n",
      "[ 0 -1]\n",
      "[ 0 -1]\n",
      "[ 1  0]\n",
      "[ 0  1]\n",
      "[-1  0]\n",
      "\n",
      "----------------normalizers-------------------------\n",
      "(a == x0, b == -x1, c == x1, d == x0)\n",
      "(a == -x0, b == x1, c == x1, d == x0)\n",
      "\n",
      "====================================================\n",
      "11 point group: Group([ [ [ -1, 0 ], [ 0, -1 ] ], [ [ 0, 1 ], [ -1, 0 ] ], \n",
      "  [ [ -1, 0 ], [ 0, 1 ] ] ])\n",
      "group elements:\n",
      "[1 0]\n",
      "[0 1]\n",
      "[-1  0]\n",
      "[ 0 -1]\n",
      "[ 0 -1]\n",
      "[ 1  0]\n",
      "[ 0  1]\n",
      "[-1  0]\n",
      "[ 1  0]\n",
      "[ 0 -1]\n",
      "[-1  0]\n",
      "[ 0  1]\n",
      "[ 0 -1]\n",
      "[-1  0]\n",
      "[0 1]\n",
      "[1 0]\n",
      "\n",
      "----------------normalizers-------------------------\n",
      "(a == x0, b == 0, c == 0, d == x0)\n",
      "(a == 0, b == 0, c == 0, d == 0)\n",
      "(a == 0, b == x0, c == -x0, d == 0)\n",
      "(a == x0, b == x0, c == -x0, d == x0)\n",
      "(a == x0, b == -x0, c == x0, d == x0)\n",
      "(a == -x0, b == 0, c == 0, d == x0)\n",
      "(a == 0, b == x0, c == x0, d == 0)\n",
      "(a == -x0, b == x0, c == x0, d == x0)\n",
      "(a == -x0, b == -x0, c == -x0, d == x0)\n",
      "\n",
      "====================================================\n",
      "12 point group: Group([ [ [ -1, 0 ], [ 0, -1 ] ], [ [ 0, 1 ], [ -1, 0 ] ], \n",
      "  [ [ -1, 0 ], [ 0, 1 ] ] ])\n",
      "group elements:\n",
      "[1 0]\n",
      "[0 1]\n",
      "[-1  0]\n",
      "[ 0 -1]\n",
      "[ 0 -1]\n",
      "[ 1  0]\n",
      "[ 0  1]\n",
      "[-1  0]\n",
      "[ 1  0]\n",
      "[ 0 -1]\n",
      "[-1  0]\n",
      "[ 0  1]\n",
      "[ 0 -1]\n",
      "[-1  0]\n",
      "[0 1]\n",
      "[1 0]\n",
      "\n",
      "----------------normalizers-------------------------\n",
      "(a == x0, b == 0, c == 0, d == x0)\n",
      "(a == 0, b == 0, c == 0, d == 0)\n",
      "(a == 0, b == x0, c == -x0, d == 0)\n",
      "(a == x0, b == x0, c == -x0, d == x0)\n",
      "(a == x0, b == -x0, c == x0, d == x0)\n",
      "(a == -x0, b == 0, c == 0, d == x0)\n",
      "(a == 0, b == x0, c == x0, d == 0)\n",
      "(a == -x0, b == x0, c == x0, d == x0)\n",
      "(a == -x0, b == -x0, c == -x0, d == x0)\n",
      "\n",
      "====================================================\n",
      "13 point group: Group([ [ [ 0, 1 ], [ -1, -1 ] ] ])\n",
      "group elements:\n",
      "[1 0]\n",
      "[0 1]\n",
      "[-1 -1]\n",
      "[ 1  0]\n",
      "[ 0  1]\n",
      "[-1 -1]\n",
      "\n",
      "----------------normalizers-------------------------\n",
      "(a == -x0 + x1, b == -x0, c == x0, d == x1)\n",
      "(a == -x0, b == -x0 + x1, c == x1, d == x0)\n",
      "\n",
      "====================================================\n",
      "14 point group: Group([ [ [ 0, 1 ], [ -1, -1 ] ], [ [ 0, -1 ], [ -1, 0 ] ] ])\n",
      "group elements:\n",
      "[1 0]\n",
      "[0 1]\n",
      "[-1 -1]\n",
      "[ 1  0]\n",
      "[ 0  1]\n",
      "[-1 -1]\n",
      "[ 0 -1]\n",
      "[-1  0]\n",
      "[-1  0]\n",
      "[ 1  1]\n",
      "[ 1  1]\n",
      "[ 0 -1]\n",
      "\n",
      "----------------normalizers-------------------------\n",
      "(a == x0, b == 0, c == 0, d == x0)\n",
      "(a == 0, b == 0, c == 0, d == 0)\n",
      "(a == x0, b == x0, c == -x0, d == 0)\n",
      "(a == 0, b == -x0, c == x0, d == x0)\n",
      "(a == 0, b == x0, c == x0, d == 0)\n",
      "(a == -x0, b == -x0, c == 0, d == x0)\n",
      "(a == -x0, b == 0, c == x0, d == x0)\n",
      "\n",
      "====================================================\n",
      "15 point group: Group([ [ [ 0, 1 ], [ -1, -1 ] ], [ [ 0, 1 ], [ 1, 0 ] ] ])\n",
      "group elements:\n",
      "[1 0]\n",
      "[0 1]\n",
      "[-1 -1]\n",
      "[ 1  0]\n",
      "[ 0  1]\n",
      "[-1 -1]\n",
      "[0 1]\n",
      "[1 0]\n",
      "[ 1  0]\n",
      "[-1 -1]\n",
      "[-1 -1]\n",
      "[ 0  1]\n",
      "\n",
      "----------------normalizers-------------------------\n",
      "(a == x0, b == 0, c == 0, d == x0)\n",
      "(a == 0, b == 0, c == 0, d == 0)\n",
      "(a == x0, b == x0, c == -x0, d == 0)\n",
      "(a == 0, b == -x0, c == x0, d == x0)\n",
      "(a == 0, b == x0, c == x0, d == 0)\n",
      "(a == -x0, b == -x0, c == 0, d == x0)\n",
      "(a == -x0, b == 0, c == x0, d == x0)\n",
      "\n",
      "====================================================\n",
      "16 point group: Group([ [ [ 0, 1 ], [ -1, -1 ] ], [ [ -1, 0 ], [ 0, -1 ] ] ])\n",
      "group elements:\n",
      "[1 0]\n",
      "[0 1]\n",
      "[-1 -1]\n",
      "[ 1  0]\n",
      "[ 0  1]\n",
      "[-1 -1]\n",
      "[-1  0]\n",
      "[ 0 -1]\n",
      "[ 1  1]\n",
      "[-1  0]\n",
      "[ 0 -1]\n",
      "[ 1  1]\n",
      "\n",
      "----------------normalizers-------------------------\n",
      "(a == -x0 + x1, b == -x0, c == x0, d == x1)\n",
      "(a == 0, b == 0, c == 0, d == 0)\n",
      "(a == -x0, b == -x0 + x1, c == x1, d == x0)\n"
     ]
    }
   ],
   "source": [
    "for i in range(1, 17):\n",
    "    _ = normalizers(i, verbose=True)"
   ]
  },
  {
   "cell_type": "code",
   "execution_count": 162,
   "metadata": {
    "scrolled": true
   },
   "outputs": [
    {
     "name": "stdout",
     "output_type": "stream",
     "text": [
      "\n",
      "====================================================\n",
      "17 point group: Group([ [ [ 0, 1 ], [ -1, -1 ] ], [ [ -1, 0 ], [ 0, -1 ] ], \n",
      "  [ [ 0, -1 ], [ -1, 0 ] ] ])\n",
      "group elements:\n",
      "[1 0]\n",
      "[0 1]\n",
      "[-1 -1]\n",
      "[ 1  0]\n",
      "[ 0  1]\n",
      "[-1 -1]\n",
      "[-1  0]\n",
      "[ 0 -1]\n",
      "[ 1  1]\n",
      "[-1  0]\n",
      "[ 0 -1]\n",
      "[ 1  1]\n",
      "[ 1  0]\n",
      "[-1 -1]\n",
      "[-1 -1]\n",
      "[ 0  1]\n",
      "[0 1]\n",
      "[1 0]\n",
      "[-1  0]\n",
      "[ 1  1]\n",
      "[ 1  1]\n",
      "[ 0 -1]\n",
      "[ 0 -1]\n",
      "[-1  0]\n",
      "\n",
      "----------------normalizers-------------------------\n",
      "(a == x0, b == 0, c == 0, d == x0)\n",
      "(a == 0, b == 0, c == 0, d == 0)\n",
      "(a == x0, b == x0, c == -x0, d == 0)\n",
      "(a == 0, b == -x0, c == x0, d == x0)\n",
      "(a == 1/2*x0, b == x0, c == -x0, d == -1/2*x0)\n",
      "(a == 1/2*x0, b == -1/2*x0, c == 1/2*x0, d == x0)\n",
      "(a == 2*x0, b == x0, c == -x0, d == x0)\n"
     ]
    },
    {
     "ename": "KeyboardInterrupt",
     "evalue": "Ctrl-c pressed while running Gap",
     "output_type": "error",
     "traceback": [
      "\u001b[0;31m---------------------------------------------------------------------------\u001b[0m",
      "\u001b[0;31mKeyboardInterrupt\u001b[0m                         Traceback (most recent call last)",
      "\u001b[0;32m/usr/lib/python3/dist-packages/sage/interfaces/gap.py\u001b[0m in \u001b[0;36m_eval_line\u001b[0;34m(self, line, allow_use_file, wait_for_prompt, restart_if_needed)\u001b[0m\n\u001b[1;32m    753\u001b[0m \u001b[0;34m\u001b[0m\u001b[0m\n\u001b[0;32m--> 754\u001b[0;31m             (normal, error) = self._execute_line(line, wait_for_prompt=wait_for_prompt,\n\u001b[0m\u001b[1;32m    755\u001b[0m                                                  expect_eof=expect_eof)\n",
      "\u001b[0;32m/usr/lib/python3/dist-packages/sage/interfaces/gap.py\u001b[0m in \u001b[0;36m_execute_line\u001b[0;34m(self, line, wait_for_prompt, expect_eof)\u001b[0m\n\u001b[1;32m    616\u001b[0m             \u001b[0;32mwhile\u001b[0m \u001b[0;32mTrue\u001b[0m\u001b[0;34m:\u001b[0m\u001b[0;34m\u001b[0m\u001b[0;34m\u001b[0m\u001b[0m\n\u001b[0;32m--> 617\u001b[0;31m                 \u001b[0mx\u001b[0m \u001b[0;34m=\u001b[0m \u001b[0mE\u001b[0m\u001b[0;34m.\u001b[0m\u001b[0mexpect_list\u001b[0m\u001b[0;34m(\u001b[0m\u001b[0mself\u001b[0m\u001b[0;34m.\u001b[0m\u001b[0m_compiled_full_pattern\u001b[0m\u001b[0;34m)\u001b[0m\u001b[0;34m\u001b[0m\u001b[0;34m\u001b[0m\u001b[0m\n\u001b[0m\u001b[1;32m    618\u001b[0m                 \u001b[0mcurrent_outputs\u001b[0m\u001b[0;34m.\u001b[0m\u001b[0mappend\u001b[0m\u001b[0;34m(\u001b[0m\u001b[0mE\u001b[0m\u001b[0;34m.\u001b[0m\u001b[0mbefore\u001b[0m\u001b[0;34m)\u001b[0m\u001b[0;34m\u001b[0m\u001b[0;34m\u001b[0m\u001b[0m\n",
      "\u001b[0;32m/usr/lib/python3/dist-packages/pexpect/spawnbase.py\u001b[0m in \u001b[0;36mexpect_list\u001b[0;34m(self, pattern_list, timeout, searchwindowsize, async_, **kw)\u001b[0m\n\u001b[1;32m    368\u001b[0m         \u001b[0;32melse\u001b[0m\u001b[0;34m:\u001b[0m\u001b[0;34m\u001b[0m\u001b[0;34m\u001b[0m\u001b[0m\n\u001b[0;32m--> 369\u001b[0;31m             \u001b[0;32mreturn\u001b[0m \u001b[0mexp\u001b[0m\u001b[0;34m.\u001b[0m\u001b[0mexpect_loop\u001b[0m\u001b[0;34m(\u001b[0m\u001b[0mtimeout\u001b[0m\u001b[0;34m)\u001b[0m\u001b[0;34m\u001b[0m\u001b[0;34m\u001b[0m\u001b[0m\n\u001b[0m\u001b[1;32m    370\u001b[0m \u001b[0;34m\u001b[0m\u001b[0m\n",
      "\u001b[0;32m/usr/lib/python3/dist-packages/pexpect/expect.py\u001b[0m in \u001b[0;36mexpect_loop\u001b[0;34m(self, timeout)\u001b[0m\n\u001b[1;32m    110\u001b[0m                 \u001b[0;31m# Still have time left, so read more data\u001b[0m\u001b[0;34m\u001b[0m\u001b[0;34m\u001b[0m\u001b[0;34m\u001b[0m\u001b[0m\n\u001b[0;32m--> 111\u001b[0;31m                 \u001b[0mincoming\u001b[0m \u001b[0;34m=\u001b[0m \u001b[0mspawn\u001b[0m\u001b[0;34m.\u001b[0m\u001b[0mread_nonblocking\u001b[0m\u001b[0;34m(\u001b[0m\u001b[0mspawn\u001b[0m\u001b[0;34m.\u001b[0m\u001b[0mmaxread\u001b[0m\u001b[0;34m,\u001b[0m \u001b[0mtimeout\u001b[0m\u001b[0;34m)\u001b[0m\u001b[0;34m\u001b[0m\u001b[0;34m\u001b[0m\u001b[0m\n\u001b[0m\u001b[1;32m    112\u001b[0m                 \u001b[0;32mif\u001b[0m \u001b[0mself\u001b[0m\u001b[0;34m.\u001b[0m\u001b[0mspawn\u001b[0m\u001b[0;34m.\u001b[0m\u001b[0mdelayafterread\u001b[0m \u001b[0;32mis\u001b[0m \u001b[0;32mnot\u001b[0m \u001b[0;32mNone\u001b[0m\u001b[0;34m:\u001b[0m\u001b[0;34m\u001b[0m\u001b[0;34m\u001b[0m\u001b[0m\n",
      "\u001b[0;32m/usr/lib/python3/dist-packages/pexpect/pty_spawn.py\u001b[0m in \u001b[0;36mread_nonblocking\u001b[0;34m(self, size, timeout)\u001b[0m\n\u001b[1;32m    469\u001b[0m         \u001b[0;32melse\u001b[0m\u001b[0;34m:\u001b[0m\u001b[0;34m\u001b[0m\u001b[0;34m\u001b[0m\u001b[0m\n\u001b[0;32m--> 470\u001b[0;31m             r, w, e = select_ignore_interrupts(\n\u001b[0m\u001b[1;32m    471\u001b[0m                 \u001b[0;34m[\u001b[0m\u001b[0mself\u001b[0m\u001b[0;34m.\u001b[0m\u001b[0mchild_fd\u001b[0m\u001b[0;34m]\u001b[0m\u001b[0;34m,\u001b[0m \u001b[0;34m[\u001b[0m\u001b[0;34m]\u001b[0m\u001b[0;34m,\u001b[0m \u001b[0;34m[\u001b[0m\u001b[0;34m]\u001b[0m\u001b[0;34m,\u001b[0m \u001b[0mtimeout\u001b[0m\u001b[0;34m\u001b[0m\u001b[0;34m\u001b[0m\u001b[0m\n",
      "\u001b[0;32m/usr/lib/python3/dist-packages/pexpect/utils.py\u001b[0m in \u001b[0;36mselect_ignore_interrupts\u001b[0;34m(iwtd, owtd, ewtd, timeout)\u001b[0m\n\u001b[1;32m    142\u001b[0m         \u001b[0;32mtry\u001b[0m\u001b[0;34m:\u001b[0m\u001b[0;34m\u001b[0m\u001b[0;34m\u001b[0m\u001b[0m\n\u001b[0;32m--> 143\u001b[0;31m             \u001b[0;32mreturn\u001b[0m \u001b[0mselect\u001b[0m\u001b[0;34m.\u001b[0m\u001b[0mselect\u001b[0m\u001b[0;34m(\u001b[0m\u001b[0miwtd\u001b[0m\u001b[0;34m,\u001b[0m \u001b[0mowtd\u001b[0m\u001b[0;34m,\u001b[0m \u001b[0mewtd\u001b[0m\u001b[0;34m,\u001b[0m \u001b[0mtimeout\u001b[0m\u001b[0;34m)\u001b[0m\u001b[0;34m\u001b[0m\u001b[0;34m\u001b[0m\u001b[0m\n\u001b[0m\u001b[1;32m    144\u001b[0m         \u001b[0;32mexcept\u001b[0m \u001b[0mInterruptedError\u001b[0m\u001b[0;34m:\u001b[0m\u001b[0;34m\u001b[0m\u001b[0;34m\u001b[0m\u001b[0m\n",
      "\u001b[0;32msrc/cysignals/signals.pyx\u001b[0m in \u001b[0;36mcysignals.signals.python_check_interrupt\u001b[0;34m()\u001b[0m\n",
      "\u001b[0;31mKeyboardInterrupt\u001b[0m: ",
      "\nDuring handling of the above exception, another exception occurred:\n",
      "\u001b[0;31mKeyboardInterrupt\u001b[0m                         Traceback (most recent call last)",
      "\u001b[0;32m<ipython-input-162-84f8dd2cdc0f>\u001b[0m in \u001b[0;36m<module>\u001b[0;34m\u001b[0m\n\u001b[0;32m----> 1\u001b[0;31m \u001b[0m_\u001b[0m \u001b[0;34m=\u001b[0m \u001b[0mnormalizers\u001b[0m\u001b[0;34m(\u001b[0m\u001b[0mInteger\u001b[0m\u001b[0;34m(\u001b[0m\u001b[0;36m17\u001b[0m\u001b[0;34m)\u001b[0m\u001b[0;34m,\u001b[0m \u001b[0mverbose\u001b[0m\u001b[0;34m=\u001b[0m\u001b[0;32mTrue\u001b[0m\u001b[0;34m)\u001b[0m\u001b[0;34m\u001b[0m\u001b[0;34m\u001b[0m\u001b[0m\n\u001b[0m",
      "\u001b[0;32m<ipython-input-159-66c4c6f344bb>\u001b[0m in \u001b[0;36mnormalizers\u001b[0;34m(n, verbose)\u001b[0m\n\u001b[1;32m     22\u001b[0m         \u001b[0mcheck\u001b[0m \u001b[0;34m=\u001b[0m \u001b[0;32mTrue\u001b[0m\u001b[0;34m\u001b[0m\u001b[0;34m\u001b[0m\u001b[0m\n\u001b[1;32m     23\u001b[0m         \u001b[0;32mfor\u001b[0m \u001b[0mi\u001b[0m \u001b[0;32min\u001b[0m \u001b[0mrange\u001b[0m\u001b[0;34m(\u001b[0m\u001b[0mlen\u001b[0m\u001b[0;34m(\u001b[0m\u001b[0ms_elements\u001b[0m\u001b[0;34m)\u001b[0m\u001b[0;34m)\u001b[0m\u001b[0;34m:\u001b[0m\u001b[0;34m\u001b[0m\u001b[0;34m\u001b[0m\u001b[0m\n\u001b[0;32m---> 24\u001b[0;31m             \u001b[0;32mif\u001b[0m \u001b[0mS\u001b[0m\u001b[0;34m.\u001b[0m\u001b[0mAsList\u001b[0m\u001b[0;34m(\u001b[0m\u001b[0;34m)\u001b[0m\u001b[0;34m[\u001b[0m\u001b[0mi\u001b[0m \u001b[0;34m+\u001b[0m \u001b[0mInteger\u001b[0m\u001b[0;34m(\u001b[0m\u001b[0;36m1\u001b[0m\u001b[0;34m)\u001b[0m\u001b[0;34m]\u001b[0m\u001b[0;34m.\u001b[0m\u001b[0mOrder\u001b[0m\u001b[0;34m(\u001b[0m\u001b[0;34m)\u001b[0m \u001b[0;34m!=\u001b[0m \u001b[0mS\u001b[0m\u001b[0;34m.\u001b[0m\u001b[0mAsList\u001b[0m\u001b[0;34m(\u001b[0m\u001b[0;34m)\u001b[0m\u001b[0;34m[\u001b[0m\u001b[0mperm\u001b[0m\u001b[0;34m[\u001b[0m\u001b[0mi\u001b[0m\u001b[0;34m]\u001b[0m \u001b[0;34m+\u001b[0m \u001b[0mInteger\u001b[0m\u001b[0;34m(\u001b[0m\u001b[0;36m1\u001b[0m\u001b[0;34m)\u001b[0m\u001b[0;34m]\u001b[0m\u001b[0;34m.\u001b[0m\u001b[0mOrder\u001b[0m\u001b[0;34m(\u001b[0m\u001b[0;34m)\u001b[0m\u001b[0;34m:\u001b[0m\u001b[0;34m\u001b[0m\u001b[0;34m\u001b[0m\u001b[0m\n\u001b[0m\u001b[1;32m     25\u001b[0m                 \u001b[0mcheck\u001b[0m \u001b[0;34m=\u001b[0m \u001b[0;32mFalse\u001b[0m\u001b[0;34m\u001b[0m\u001b[0;34m\u001b[0m\u001b[0m\n\u001b[1;32m     26\u001b[0m                 \u001b[0;32mbreak\u001b[0m\u001b[0;34m\u001b[0m\u001b[0;34m\u001b[0m\u001b[0m\n",
      "\u001b[0;32m/usr/lib/python3/dist-packages/sage/interfaces/gap.py\u001b[0m in \u001b[0;36m__getitem__\u001b[0;34m(self, n)\u001b[0m\n\u001b[1;32m   1617\u001b[0m         \u001b[0mself\u001b[0m\u001b[0;34m.\u001b[0m\u001b[0m_check_valid\u001b[0m\u001b[0;34m(\u001b[0m\u001b[0;34m)\u001b[0m\u001b[0;34m\u001b[0m\u001b[0;34m\u001b[0m\u001b[0m\n\u001b[1;32m   1618\u001b[0m         \u001b[0;32mif\u001b[0m \u001b[0;32mnot\u001b[0m \u001b[0misinstance\u001b[0m\u001b[0;34m(\u001b[0m\u001b[0mn\u001b[0m\u001b[0;34m,\u001b[0m \u001b[0mtuple\u001b[0m\u001b[0;34m)\u001b[0m\u001b[0;34m:\u001b[0m\u001b[0;34m\u001b[0m\u001b[0;34m\u001b[0m\u001b[0m\n\u001b[0;32m-> 1619\u001b[0;31m             \u001b[0;32mreturn\u001b[0m \u001b[0mself\u001b[0m\u001b[0;34m.\u001b[0m\u001b[0mparent\u001b[0m\u001b[0;34m(\u001b[0m\u001b[0;34m)\u001b[0m\u001b[0;34m.\u001b[0m\u001b[0mnew\u001b[0m\u001b[0;34m(\u001b[0m\u001b[0;34m'%s[%s]'\u001b[0m\u001b[0;34m%\u001b[0m\u001b[0;34m(\u001b[0m\u001b[0mself\u001b[0m\u001b[0;34m.\u001b[0m\u001b[0m_name\u001b[0m\u001b[0;34m,\u001b[0m \u001b[0mn\u001b[0m\u001b[0;34m)\u001b[0m\u001b[0;34m)\u001b[0m\u001b[0;34m\u001b[0m\u001b[0;34m\u001b[0m\u001b[0m\n\u001b[0m\u001b[1;32m   1620\u001b[0m         \u001b[0;32melse\u001b[0m\u001b[0;34m:\u001b[0m\u001b[0;34m\u001b[0m\u001b[0;34m\u001b[0m\u001b[0m\n\u001b[1;32m   1621\u001b[0m             \u001b[0;32mreturn\u001b[0m \u001b[0mself\u001b[0m\u001b[0;34m.\u001b[0m\u001b[0mparent\u001b[0m\u001b[0;34m(\u001b[0m\u001b[0;34m)\u001b[0m\u001b[0;34m.\u001b[0m\u001b[0mnew\u001b[0m\u001b[0;34m(\u001b[0m\u001b[0;34m'%s%s'\u001b[0m\u001b[0;34m%\u001b[0m\u001b[0;34m(\u001b[0m\u001b[0mself\u001b[0m\u001b[0;34m.\u001b[0m\u001b[0m_name\u001b[0m\u001b[0;34m,\u001b[0m \u001b[0;34m''\u001b[0m\u001b[0;34m.\u001b[0m\u001b[0mjoin\u001b[0m\u001b[0;34m(\u001b[0m\u001b[0;34m[\u001b[0m\u001b[0;34m'[%s]'\u001b[0m\u001b[0;34m%\u001b[0m\u001b[0mx\u001b[0m \u001b[0;32mfor\u001b[0m \u001b[0mx\u001b[0m \u001b[0;32min\u001b[0m \u001b[0mn\u001b[0m\u001b[0;34m]\u001b[0m\u001b[0;34m)\u001b[0m\u001b[0;34m)\u001b[0m\u001b[0;34m)\u001b[0m\u001b[0;34m\u001b[0m\u001b[0;34m\u001b[0m\u001b[0m\n",
      "\u001b[0;32m/usr/lib/python3/dist-packages/sage/interfaces/interface.py\u001b[0m in \u001b[0;36mnew\u001b[0;34m(self, code)\u001b[0m\n\u001b[1;32m    368\u001b[0m \u001b[0;34m\u001b[0m\u001b[0m\n\u001b[1;32m    369\u001b[0m     \u001b[0;32mdef\u001b[0m \u001b[0mnew\u001b[0m\u001b[0;34m(\u001b[0m\u001b[0mself\u001b[0m\u001b[0;34m,\u001b[0m \u001b[0mcode\u001b[0m\u001b[0;34m)\u001b[0m\u001b[0;34m:\u001b[0m\u001b[0;34m\u001b[0m\u001b[0;34m\u001b[0m\u001b[0m\n\u001b[0;32m--> 370\u001b[0;31m         \u001b[0;32mreturn\u001b[0m \u001b[0mself\u001b[0m\u001b[0;34m(\u001b[0m\u001b[0mcode\u001b[0m\u001b[0;34m)\u001b[0m\u001b[0;34m\u001b[0m\u001b[0;34m\u001b[0m\u001b[0m\n\u001b[0m\u001b[1;32m    371\u001b[0m \u001b[0;34m\u001b[0m\u001b[0m\n\u001b[1;32m    372\u001b[0m     \u001b[0;31m###################################################################\u001b[0m\u001b[0;34m\u001b[0m\u001b[0;34m\u001b[0m\u001b[0;34m\u001b[0m\u001b[0m\n",
      "\u001b[0;32m/usr/lib/python3/dist-packages/sage/interfaces/interface.py\u001b[0m in \u001b[0;36m__call__\u001b[0;34m(self, x, name)\u001b[0m\n\u001b[1;32m    294\u001b[0m \u001b[0;34m\u001b[0m\u001b[0m\n\u001b[1;32m    295\u001b[0m         \u001b[0;32mif\u001b[0m \u001b[0misinstance\u001b[0m\u001b[0;34m(\u001b[0m\u001b[0mx\u001b[0m\u001b[0;34m,\u001b[0m \u001b[0mstring_types\u001b[0m\u001b[0;34m)\u001b[0m\u001b[0;34m:\u001b[0m\u001b[0;34m\u001b[0m\u001b[0;34m\u001b[0m\u001b[0m\n\u001b[0;32m--> 296\u001b[0;31m             \u001b[0;32mreturn\u001b[0m \u001b[0mcls\u001b[0m\u001b[0;34m(\u001b[0m\u001b[0mself\u001b[0m\u001b[0;34m,\u001b[0m \u001b[0mx\u001b[0m\u001b[0;34m,\u001b[0m \u001b[0mname\u001b[0m\u001b[0;34m=\u001b[0m\u001b[0mname\u001b[0m\u001b[0;34m)\u001b[0m\u001b[0;34m\u001b[0m\u001b[0;34m\u001b[0m\u001b[0m\n\u001b[0m\u001b[1;32m    297\u001b[0m         \u001b[0;32mtry\u001b[0m\u001b[0;34m:\u001b[0m\u001b[0;34m\u001b[0m\u001b[0;34m\u001b[0m\u001b[0m\n\u001b[1;32m    298\u001b[0m             \u001b[0;31m# Special methods do not and should not have an option to\u001b[0m\u001b[0;34m\u001b[0m\u001b[0;34m\u001b[0m\u001b[0;34m\u001b[0m\u001b[0m\n",
      "\u001b[0;32m/usr/lib/python3/dist-packages/sage/interfaces/expect.py\u001b[0m in \u001b[0;36m__init__\u001b[0;34m(self, parent, value, is_name, name)\u001b[0m\n\u001b[1;32m   1469\u001b[0m         \u001b[0;32melse\u001b[0m\u001b[0;34m:\u001b[0m\u001b[0;34m\u001b[0m\u001b[0;34m\u001b[0m\u001b[0m\n\u001b[1;32m   1470\u001b[0m             \u001b[0;32mtry\u001b[0m\u001b[0;34m:\u001b[0m\u001b[0;34m\u001b[0m\u001b[0;34m\u001b[0m\u001b[0m\n\u001b[0;32m-> 1471\u001b[0;31m                 \u001b[0mself\u001b[0m\u001b[0;34m.\u001b[0m\u001b[0m_name\u001b[0m \u001b[0;34m=\u001b[0m \u001b[0mparent\u001b[0m\u001b[0;34m.\u001b[0m\u001b[0m_create\u001b[0m\u001b[0;34m(\u001b[0m\u001b[0mvalue\u001b[0m\u001b[0;34m,\u001b[0m \u001b[0mname\u001b[0m\u001b[0;34m=\u001b[0m\u001b[0mname\u001b[0m\u001b[0;34m)\u001b[0m\u001b[0;34m\u001b[0m\u001b[0;34m\u001b[0m\u001b[0m\n\u001b[0m\u001b[1;32m   1472\u001b[0m             \u001b[0;31m# Convert ValueError and RuntimeError to TypeError for\u001b[0m\u001b[0;34m\u001b[0m\u001b[0;34m\u001b[0m\u001b[0;34m\u001b[0m\u001b[0m\n\u001b[1;32m   1473\u001b[0m             \u001b[0;31m# coercion to work properly.\u001b[0m\u001b[0;34m\u001b[0m\u001b[0;34m\u001b[0m\u001b[0;34m\u001b[0m\u001b[0m\n",
      "\u001b[0;32m/usr/lib/python3/dist-packages/sage/interfaces/interface.py\u001b[0m in \u001b[0;36m_create\u001b[0;34m(self, value, name)\u001b[0m\n\u001b[1;32m    499\u001b[0m     \u001b[0;32mdef\u001b[0m \u001b[0m_create\u001b[0m\u001b[0;34m(\u001b[0m\u001b[0mself\u001b[0m\u001b[0;34m,\u001b[0m \u001b[0mvalue\u001b[0m\u001b[0;34m,\u001b[0m \u001b[0mname\u001b[0m\u001b[0;34m=\u001b[0m\u001b[0;32mNone\u001b[0m\u001b[0;34m)\u001b[0m\u001b[0;34m:\u001b[0m\u001b[0;34m\u001b[0m\u001b[0;34m\u001b[0m\u001b[0m\n\u001b[1;32m    500\u001b[0m         \u001b[0mname\u001b[0m \u001b[0;34m=\u001b[0m \u001b[0mself\u001b[0m\u001b[0;34m.\u001b[0m\u001b[0m_next_var_name\u001b[0m\u001b[0;34m(\u001b[0m\u001b[0;34m)\u001b[0m \u001b[0;32mif\u001b[0m \u001b[0mname\u001b[0m \u001b[0;32mis\u001b[0m \u001b[0;32mNone\u001b[0m \u001b[0;32melse\u001b[0m \u001b[0mname\u001b[0m\u001b[0;34m\u001b[0m\u001b[0;34m\u001b[0m\u001b[0m\n\u001b[0;32m--> 501\u001b[0;31m         \u001b[0mself\u001b[0m\u001b[0;34m.\u001b[0m\u001b[0mset\u001b[0m\u001b[0;34m(\u001b[0m\u001b[0mname\u001b[0m\u001b[0;34m,\u001b[0m \u001b[0mvalue\u001b[0m\u001b[0;34m)\u001b[0m\u001b[0;34m\u001b[0m\u001b[0;34m\u001b[0m\u001b[0m\n\u001b[0m\u001b[1;32m    502\u001b[0m         \u001b[0;32mreturn\u001b[0m \u001b[0mname\u001b[0m\u001b[0;34m\u001b[0m\u001b[0;34m\u001b[0m\u001b[0m\n\u001b[1;32m    503\u001b[0m \u001b[0;34m\u001b[0m\u001b[0m\n",
      "\u001b[0;32m/usr/lib/python3/dist-packages/sage/interfaces/gap.py\u001b[0m in \u001b[0;36mset\u001b[0;34m(self, var, value)\u001b[0m\n\u001b[1;32m   1426\u001b[0m         \"\"\"\n\u001b[1;32m   1427\u001b[0m         \u001b[0mcmd\u001b[0m \u001b[0;34m=\u001b[0m \u001b[0;34m(\u001b[0m\u001b[0;34m'%s:=%s;;'\u001b[0m \u001b[0;34m%\u001b[0m \u001b[0;34m(\u001b[0m\u001b[0mvar\u001b[0m\u001b[0;34m,\u001b[0m \u001b[0mvalue\u001b[0m\u001b[0;34m)\u001b[0m\u001b[0;34m)\u001b[0m\u001b[0;34m.\u001b[0m\u001b[0mreplace\u001b[0m\u001b[0;34m(\u001b[0m\u001b[0;34m'\\n'\u001b[0m\u001b[0;34m,\u001b[0m\u001b[0;34m''\u001b[0m\u001b[0;34m)\u001b[0m\u001b[0;34m\u001b[0m\u001b[0;34m\u001b[0m\u001b[0m\n\u001b[0;32m-> 1428\u001b[0;31m         \u001b[0mself\u001b[0m\u001b[0;34m.\u001b[0m\u001b[0m_eval_line\u001b[0m\u001b[0;34m(\u001b[0m\u001b[0mcmd\u001b[0m\u001b[0;34m,\u001b[0m \u001b[0mallow_use_file\u001b[0m\u001b[0;34m=\u001b[0m\u001b[0;32mTrue\u001b[0m\u001b[0;34m)\u001b[0m\u001b[0;34m\u001b[0m\u001b[0;34m\u001b[0m\u001b[0m\n\u001b[0m\u001b[1;32m   1429\u001b[0m \u001b[0;34m\u001b[0m\u001b[0m\n\u001b[1;32m   1430\u001b[0m     \u001b[0;32mdef\u001b[0m \u001b[0mget\u001b[0m\u001b[0;34m(\u001b[0m\u001b[0mself\u001b[0m\u001b[0;34m,\u001b[0m \u001b[0mvar\u001b[0m\u001b[0;34m,\u001b[0m \u001b[0muse_file\u001b[0m\u001b[0;34m=\u001b[0m\u001b[0;32mFalse\u001b[0m\u001b[0;34m)\u001b[0m\u001b[0;34m:\u001b[0m\u001b[0;34m\u001b[0m\u001b[0;34m\u001b[0m\u001b[0m\n",
      "\u001b[0;32m/usr/lib/python3/dist-packages/sage/interfaces/gap.py\u001b[0m in \u001b[0;36m_eval_line\u001b[0;34m(self, line, allow_use_file, wait_for_prompt, restart_if_needed)\u001b[0m\n\u001b[1;32m    804\u001b[0m \u001b[0;34m\u001b[0m\u001b[0m\n\u001b[1;32m    805\u001b[0m         \u001b[0;32mexcept\u001b[0m \u001b[0mKeyboardInterrupt\u001b[0m\u001b[0;34m:\u001b[0m\u001b[0;34m\u001b[0m\u001b[0;34m\u001b[0m\u001b[0m\n\u001b[0;32m--> 806\u001b[0;31m             \u001b[0mself\u001b[0m\u001b[0;34m.\u001b[0m\u001b[0m_keyboard_interrupt\u001b[0m\u001b[0;34m(\u001b[0m\u001b[0;34m)\u001b[0m\u001b[0;34m\u001b[0m\u001b[0;34m\u001b[0m\u001b[0m\n\u001b[0m\u001b[1;32m    807\u001b[0m             \u001b[0;32mraise\u001b[0m \u001b[0mKeyboardInterrupt\u001b[0m\u001b[0;34m(\u001b[0m\u001b[0;34m\"Ctrl-c pressed while running %s\"\u001b[0m\u001b[0;34m%\u001b[0m\u001b[0mself\u001b[0m\u001b[0;34m)\u001b[0m\u001b[0;34m\u001b[0m\u001b[0;34m\u001b[0m\u001b[0m\n\u001b[1;32m    808\u001b[0m \u001b[0;34m\u001b[0m\u001b[0m\n",
      "\u001b[0;32m/usr/lib/python3/dist-packages/sage/interfaces/gap.py\u001b[0m in \u001b[0;36m_keyboard_interrupt\u001b[0;34m(self)\u001b[0m\n\u001b[1;32m    682\u001b[0m         \"\"\"\n\u001b[1;32m    683\u001b[0m         \u001b[0mself\u001b[0m\u001b[0;34m.\u001b[0m\u001b[0mquit\u001b[0m\u001b[0;34m(\u001b[0m\u001b[0;34m)\u001b[0m\u001b[0;34m\u001b[0m\u001b[0;34m\u001b[0m\u001b[0m\n\u001b[0;32m--> 684\u001b[0;31m         \u001b[0;32mraise\u001b[0m \u001b[0mKeyboardInterrupt\u001b[0m\u001b[0;34m(\u001b[0m\u001b[0;34m\"Ctrl-c pressed while running %s\"\u001b[0m\u001b[0;34m%\u001b[0m\u001b[0mself\u001b[0m\u001b[0;34m)\u001b[0m\u001b[0;34m\u001b[0m\u001b[0;34m\u001b[0m\u001b[0m\n\u001b[0m\u001b[1;32m    685\u001b[0m \u001b[0;34m\u001b[0m\u001b[0m\n\u001b[1;32m    686\u001b[0m     \u001b[0;32mdef\u001b[0m \u001b[0m_eval_line\u001b[0m\u001b[0;34m(\u001b[0m\u001b[0mself\u001b[0m\u001b[0;34m,\u001b[0m \u001b[0mline\u001b[0m\u001b[0;34m,\u001b[0m \u001b[0mallow_use_file\u001b[0m\u001b[0;34m=\u001b[0m\u001b[0;32mTrue\u001b[0m\u001b[0;34m,\u001b[0m \u001b[0mwait_for_prompt\u001b[0m\u001b[0;34m=\u001b[0m\u001b[0;32mTrue\u001b[0m\u001b[0;34m,\u001b[0m \u001b[0mrestart_if_needed\u001b[0m\u001b[0;34m=\u001b[0m\u001b[0;32mTrue\u001b[0m\u001b[0;34m)\u001b[0m\u001b[0;34m:\u001b[0m\u001b[0;34m\u001b[0m\u001b[0;34m\u001b[0m\u001b[0m\n",
      "\u001b[0;31mKeyboardInterrupt\u001b[0m: Ctrl-c pressed while running Gap"
     ]
    }
   ],
   "source": [
    "_ = normalizers(17, verbose=True)"
   ]
  },
  {
   "cell_type": "markdown",
   "metadata": {},
   "source": [
    "# Create self-similar action"
   ]
  },
  {
   "cell_type": "code",
   "execution_count": 37,
   "metadata": {},
   "outputs": [],
   "source": [
    "G = gap(f\"SpaceGroupIT(2, 13)\")"
   ]
  },
  {
   "cell_type": "code",
   "execution_count": 38,
   "metadata": {},
   "outputs": [],
   "source": [
    "gens = G.GeneratorsOfGroup()"
   ]
  },
  {
   "cell_type": "code",
   "execution_count": 39,
   "metadata": {},
   "outputs": [
    {
     "data": {
      "text/plain": [
       "[\n",
       "[ 0  1  0]  [1 0 0]  [1 0 0]\n",
       "[-1 -1  0]  [0 1 0]  [0 1 0]\n",
       "[ 0  0  1], [1 0 1], [0 1 1]\n",
       "]"
      ]
     },
     "execution_count": 39,
     "metadata": {},
     "output_type": "execute_result"
    }
   ],
   "source": [
    "gens = [matrix(QQ, el) for el in gens]\n",
    "gens"
   ]
  },
  {
   "cell_type": "code",
   "execution_count": 25,
   "metadata": {},
   "outputs": [
    {
     "data": {
      "text/plain": [
       "[ 1 -1  0]\n",
       "[ 1  2  0]\n",
       "[ 0  0  1]"
      ]
     },
     "execution_count": 25,
     "metadata": {},
     "output_type": "execute_result"
    }
   ],
   "source": [
    "T = matrix(QQ, [[1, -1, 0], [1, 2, 0], [0, 0, 1]])\n",
    "T"
   ]
  },
  {
   "cell_type": "code",
   "execution_count": 16,
   "metadata": {},
   "outputs": [],
   "source": [
    "def self_similar(n, T, dim=2, verbose=False, gen_alphabet=False):\n",
    "    G = gap(f'SpaceGroupIT({dim}, {n})')\n",
    "    gens_G = G.GeneratorsOfGroup() \n",
    "    gens_G = [matrix(QQ, el) for el in gens_G]\n",
    "    if verbose:\n",
    "        print(\"=====================================================================\")\n",
    "    \n",
    "    # check whether there exists virtual endomorphism\n",
    "    conj_els = []\n",
    "    for el in gens_G: \n",
    "        conj = T.inverse() * el * T \n",
    "        if verbose:\n",
    "            print(\"\\nconjugate el:\")\n",
    "            print(conj)\n",
    "            print(\"conj in G:\", conj in G)\n",
    "        if conj not in G: \n",
    "            raise ValueError(\"Bad matrix T, there is no virtual endomorphism\")\n",
    "        conj_els.append(conj)\n",
    "    \n",
    "    # create subgroup as image of virtual endomorphism\n",
    "    H = G.Subgroup(conj_els)\n",
    "    if verbose: \n",
    "        print(\"----------------------------------------------------\")\n",
    "        print(\"Index of subgroup H:\", G.Index(H))\n",
    "    \n",
    "    trans = G.RightTransversal(H)\n",
    "    gens_H = [matrix(QQ, el) for el in H.GeneratorsOfGroup()]\n",
    "    trans_els = [matrix(QQ, el) for el in trans.AsList()]\n",
    "    trans_inv_els = [el.inverse() for el in trans_els]\n",
    "    if verbose: \n",
    "        print(\"Transversal:\")\n",
    "        print(*trans_els, sep='\\n\\n')\n",
    "    \n",
    "    if gen_alphabet:\n",
    "        names_G = {str(el): letter for el, letter in zip(gens_G, alphabet)}\n",
    "    else: \n",
    "        names_G = {str(el): f\"a_{i}\" for i, el in enumerate(gens_G, 1)}\n",
    "    \n",
    "    # create self-similar action \n",
    "    res_map = {} \n",
    "    for a in gens_G: \n",
    "        for i, d_i in enumerate(trans_inv_els, 1):\n",
    "            adi = a * d_i \n",
    "            d_j_index = trans.PositionCanonical(adi.inverse())\n",
    "            d_j = trans_inv_els[int(d_j_index) - 1]\n",
    "            \n",
    "            if d_j.inverse() * a * d_i not in H: \n",
    "                print(\"Error, wrong coset\")\n",
    "                print(a, d_i, d_j)\n",
    "                return -1\n",
    "            \n",
    "            tmp_res = T * (d_j.inverse() * a * d_i) * T.inverse() \n",
    "            res_map[(names_G[str(a)], i)] = (int(d_j_index), tmp_res)\n",
    "    return res_map\n",
    "    "
   ]
  },
  {
   "cell_type": "code",
   "execution_count": 17,
   "metadata": {},
   "outputs": [
    {
     "ename": "NameError",
     "evalue": "name 'T' is not defined",
     "output_type": "error",
     "traceback": [
      "\u001b[0;31m---------------------------------------------------------------------------\u001b[0m",
      "\u001b[0;31mNameError\u001b[0m                                 Traceback (most recent call last)",
      "\u001b[0;32m<ipython-input-17-081329674059>\u001b[0m in \u001b[0;36m<module>\u001b[0;34m\u001b[0m\n\u001b[0;32m----> 1\u001b[0;31m \u001b[0mself_similar\u001b[0m\u001b[0;34m(\u001b[0m\u001b[0mInteger\u001b[0m\u001b[0;34m(\u001b[0m\u001b[0;36m13\u001b[0m\u001b[0;34m)\u001b[0m\u001b[0;34m,\u001b[0m \u001b[0mT\u001b[0m\u001b[0;34m,\u001b[0m \u001b[0mverbose\u001b[0m\u001b[0;34m=\u001b[0m\u001b[0;32mTrue\u001b[0m\u001b[0;34m,\u001b[0m \u001b[0mgen_alphabet\u001b[0m\u001b[0;34m=\u001b[0m\u001b[0;32mTrue\u001b[0m\u001b[0;34m)\u001b[0m\u001b[0;34m\u001b[0m\u001b[0;34m\u001b[0m\u001b[0m\n\u001b[0m",
      "\u001b[0;31mNameError\u001b[0m: name 'T' is not defined"
     ]
    }
   ],
   "source": [
    "self_similar(13, T, verbose=True, gen_alphabet=True)"
   ]
  },
  {
   "cell_type": "code",
   "execution_count": 65,
   "metadata": {
    "scrolled": false
   },
   "outputs": [
    {
     "name": "stdout",
     "output_type": "stream",
     "text": [
      "=====================================================================\n",
      "\n",
      "conjugate el:\n",
      "[-1  0  0]\n",
      "[ 0 -1  0]\n",
      "[ 0  0  1]\n",
      "conj in G: True\n",
      "\n",
      "conjugate el:\n",
      "[ 1  0  0]\n",
      "[ 0 -1  0]\n",
      "[ 0  0  1]\n",
      "conj in G: True\n",
      "\n",
      "conjugate el:\n",
      "[ 1  0  0]\n",
      "[ 0  1  0]\n",
      "[ 0 -1  1]\n",
      "conj in G: True\n",
      "\n",
      "conjugate el:\n",
      "[1 0 0]\n",
      "[0 1 0]\n",
      "[2 0 1]\n",
      "conj in G: True\n",
      "----------------------------------------------------\n",
      "Index of subgroup H: 2\n",
      "Transversal:\n",
      "[1 0 0]\n",
      "[0 1 0]\n",
      "[0 0 1]\n",
      "\n",
      "[1 0 0]\n",
      "[0 1 0]\n",
      "[1 0 1]\n"
     ]
    },
    {
     "data": {
      "text/plain": [
       "{('a', 1): (\n",
       "   [-1  0  0]\n",
       "   [ 0 -1  0]\n",
       "1, [ 0  0  1]\n",
       "),\n",
       " ('a', 2): (\n",
       "   [-1  0  0]\n",
       "   [ 0 -1  0]\n",
       "2, [ 0 -1  1]\n",
       "),\n",
       " ('b', 1): (\n",
       "   [ 1  0  0]\n",
       "   [ 0 -1  0]\n",
       "1, [ 0  0  1]\n",
       "),\n",
       " ('b', 2): (\n",
       "   [ 1  0  0]\n",
       "   [ 0 -1  0]\n",
       "2, [ 0 -1  1]\n",
       "),\n",
       " ('c', 1): (\n",
       "   [1 0 0]\n",
       "   [0 1 0]\n",
       "2, [0 1 1]\n",
       "),\n",
       " ('c', 2): (\n",
       "   [1 0 0]\n",
       "   [0 1 0]\n",
       "1, [0 0 1]\n",
       "),\n",
       " ('d', 1): (\n",
       "   [ 1  0  0]\n",
       "   [ 0  1  0]\n",
       "1, [-1  0  1]\n",
       "),\n",
       " ('d', 2): (\n",
       "   [ 1  0  0]\n",
       "   [ 0  1  0]\n",
       "2, [-1  0  1]\n",
       ")}"
      ]
     },
     "execution_count": 65,
     "metadata": {},
     "output_type": "execute_result"
    }
   ],
   "source": [
    "T = matrix(QQ, [[0, -1, 0], [2, 0, 0], [0, 0, 1]])\n",
    "self_similar(6, T, verbose=True, gen_alphabet=True)"
   ]
  },
  {
   "cell_type": "code",
   "execution_count": 75,
   "metadata": {
    "scrolled": false
   },
   "outputs": [
    {
     "name": "stdout",
     "output_type": "stream",
     "text": [
      "=====================================================================\n",
      "\n",
      "conjugate el:\n",
      "[-1  0  0]\n",
      "[ 0 -1  0]\n",
      "[ 0  0  1]\n",
      "conj in G: True\n",
      "\n",
      "conjugate el:\n",
      "[ 0  1  0]\n",
      "[-1  0  0]\n",
      "[ 0  0  1]\n",
      "conj in G: True\n",
      "\n",
      "conjugate el:\n",
      "[0 1 0]\n",
      "[1 0 0]\n",
      "[1 0 1]\n",
      "conj in G: False\n"
     ]
    },
    {
     "ename": "ValueError",
     "evalue": "Bad matrix T, there is no virtual endomorphism",
     "output_type": "error",
     "traceback": [
      "\u001b[0;31m---------------------------------------------------------------------------\u001b[0m",
      "\u001b[0;31mValueError\u001b[0m                                Traceback (most recent call last)",
      "\u001b[0;32m<ipython-input-75-c0673c79e9f3>\u001b[0m in \u001b[0;36m<module>\u001b[0;34m\u001b[0m\n\u001b[1;32m      1\u001b[0m \u001b[0mT\u001b[0m \u001b[0;34m=\u001b[0m \u001b[0mmatrix\u001b[0m\u001b[0;34m(\u001b[0m\u001b[0mQQ\u001b[0m\u001b[0;34m,\u001b[0m \u001b[0;34m[\u001b[0m\u001b[0;34m[\u001b[0m\u001b[0mInteger\u001b[0m\u001b[0;34m(\u001b[0m\u001b[0;36m1\u001b[0m\u001b[0;34m)\u001b[0m\u001b[0;34m,\u001b[0m \u001b[0;34m-\u001b[0m\u001b[0mInteger\u001b[0m\u001b[0;34m(\u001b[0m\u001b[0;36m1\u001b[0m\u001b[0;34m)\u001b[0m\u001b[0;34m,\u001b[0m \u001b[0mInteger\u001b[0m\u001b[0;34m(\u001b[0m\u001b[0;36m0\u001b[0m\u001b[0;34m)\u001b[0m\u001b[0;34m]\u001b[0m\u001b[0;34m,\u001b[0m \u001b[0;34m[\u001b[0m\u001b[0mInteger\u001b[0m\u001b[0;34m(\u001b[0m\u001b[0;36m1\u001b[0m\u001b[0;34m)\u001b[0m\u001b[0;34m,\u001b[0m \u001b[0mInteger\u001b[0m\u001b[0;34m(\u001b[0m\u001b[0;36m1\u001b[0m\u001b[0;34m)\u001b[0m\u001b[0;34m,\u001b[0m \u001b[0mInteger\u001b[0m\u001b[0;34m(\u001b[0m\u001b[0;36m0\u001b[0m\u001b[0;34m)\u001b[0m\u001b[0;34m]\u001b[0m\u001b[0;34m,\u001b[0m \u001b[0;34m[\u001b[0m\u001b[0mInteger\u001b[0m\u001b[0;34m(\u001b[0m\u001b[0;36m0\u001b[0m\u001b[0;34m)\u001b[0m\u001b[0;34m,\u001b[0m \u001b[0mInteger\u001b[0m\u001b[0;34m(\u001b[0m\u001b[0;36m0\u001b[0m\u001b[0;34m)\u001b[0m\u001b[0;34m,\u001b[0m \u001b[0mInteger\u001b[0m\u001b[0;34m(\u001b[0m\u001b[0;36m1\u001b[0m\u001b[0;34m)\u001b[0m\u001b[0;34m]\u001b[0m\u001b[0;34m]\u001b[0m\u001b[0;34m)\u001b[0m\u001b[0;34m\u001b[0m\u001b[0;34m\u001b[0m\u001b[0m\n\u001b[0;32m----> 2\u001b[0;31m \u001b[0mself_similar\u001b[0m\u001b[0;34m(\u001b[0m\u001b[0mInteger\u001b[0m\u001b[0;34m(\u001b[0m\u001b[0;36m12\u001b[0m\u001b[0;34m)\u001b[0m\u001b[0;34m,\u001b[0m \u001b[0mT\u001b[0m\u001b[0;34m,\u001b[0m \u001b[0mverbose\u001b[0m\u001b[0;34m=\u001b[0m\u001b[0;32mTrue\u001b[0m\u001b[0;34m,\u001b[0m \u001b[0mgen_alphabet\u001b[0m\u001b[0;34m=\u001b[0m\u001b[0;32mTrue\u001b[0m\u001b[0;34m)\u001b[0m\u001b[0;34m\u001b[0m\u001b[0;34m\u001b[0m\u001b[0m\n\u001b[0m",
      "\u001b[0;32m<ipython-input-24-e63a1a1c0b22>\u001b[0m in \u001b[0;36mself_similar\u001b[0;34m(n, T, dim, verbose, gen_alphabet)\u001b[0m\n\u001b[1;32m     15\u001b[0m             \u001b[0mprint\u001b[0m\u001b[0;34m(\u001b[0m\u001b[0;34m\"conj in G:\"\u001b[0m\u001b[0;34m,\u001b[0m \u001b[0mconj\u001b[0m \u001b[0;32min\u001b[0m \u001b[0mG\u001b[0m\u001b[0;34m)\u001b[0m\u001b[0;34m\u001b[0m\u001b[0;34m\u001b[0m\u001b[0m\n\u001b[1;32m     16\u001b[0m         \u001b[0;32mif\u001b[0m \u001b[0mconj\u001b[0m \u001b[0;32mnot\u001b[0m \u001b[0;32min\u001b[0m \u001b[0mG\u001b[0m\u001b[0;34m:\u001b[0m\u001b[0;34m\u001b[0m\u001b[0;34m\u001b[0m\u001b[0m\n\u001b[0;32m---> 17\u001b[0;31m             \u001b[0;32mraise\u001b[0m \u001b[0mValueError\u001b[0m\u001b[0;34m(\u001b[0m\u001b[0;34m\"Bad matrix T, there is no virtual endomorphism\"\u001b[0m\u001b[0;34m)\u001b[0m\u001b[0;34m\u001b[0m\u001b[0;34m\u001b[0m\u001b[0m\n\u001b[0m\u001b[1;32m     18\u001b[0m         \u001b[0mconj_els\u001b[0m\u001b[0;34m.\u001b[0m\u001b[0mappend\u001b[0m\u001b[0;34m(\u001b[0m\u001b[0mconj\u001b[0m\u001b[0;34m)\u001b[0m\u001b[0;34m\u001b[0m\u001b[0;34m\u001b[0m\u001b[0m\n\u001b[1;32m     19\u001b[0m \u001b[0;34m\u001b[0m\u001b[0m\n",
      "\u001b[0;31mValueError\u001b[0m: Bad matrix T, there is no virtual endomorphism"
     ]
    }
   ],
   "source": [
    "T = matrix(QQ, [[1, -1, 0], [1, 1, 0], [0, 0, 1]])\n",
    "self_similar(14, T, verbose=True, gen_alphabet=True)"
   ]
  },
  {
   "cell_type": "code",
   "execution_count": 68,
   "metadata": {},
   "outputs": [
    {
     "data": {
      "text/plain": [
       "[\n",
       "[-1  0  0]  [ -1   0   0]  [1 0 0]  [1 0 0]\n",
       "[ 0 -1  0]  [  0   1   0]  [0 1 0]  [0 1 0]\n",
       "[ 0  0  1], [1/2 1/2   1], [1 0 1], [0 1 1]\n",
       "]"
      ]
     },
     "execution_count": 68,
     "metadata": {},
     "output_type": "execute_result"
    }
   ],
   "source": [
    "G = gap.SpaceGroupIT(2, 8)\n",
    "gens = [matrix(QQ, el) for el in G.GeneratorsOfGroup().AsList()]\n",
    "gens"
   ]
  },
  {
   "cell_type": "code",
   "execution_count": 69,
   "metadata": {},
   "outputs": [
    {
     "data": {
      "text/plain": [
       "[  1   0   0]\n",
       "[  0  -1   0]\n",
       "[1/2 1/2   1]"
      ]
     },
     "execution_count": 69,
     "metadata": {},
     "output_type": "execute_result"
    }
   ],
   "source": [
    "a, b, c, d = gens \n",
    "\n",
    "a * b "
   ]
  },
  {
   "cell_type": "code",
   "execution_count": 70,
   "metadata": {},
   "outputs": [
    {
     "data": {
      "text/plain": [
       "[-1  0  0]\n",
       "[ 0 -1  0]\n",
       "[ 0  1  1]"
      ]
     },
     "execution_count": 70,
     "metadata": {},
     "output_type": "execute_result"
    }
   ],
   "source": [
    "a * d"
   ]
  },
  {
   "cell_type": "code",
   "execution_count": 67,
   "metadata": {},
   "outputs": [
    {
     "name": "stdout",
     "output_type": "stream",
     "text": [
      "=====================================================================\n",
      "\n",
      "conjugate el:\n",
      "[-1  0  0]\n",
      "[ 0 -1  0]\n",
      "[ 0  0  1]\n",
      "conj in G: True\n",
      "\n",
      "conjugate el:\n",
      "[ 1  0  0]\n",
      "[ 0 -1  0]\n",
      "[ 0  0  1]\n",
      "conj in G: True\n",
      "\n",
      "conjugate el:\n",
      "[  1   0   0]\n",
      "[  0   1   0]\n",
      "[1/2   1   1]\n",
      "conj in G: False\n"
     ]
    },
    {
     "ename": "ValueError",
     "evalue": "Bad matrix T, there is no virtual endomorphism",
     "output_type": "error",
     "traceback": [
      "\u001b[0;31m---------------------------------------------------------------------------\u001b[0m",
      "\u001b[0;31mValueError\u001b[0m                                Traceback (most recent call last)",
      "\u001b[0;32m<ipython-input-67-54be2d696419>\u001b[0m in \u001b[0;36m<module>\u001b[0;34m\u001b[0m\n\u001b[1;32m      1\u001b[0m \u001b[0mT\u001b[0m \u001b[0;34m=\u001b[0m \u001b[0mmatrix\u001b[0m\u001b[0;34m(\u001b[0m\u001b[0mQQ\u001b[0m\u001b[0;34m,\u001b[0m \u001b[0;34m[\u001b[0m\u001b[0;34m[\u001b[0m\u001b[0mInteger\u001b[0m\u001b[0;34m(\u001b[0m\u001b[0;36m0\u001b[0m\u001b[0;34m)\u001b[0m\u001b[0;34m,\u001b[0m \u001b[0mInteger\u001b[0m\u001b[0;34m(\u001b[0m\u001b[0;36m2\u001b[0m\u001b[0;34m)\u001b[0m\u001b[0;34m,\u001b[0m \u001b[0mInteger\u001b[0m\u001b[0;34m(\u001b[0m\u001b[0;36m0\u001b[0m\u001b[0;34m)\u001b[0m\u001b[0;34m]\u001b[0m\u001b[0;34m,\u001b[0m \u001b[0;34m[\u001b[0m\u001b[0mInteger\u001b[0m\u001b[0;34m(\u001b[0m\u001b[0;36m1\u001b[0m\u001b[0;34m)\u001b[0m\u001b[0;34m,\u001b[0m \u001b[0mInteger\u001b[0m\u001b[0;34m(\u001b[0m\u001b[0;36m0\u001b[0m\u001b[0;34m)\u001b[0m\u001b[0;34m,\u001b[0m \u001b[0mInteger\u001b[0m\u001b[0;34m(\u001b[0m\u001b[0;36m0\u001b[0m\u001b[0;34m)\u001b[0m\u001b[0;34m]\u001b[0m\u001b[0;34m,\u001b[0m \u001b[0;34m[\u001b[0m\u001b[0mInteger\u001b[0m\u001b[0;34m(\u001b[0m\u001b[0;36m0\u001b[0m\u001b[0;34m)\u001b[0m\u001b[0;34m,\u001b[0m \u001b[0mInteger\u001b[0m\u001b[0;34m(\u001b[0m\u001b[0;36m0\u001b[0m\u001b[0;34m)\u001b[0m\u001b[0;34m,\u001b[0m \u001b[0mInteger\u001b[0m\u001b[0;34m(\u001b[0m\u001b[0;36m1\u001b[0m\u001b[0;34m)\u001b[0m\u001b[0;34m]\u001b[0m\u001b[0;34m]\u001b[0m\u001b[0;34m)\u001b[0m\u001b[0;34m\u001b[0m\u001b[0;34m\u001b[0m\u001b[0m\n\u001b[0;32m----> 2\u001b[0;31m \u001b[0mself_similar\u001b[0m\u001b[0;34m(\u001b[0m\u001b[0mInteger\u001b[0m\u001b[0;34m(\u001b[0m\u001b[0;36m9\u001b[0m\u001b[0;34m)\u001b[0m\u001b[0;34m,\u001b[0m \u001b[0mT\u001b[0m\u001b[0;34m,\u001b[0m \u001b[0mverbose\u001b[0m\u001b[0;34m=\u001b[0m\u001b[0;32mTrue\u001b[0m\u001b[0;34m,\u001b[0m \u001b[0mgen_alphabet\u001b[0m\u001b[0;34m=\u001b[0m\u001b[0;32mTrue\u001b[0m\u001b[0;34m)\u001b[0m\u001b[0;34m\u001b[0m\u001b[0;34m\u001b[0m\u001b[0m\n\u001b[0m",
      "\u001b[0;32m<ipython-input-24-e63a1a1c0b22>\u001b[0m in \u001b[0;36mself_similar\u001b[0;34m(n, T, dim, verbose, gen_alphabet)\u001b[0m\n\u001b[1;32m     15\u001b[0m             \u001b[0mprint\u001b[0m\u001b[0;34m(\u001b[0m\u001b[0;34m\"conj in G:\"\u001b[0m\u001b[0;34m,\u001b[0m \u001b[0mconj\u001b[0m \u001b[0;32min\u001b[0m \u001b[0mG\u001b[0m\u001b[0;34m)\u001b[0m\u001b[0;34m\u001b[0m\u001b[0;34m\u001b[0m\u001b[0m\n\u001b[1;32m     16\u001b[0m         \u001b[0;32mif\u001b[0m \u001b[0mconj\u001b[0m \u001b[0;32mnot\u001b[0m \u001b[0;32min\u001b[0m \u001b[0mG\u001b[0m\u001b[0;34m:\u001b[0m\u001b[0;34m\u001b[0m\u001b[0;34m\u001b[0m\u001b[0m\n\u001b[0;32m---> 17\u001b[0;31m             \u001b[0;32mraise\u001b[0m \u001b[0mValueError\u001b[0m\u001b[0;34m(\u001b[0m\u001b[0;34m\"Bad matrix T, there is no virtual endomorphism\"\u001b[0m\u001b[0;34m)\u001b[0m\u001b[0;34m\u001b[0m\u001b[0;34m\u001b[0m\u001b[0m\n\u001b[0m\u001b[1;32m     18\u001b[0m         \u001b[0mconj_els\u001b[0m\u001b[0;34m.\u001b[0m\u001b[0mappend\u001b[0m\u001b[0;34m(\u001b[0m\u001b[0mconj\u001b[0m\u001b[0;34m)\u001b[0m\u001b[0;34m\u001b[0m\u001b[0;34m\u001b[0m\u001b[0m\n\u001b[1;32m     19\u001b[0m \u001b[0;34m\u001b[0m\u001b[0m\n",
      "\u001b[0;31mValueError\u001b[0m: Bad matrix T, there is no virtual endomorphism"
     ]
    }
   ],
   "source": [
    "T = matrix(QQ, [[0, 2, 0], [1, 0, 0], [0, 0, 1]])\n",
    "self_similar(9, T, verbose=True, gen_alphabet=True)"
   ]
  },
  {
   "cell_type": "code",
   "execution_count": 56,
   "metadata": {},
   "outputs": [
    {
     "name": "stdout",
     "output_type": "stream",
     "text": [
      "=====================================================================\n",
      "\n",
      "conjugate el:\n",
      "[ 0  1  0]\n",
      "[-1 -1  0]\n",
      "[ 0  0  1]\n",
      "conj in G: True\n",
      "\n",
      "conjugate el:\n",
      "[-1  0  0]\n",
      "[ 0 -1  0]\n",
      "[ 0  0  1]\n",
      "conj in G: True\n",
      "\n",
      "conjugate el:\n",
      "[ 1  1  0]\n",
      "[ 0 -1  0]\n",
      "[ 0  0  1]\n",
      "conj in G: True\n",
      "\n",
      "conjugate el:\n",
      "[1 0 0]\n",
      "[0 1 0]\n",
      "[2 2 1]\n",
      "conj in G: True\n",
      "\n",
      "conjugate el:\n",
      "[ 1  0  0]\n",
      "[ 0  1  0]\n",
      "[-2  0  1]\n",
      "conj in G: True\n",
      "----------------------------------------------------\n",
      "Index of subgroup H: 4\n",
      "Transversal:\n",
      "[1 0 0]\n",
      "[0 1 0]\n",
      "[0 0 1]\n",
      "\n",
      "[1 0 0]\n",
      "[0 1 0]\n",
      "[1 0 1]\n",
      "\n",
      "[1 0 0]\n",
      "[0 1 0]\n",
      "[0 1 1]\n",
      "\n",
      "[1 0 0]\n",
      "[0 1 0]\n",
      "[1 1 1]\n"
     ]
    },
    {
     "data": {
      "text/plain": [
       "{('a', 1): (\n",
       "   [ 0  1  0]\n",
       "   [-1 -1  0]\n",
       "1, [ 0  0  1]\n",
       "),\n",
       " ('a', 2): (\n",
       "   [ 0  1  0]\n",
       "   [-1 -1  0]\n",
       "4, [ 0  1  1]\n",
       "),\n",
       " ('a', 3): (\n",
       "   [ 0  1  0]\n",
       "   [-1 -1  0]\n",
       "2, [ 0  0  1]\n",
       "),\n",
       " ('a', 4): (\n",
       "   [ 0  1  0]\n",
       "   [-1 -1  0]\n",
       "3, [-1  0  1]\n",
       "),\n",
       " ('b', 1): (\n",
       "   [-1  0  0]\n",
       "   [ 0 -1  0]\n",
       "1, [ 0  0  1]\n",
       "),\n",
       " ('b', 2): (\n",
       "   [-1  0  0]\n",
       "   [ 0 -1  0]\n",
       "2, [ 0  1  1]\n",
       "),\n",
       " ('b', 3): (\n",
       "   [-1  0  0]\n",
       "   [ 0 -1  0]\n",
       "3, [-1 -1  1]\n",
       "),\n",
       " ('b', 4): (\n",
       "   [-1  0  0]\n",
       "   [ 0 -1  0]\n",
       "4, [-1  0  1]\n",
       "),\n",
       " ('c', 1): (\n",
       "   [-1  0  0]\n",
       "   [ 1  1  0]\n",
       "1, [ 0  0  1]\n",
       "),\n",
       " ('c', 2): (\n",
       "   [-1  0  0]\n",
       "   [ 1  1  0]\n",
       "3, [ 0  1  1]\n",
       "),\n",
       " ('c', 3): (\n",
       "   [-1  0  0]\n",
       "   [ 1  1  0]\n",
       "2, [-1 -1  1]\n",
       "),\n",
       " ('c', 4): (\n",
       "   [-1  0  0]\n",
       "   [ 1  1  0]\n",
       "4, [-1  0  1]\n",
       "),\n",
       " ('d', 1): (\n",
       "   [ 1  0  0]\n",
       "   [ 0  1  0]\n",
       "2, [ 0 -1  1]\n",
       "),\n",
       " ('d', 2): (\n",
       "   [1 0 0]\n",
       "   [0 1 0]\n",
       "1, [0 0 1]\n",
       "),\n",
       " ('d', 3): (\n",
       "   [ 1  0  0]\n",
       "   [ 0  1  0]\n",
       "4, [ 0 -1  1]\n",
       "),\n",
       " ('d', 4): (\n",
       "   [1 0 0]\n",
       "   [0 1 0]\n",
       "3, [0 0 1]\n",
       "),\n",
       " ('e', 1): (\n",
       "   [1 0 0]\n",
       "   [0 1 0]\n",
       "3, [1 1 1]\n",
       "),\n",
       " ('e', 2): (\n",
       "   [1 0 0]\n",
       "   [0 1 0]\n",
       "4, [1 1 1]\n",
       "),\n",
       " ('e', 3): (\n",
       "   [1 0 0]\n",
       "   [0 1 0]\n",
       "1, [0 0 1]\n",
       "),\n",
       " ('e', 4): (\n",
       "   [1 0 0]\n",
       "   [0 1 0]\n",
       "2, [0 0 1]\n",
       ")}"
      ]
     },
     "execution_count": 56,
     "metadata": {},
     "output_type": "execute_result"
    }
   ],
   "source": [
    "T = matrix(QQ, [[2, 2, 0], [-2, 0, 0], [0, 0, 1]])\n",
    "self_similar(17, T, verbose=True, gen_alphabet=True)"
   ]
  },
  {
   "cell_type": "code",
   "execution_count": 31,
   "metadata": {},
   "outputs": [
    {
     "name": "stdout",
     "output_type": "stream",
     "text": [
      "=====================================================================\n",
      "\n",
      "conjugate el:\n",
      "[-1  0  0]\n",
      "[ 0 -1  0]\n",
      "[ 0  0  1]\n",
      "conj in G: True\n",
      "\n",
      "conjugate el:\n",
      "[  1   0   0]\n",
      "[  0  -1   0]\n",
      "[  0 3/2   1]\n",
      "conj in G: False\n"
     ]
    },
    {
     "ename": "ValueError",
     "evalue": "Bad matrix T, there is no virtual endomorphism",
     "output_type": "error",
     "traceback": [
      "\u001b[0;31m---------------------------------------------------------------------------\u001b[0m",
      "\u001b[0;31mValueError\u001b[0m                                Traceback (most recent call last)",
      "\u001b[0;32m<ipython-input-31-c6858f93087b>\u001b[0m in \u001b[0;36m<module>\u001b[0;34m\u001b[0m\n\u001b[0;32m----> 1\u001b[0;31m \u001b[0mself_similar\u001b[0m\u001b[0;34m(\u001b[0m\u001b[0mInteger\u001b[0m\u001b[0;34m(\u001b[0m\u001b[0;36m7\u001b[0m\u001b[0;34m)\u001b[0m\u001b[0;34m,\u001b[0m \u001b[0mT\u001b[0m\u001b[0;34m,\u001b[0m \u001b[0mverbose\u001b[0m\u001b[0;34m=\u001b[0m\u001b[0;32mTrue\u001b[0m\u001b[0;34m,\u001b[0m \u001b[0mgen_alphabet\u001b[0m\u001b[0;34m=\u001b[0m\u001b[0;32mTrue\u001b[0m\u001b[0;34m)\u001b[0m\u001b[0;34m\u001b[0m\u001b[0;34m\u001b[0m\u001b[0m\n\u001b[0m",
      "\u001b[0;32m<ipython-input-24-e63a1a1c0b22>\u001b[0m in \u001b[0;36mself_similar\u001b[0;34m(n, T, dim, verbose, gen_alphabet)\u001b[0m\n\u001b[1;32m     15\u001b[0m             \u001b[0mprint\u001b[0m\u001b[0;34m(\u001b[0m\u001b[0;34m\"conj in G:\"\u001b[0m\u001b[0;34m,\u001b[0m \u001b[0mconj\u001b[0m \u001b[0;32min\u001b[0m \u001b[0mG\u001b[0m\u001b[0;34m)\u001b[0m\u001b[0;34m\u001b[0m\u001b[0;34m\u001b[0m\u001b[0m\n\u001b[1;32m     16\u001b[0m         \u001b[0;32mif\u001b[0m \u001b[0mconj\u001b[0m \u001b[0;32mnot\u001b[0m \u001b[0;32min\u001b[0m \u001b[0mG\u001b[0m\u001b[0;34m:\u001b[0m\u001b[0;34m\u001b[0m\u001b[0;34m\u001b[0m\u001b[0m\n\u001b[0;32m---> 17\u001b[0;31m             \u001b[0;32mraise\u001b[0m \u001b[0mValueError\u001b[0m\u001b[0;34m(\u001b[0m\u001b[0;34m\"Bad matrix T, there is no virtual endomorphism\"\u001b[0m\u001b[0;34m)\u001b[0m\u001b[0;34m\u001b[0m\u001b[0;34m\u001b[0m\u001b[0m\n\u001b[0m\u001b[1;32m     18\u001b[0m         \u001b[0mconj_els\u001b[0m\u001b[0;34m.\u001b[0m\u001b[0mappend\u001b[0m\u001b[0;34m(\u001b[0m\u001b[0mconj\u001b[0m\u001b[0;34m)\u001b[0m\u001b[0;34m\u001b[0m\u001b[0;34m\u001b[0m\u001b[0m\n\u001b[1;32m     19\u001b[0m \u001b[0;34m\u001b[0m\u001b[0m\n",
      "\u001b[0;31mValueError\u001b[0m: Bad matrix T, there is no virtual endomorphism"
     ]
    }
   ],
   "source": [
    "self_similar(7, T, verbose=True, gen_alphabet=True)"
   ]
  },
  {
   "cell_type": "code",
   "execution_count": 45,
   "metadata": {},
   "outputs": [
    {
     "data": {
      "text/plain": [
       "x^2 - a^2"
      ]
     },
     "execution_count": 45,
     "metadata": {},
     "output_type": "execute_result"
    }
   ],
   "source": [
    "var('a b c d')\n",
    "A = matrix([[0, a], [a, 0]])\n",
    "A.charpoly()"
   ]
  },
  {
   "cell_type": "code",
   "execution_count": 49,
   "metadata": {},
   "outputs": [
    {
     "data": {
      "text/plain": [
       "[-x  a]\n",
       "[ a -x]"
      ]
     },
     "execution_count": 49,
     "metadata": {},
     "output_type": "execute_result"
    }
   ],
   "source": [
    "A - x"
   ]
  },
  {
   "cell_type": "code",
   "execution_count": 50,
   "metadata": {},
   "outputs": [
    {
     "data": {
      "text/plain": [
       "Group([ [ [ 0, 1 ], [ -1, -1 ] ] ])"
      ]
     },
     "execution_count": 50,
     "metadata": {},
     "output_type": "execute_result"
    }
   ],
   "source": [
    "G = gap.SpaceGroupIT(2, 13)\n",
    "G.PointGroup()"
   ]
  }
 ],
 "metadata": {
  "kernelspec": {
   "display_name": "SageMath 9.7",
   "language": "sage",
   "name": "sagemath-dev"
  },
  "language_info": {
   "codemirror_mode": {
    "name": "ipython",
    "version": 3
   },
   "file_extension": ".py",
   "mimetype": "text/x-python",
   "name": "python",
   "nbconvert_exporter": "python",
   "pygments_lexer": "ipython3",
   "version": "3.8.10"
  }
 },
 "nbformat": 4,
 "nbformat_minor": 4
}
